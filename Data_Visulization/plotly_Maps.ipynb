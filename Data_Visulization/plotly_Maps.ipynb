{
 "cells": [
  {
   "cell_type": "code",
   "execution_count": 1,
   "id": "85e4e5d9",
   "metadata": {},
   "outputs": [],
   "source": [
    "# import libraries\n",
    "import pandas as pd\n",
    "import numpy as np\n",
    "import matplotlib.pyplot as plt\n",
    "import seaborn as sns\n",
    "import wbdata\n",
    "import datetime\n",
    "import plotly.express as px"
   ]
  },
  {
   "cell_type": "code",
   "execution_count": 2,
   "id": "418ddb2b",
   "metadata": {},
   "outputs": [
    {
     "data": {
      "text/html": [
       "<div>\n",
       "<style scoped>\n",
       "    .dataframe tbody tr th:only-of-type {\n",
       "        vertical-align: middle;\n",
       "    }\n",
       "\n",
       "    .dataframe tbody tr th {\n",
       "        vertical-align: top;\n",
       "    }\n",
       "\n",
       "    .dataframe thead th {\n",
       "        text-align: right;\n",
       "    }\n",
       "</style>\n",
       "<table border=\"1\" class=\"dataframe\">\n",
       "  <thead>\n",
       "    <tr style=\"text-align: right;\">\n",
       "      <th></th>\n",
       "      <th>Country</th>\n",
       "      <th>Year</th>\n",
       "      <th>total_population</th>\n",
       "    </tr>\n",
       "  </thead>\n",
       "  <tbody>\n",
       "    <tr>\n",
       "      <th>11587</th>\n",
       "      <td>Moldova</td>\n",
       "      <td>2007</td>\n",
       "      <td>2874299.0</td>\n",
       "    </tr>\n",
       "    <tr>\n",
       "      <th>3726</th>\n",
       "      <td>Armenia</td>\n",
       "      <td>2003</td>\n",
       "      <td>3182500.0</td>\n",
       "    </tr>\n",
       "    <tr>\n",
       "      <th>7027</th>\n",
       "      <td>El Salvador</td>\n",
       "      <td>2017</td>\n",
       "      <td>6213533.0</td>\n",
       "    </tr>\n",
       "    <tr>\n",
       "      <th>8737</th>\n",
       "      <td>Honduras</td>\n",
       "      <td>1997</td>\n",
       "      <td>6071454.0</td>\n",
       "    </tr>\n",
       "    <tr>\n",
       "      <th>7841</th>\n",
       "      <td>Gambia, The</td>\n",
       "      <td>1983</td>\n",
       "      <td>794525.0</td>\n",
       "    </tr>\n",
       "  </tbody>\n",
       "</table>\n",
       "</div>"
      ],
      "text/plain": [
       "           Country  Year  total_population\n",
       "11587      Moldova  2007         2874299.0\n",
       "3726       Armenia  2003         3182500.0\n",
       "7027   El Salvador  2017         6213533.0\n",
       "8737      Honduras  1997         6071454.0\n",
       "7841   Gambia, The  1983          794525.0"
      ]
     },
     "execution_count": 2,
     "metadata": {},
     "output_type": "execute_result"
    }
   ],
   "source": [
    "# fetch data of world bank total population and gdp per capita for the year 2023\n",
    "import wbdata\n",
    "import pandas as pd\n",
    "\n",
    "# Define the indicator for population (SP.POP.TOTL)\n",
    "indicator = {\n",
    "    'SP.POP.TOTL': 'total_population'\n",
    "             }\n",
    "\n",
    "# Define countries (India and Pakistan)\n",
    "# countries = ['IN', 'PK', 'BD', 'LK', 'AF']  # 'IN' for India, 'PK' for Pakistan\n",
    "\n",
    "# Fetch data\n",
    "data = wbdata.get_dataframe(indicator, \n",
    "                            # country=countries,\n",
    "                            )\n",
    "\n",
    "# Reset index to convert it into a DataFrame\n",
    "data.reset_index(inplace=True)\n",
    "\n",
    "# Rename columns for clarity\n",
    "data.rename(columns={'country': 'Country', 'date': 'Year'}, inplace=True)\n",
    "\n",
    "# Ensure Year column is numeric\n",
    "data['Year'] = pd.to_numeric(data['Year'])\n",
    "\n",
    "# Filter data between 1960 and 2023\n",
    "df = data[(data['Year'] <= 2023) & (data['Year'] >= 1960)]\n",
    "df.sample(5, random_state=42)\n",
    "\n",
    "# # Save to a CSV file (optional)\n",
    "# data.to_csv(\"./dataset/total_population.csv\", index=False)\n",
    "\n",
    "# # Display the first few rows of data\n",
    "# print(data.head())"
   ]
  },
  {
   "cell_type": "code",
   "execution_count": 3,
   "id": "d7398a41",
   "metadata": {},
   "outputs": [
    {
     "data": {
      "text/html": [
       "<div>\n",
       "<style scoped>\n",
       "    .dataframe tbody tr th:only-of-type {\n",
       "        vertical-align: middle;\n",
       "    }\n",
       "\n",
       "    .dataframe tbody tr th {\n",
       "        vertical-align: top;\n",
       "    }\n",
       "\n",
       "    .dataframe thead th {\n",
       "        text-align: right;\n",
       "    }\n",
       "</style>\n",
       "<table border=\"1\" class=\"dataframe\">\n",
       "  <thead>\n",
       "    <tr style=\"text-align: right;\">\n",
       "      <th></th>\n",
       "      <th>Country</th>\n",
       "      <th>Year</th>\n",
       "      <th>total_population</th>\n",
       "    </tr>\n",
       "  </thead>\n",
       "  <tbody>\n",
       "    <tr>\n",
       "      <th>11587</th>\n",
       "      <td>Moldova</td>\n",
       "      <td>2007</td>\n",
       "      <td>2874299.0</td>\n",
       "    </tr>\n",
       "    <tr>\n",
       "      <th>3726</th>\n",
       "      <td>Armenia</td>\n",
       "      <td>2003</td>\n",
       "      <td>3182500.0</td>\n",
       "    </tr>\n",
       "    <tr>\n",
       "      <th>7027</th>\n",
       "      <td>El Salvador</td>\n",
       "      <td>2017</td>\n",
       "      <td>6213533.0</td>\n",
       "    </tr>\n",
       "    <tr>\n",
       "      <th>8737</th>\n",
       "      <td>Honduras</td>\n",
       "      <td>1997</td>\n",
       "      <td>6071454.0</td>\n",
       "    </tr>\n",
       "    <tr>\n",
       "      <th>7841</th>\n",
       "      <td>Gambia, The</td>\n",
       "      <td>1983</td>\n",
       "      <td>794525.0</td>\n",
       "    </tr>\n",
       "  </tbody>\n",
       "</table>\n",
       "</div>"
      ],
      "text/plain": [
       "           Country  Year  total_population\n",
       "11587      Moldova  2007         2874299.0\n",
       "3726       Armenia  2003         3182500.0\n",
       "7027   El Salvador  2017         6213533.0\n",
       "8737      Honduras  1997         6071454.0\n",
       "7841   Gambia, The  1983          794525.0"
      ]
     },
     "execution_count": 3,
     "metadata": {},
     "output_type": "execute_result"
    }
   ],
   "source": [
    "df.sample(5, random_state=42)"
   ]
  },
  {
   "cell_type": "code",
   "execution_count": 4,
   "id": "62b27809",
   "metadata": {},
   "outputs": [
    {
     "name": "stdout",
     "output_type": "stream",
     "text": [
      "<class 'wbdata.client.DataFrame'>\n",
      "Index: 17024 entries, 1 to 17289\n",
      "Data columns (total 3 columns):\n",
      " #   Column            Non-Null Count  Dtype  \n",
      "---  ------            --------------  -----  \n",
      " 0   Country           17024 non-null  object \n",
      " 1   Year              17024 non-null  int64  \n",
      " 2   total_population  16930 non-null  float64\n",
      "dtypes: float64(1), int64(1), object(1)\n",
      "memory usage: 532.0+ KB\n"
     ]
    }
   ],
   "source": [
    "df.info()"
   ]
  },
  {
   "cell_type": "code",
   "execution_count": 5,
   "id": "7d7b9133",
   "metadata": {},
   "outputs": [
    {
     "data": {
      "application/vnd.plotly.v1+json": {
       "config": {
        "plotlyServerURL": "https://plot.ly"
       },
       "data": [
        {
         "coloraxis": "coloraxis",
         "geo": "geo",
         "hovertemplate": "<b>%{hovertext}</b><br><br>Year=2023<br>Country=%{location}<br>Total Population=%{z}<extra></extra>",
         "hovertext": [
          "Africa Eastern and Southern",
          "Africa Western and Central",
          "Arab World",
          "Caribbean small states",
          "Central Europe and the Baltics",
          "Early-demographic dividend",
          "East Asia & Pacific",
          "East Asia & Pacific (excluding high income)",
          "East Asia & Pacific (IDA & IBRD countries)",
          "Euro area",
          "Europe & Central Asia",
          "Europe & Central Asia (excluding high income)",
          "Europe & Central Asia (IDA & IBRD countries)",
          "European Union",
          "Fragile and conflict affected situations",
          "Heavily indebted poor countries (HIPC)",
          "High income",
          "IBRD only",
          "IDA & IBRD total",
          "IDA blend",
          "IDA only",
          "IDA total",
          "Late-demographic dividend",
          "Latin America & Caribbean",
          "Latin America & Caribbean (excluding high income)",
          "Latin America & the Caribbean (IDA & IBRD countries)",
          "Least developed countries: UN classification",
          "Low & middle income",
          "Low income",
          "Lower middle income",
          "Middle East & North Africa",
          "Middle East & North Africa (excluding high income)",
          "Middle East & North Africa (IDA & IBRD countries)",
          "Middle income",
          "North America",
          "Not classified",
          "OECD members",
          "Other small states",
          "Pacific island small states",
          "Post-demographic dividend",
          "Pre-demographic dividend",
          "Small states",
          "South Asia",
          "South Asia (IDA & IBRD)",
          "Sub-Saharan Africa",
          "Sub-Saharan Africa (excluding high income)",
          "Sub-Saharan Africa (IDA & IBRD countries)",
          "Upper middle income",
          "World",
          "Afghanistan",
          "Albania",
          "Algeria",
          "American Samoa",
          "Andorra",
          "Angola",
          "Antigua and Barbuda",
          "Argentina",
          "Armenia",
          "Aruba",
          "Australia",
          "Austria",
          "Azerbaijan",
          "Bahamas, The",
          "Bahrain",
          "Bangladesh",
          "Barbados",
          "Belarus",
          "Belgium",
          "Belize",
          "Benin",
          "Bermuda",
          "Bhutan",
          "Bolivia",
          "Bosnia and Herzegovina",
          "Botswana",
          "Brazil",
          "British Virgin Islands",
          "Brunei Darussalam",
          "Bulgaria",
          "Burkina Faso",
          "Burundi",
          "Cabo Verde",
          "Cambodia",
          "Cameroon",
          "Canada",
          "Cayman Islands",
          "Central African Republic",
          "Chad",
          "Channel Islands",
          "Chile",
          "China",
          "Colombia",
          "Comoros",
          "Congo, Dem. Rep.",
          "Congo, Rep.",
          "Costa Rica",
          "Cote d'Ivoire",
          "Croatia",
          "Cuba",
          "Curacao",
          "Cyprus",
          "Czechia",
          "Denmark",
          "Djibouti",
          "Dominica",
          "Dominican Republic",
          "Ecuador",
          "Egypt, Arab Rep.",
          "El Salvador",
          "Equatorial Guinea",
          "Eritrea",
          "Estonia",
          "Eswatini",
          "Ethiopia",
          "Faroe Islands",
          "Fiji",
          "Finland",
          "France",
          "French Polynesia",
          "Gabon",
          "Gambia, The",
          "Georgia",
          "Germany",
          "Ghana",
          "Gibraltar",
          "Greece",
          "Greenland",
          "Grenada",
          "Guam",
          "Guatemala",
          "Guinea",
          "Guinea-Bissau",
          "Guyana",
          "Haiti",
          "Honduras",
          "Hong Kong SAR, China",
          "Hungary",
          "Iceland",
          "India",
          "Indonesia",
          "Iran, Islamic Rep.",
          "Iraq",
          "Ireland",
          "Isle of Man",
          "Israel",
          "Italy",
          "Jamaica",
          "Japan",
          "Jordan",
          "Kazakhstan",
          "Kenya",
          "Kiribati",
          "Korea, Dem. People's Rep.",
          "Korea, Rep.",
          "Kosovo",
          "Kuwait",
          "Kyrgyz Republic",
          "Lao PDR",
          "Latvia",
          "Lebanon",
          "Lesotho",
          "Liberia",
          "Libya",
          "Liechtenstein",
          "Lithuania",
          "Luxembourg",
          "Macao SAR, China",
          "Madagascar",
          "Malawi",
          "Malaysia",
          "Maldives",
          "Mali",
          "Malta",
          "Marshall Islands",
          "Mauritania",
          "Mauritius",
          "Mexico",
          "Micronesia, Fed. Sts.",
          "Moldova",
          "Monaco",
          "Mongolia",
          "Montenegro",
          "Morocco",
          "Mozambique",
          "Myanmar",
          "Namibia",
          "Nauru",
          "Nepal",
          "Netherlands",
          "New Caledonia",
          "New Zealand",
          "Nicaragua",
          "Niger",
          "Nigeria",
          "North Macedonia",
          "Northern Mariana Islands",
          "Norway",
          "Oman",
          "Pakistan",
          "Palau",
          "Panama",
          "Papua New Guinea",
          "Paraguay",
          "Peru",
          "Philippines",
          "Poland",
          "Portugal",
          "Puerto Rico",
          "Qatar",
          "Romania",
          "Russian Federation",
          "Rwanda",
          "Samoa",
          "San Marino",
          "Sao Tome and Principe",
          "Saudi Arabia",
          "Senegal",
          "Serbia",
          "Seychelles",
          "Sierra Leone",
          "Singapore",
          "Sint Maarten (Dutch part)",
          "Slovak Republic",
          "Slovenia",
          "Solomon Islands",
          "Somalia",
          "South Africa",
          "South Sudan",
          "Spain",
          "Sri Lanka",
          "St. Kitts and Nevis",
          "St. Lucia",
          "St. Martin (French part)",
          "St. Vincent and the Grenadines",
          "Sudan",
          "Suriname",
          "Sweden",
          "Switzerland",
          "Syrian Arab Republic",
          "Tajikistan",
          "Tanzania",
          "Thailand",
          "Timor-Leste",
          "Togo",
          "Tonga",
          "Trinidad and Tobago",
          "Tunisia",
          "Turkiye",
          "Turkmenistan",
          "Turks and Caicos Islands",
          "Tuvalu",
          "Uganda",
          "Ukraine",
          "United Arab Emirates",
          "United Kingdom",
          "United States",
          "Uruguay",
          "Uzbekistan",
          "Vanuatu",
          "Venezuela, RB",
          "Viet Nam",
          "Virgin Islands (U.S.)",
          "West Bank and Gaza",
          "Yemen, Rep.",
          "Zambia",
          "Zimbabwe"
         ],
         "locationmode": "country names",
         "locations": [
          "Africa Eastern and Southern",
          "Africa Western and Central",
          "Arab World",
          "Caribbean small states",
          "Central Europe and the Baltics",
          "Early-demographic dividend",
          "East Asia & Pacific",
          "East Asia & Pacific (excluding high income)",
          "East Asia & Pacific (IDA & IBRD countries)",
          "Euro area",
          "Europe & Central Asia",
          "Europe & Central Asia (excluding high income)",
          "Europe & Central Asia (IDA & IBRD countries)",
          "European Union",
          "Fragile and conflict affected situations",
          "Heavily indebted poor countries (HIPC)",
          "High income",
          "IBRD only",
          "IDA & IBRD total",
          "IDA blend",
          "IDA only",
          "IDA total",
          "Late-demographic dividend",
          "Latin America & Caribbean",
          "Latin America & Caribbean (excluding high income)",
          "Latin America & the Caribbean (IDA & IBRD countries)",
          "Least developed countries: UN classification",
          "Low & middle income",
          "Low income",
          "Lower middle income",
          "Middle East & North Africa",
          "Middle East & North Africa (excluding high income)",
          "Middle East & North Africa (IDA & IBRD countries)",
          "Middle income",
          "North America",
          "Not classified",
          "OECD members",
          "Other small states",
          "Pacific island small states",
          "Post-demographic dividend",
          "Pre-demographic dividend",
          "Small states",
          "South Asia",
          "South Asia (IDA & IBRD)",
          "Sub-Saharan Africa",
          "Sub-Saharan Africa (excluding high income)",
          "Sub-Saharan Africa (IDA & IBRD countries)",
          "Upper middle income",
          "World",
          "Afghanistan",
          "Albania",
          "Algeria",
          "American Samoa",
          "Andorra",
          "Angola",
          "Antigua and Barbuda",
          "Argentina",
          "Armenia",
          "Aruba",
          "Australia",
          "Austria",
          "Azerbaijan",
          "Bahamas, The",
          "Bahrain",
          "Bangladesh",
          "Barbados",
          "Belarus",
          "Belgium",
          "Belize",
          "Benin",
          "Bermuda",
          "Bhutan",
          "Bolivia",
          "Bosnia and Herzegovina",
          "Botswana",
          "Brazil",
          "British Virgin Islands",
          "Brunei Darussalam",
          "Bulgaria",
          "Burkina Faso",
          "Burundi",
          "Cabo Verde",
          "Cambodia",
          "Cameroon",
          "Canada",
          "Cayman Islands",
          "Central African Republic",
          "Chad",
          "Channel Islands",
          "Chile",
          "China",
          "Colombia",
          "Comoros",
          "Congo, Dem. Rep.",
          "Congo, Rep.",
          "Costa Rica",
          "Cote d'Ivoire",
          "Croatia",
          "Cuba",
          "Curacao",
          "Cyprus",
          "Czechia",
          "Denmark",
          "Djibouti",
          "Dominica",
          "Dominican Republic",
          "Ecuador",
          "Egypt, Arab Rep.",
          "El Salvador",
          "Equatorial Guinea",
          "Eritrea",
          "Estonia",
          "Eswatini",
          "Ethiopia",
          "Faroe Islands",
          "Fiji",
          "Finland",
          "France",
          "French Polynesia",
          "Gabon",
          "Gambia, The",
          "Georgia",
          "Germany",
          "Ghana",
          "Gibraltar",
          "Greece",
          "Greenland",
          "Grenada",
          "Guam",
          "Guatemala",
          "Guinea",
          "Guinea-Bissau",
          "Guyana",
          "Haiti",
          "Honduras",
          "Hong Kong SAR, China",
          "Hungary",
          "Iceland",
          "India",
          "Indonesia",
          "Iran, Islamic Rep.",
          "Iraq",
          "Ireland",
          "Isle of Man",
          "Israel",
          "Italy",
          "Jamaica",
          "Japan",
          "Jordan",
          "Kazakhstan",
          "Kenya",
          "Kiribati",
          "Korea, Dem. People's Rep.",
          "Korea, Rep.",
          "Kosovo",
          "Kuwait",
          "Kyrgyz Republic",
          "Lao PDR",
          "Latvia",
          "Lebanon",
          "Lesotho",
          "Liberia",
          "Libya",
          "Liechtenstein",
          "Lithuania",
          "Luxembourg",
          "Macao SAR, China",
          "Madagascar",
          "Malawi",
          "Malaysia",
          "Maldives",
          "Mali",
          "Malta",
          "Marshall Islands",
          "Mauritania",
          "Mauritius",
          "Mexico",
          "Micronesia, Fed. Sts.",
          "Moldova",
          "Monaco",
          "Mongolia",
          "Montenegro",
          "Morocco",
          "Mozambique",
          "Myanmar",
          "Namibia",
          "Nauru",
          "Nepal",
          "Netherlands",
          "New Caledonia",
          "New Zealand",
          "Nicaragua",
          "Niger",
          "Nigeria",
          "North Macedonia",
          "Northern Mariana Islands",
          "Norway",
          "Oman",
          "Pakistan",
          "Palau",
          "Panama",
          "Papua New Guinea",
          "Paraguay",
          "Peru",
          "Philippines",
          "Poland",
          "Portugal",
          "Puerto Rico",
          "Qatar",
          "Romania",
          "Russian Federation",
          "Rwanda",
          "Samoa",
          "San Marino",
          "Sao Tome and Principe",
          "Saudi Arabia",
          "Senegal",
          "Serbia",
          "Seychelles",
          "Sierra Leone",
          "Singapore",
          "Sint Maarten (Dutch part)",
          "Slovak Republic",
          "Slovenia",
          "Solomon Islands",
          "Somalia",
          "South Africa",
          "South Sudan",
          "Spain",
          "Sri Lanka",
          "St. Kitts and Nevis",
          "St. Lucia",
          "St. Martin (French part)",
          "St. Vincent and the Grenadines",
          "Sudan",
          "Suriname",
          "Sweden",
          "Switzerland",
          "Syrian Arab Republic",
          "Tajikistan",
          "Tanzania",
          "Thailand",
          "Timor-Leste",
          "Togo",
          "Tonga",
          "Trinidad and Tobago",
          "Tunisia",
          "Turkiye",
          "Turkmenistan",
          "Turks and Caicos Islands",
          "Tuvalu",
          "Uganda",
          "Ukraine",
          "United Arab Emirates",
          "United Kingdom",
          "United States",
          "Uruguay",
          "Uzbekistan",
          "Vanuatu",
          "Venezuela, RB",
          "Viet Nam",
          "Virgin Islands (U.S.)",
          "West Bank and Gaza",
          "Yemen, Rep.",
          "Zambia",
          "Zimbabwe"
         ],
         "name": "",
         "type": "choropleth",
         "z": {
          "bdata": "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",
          "dtype": "f8"
         }
        }
       ],
       "layout": {
        "coloraxis": {
         "colorbar": {
          "title": {
           "text": "Total Population"
          }
         },
         "colorscale": [
          [
           0,
           "#0d0887"
          ],
          [
           0.1111111111111111,
           "#46039f"
          ],
          [
           0.2222222222222222,
           "#7201a8"
          ],
          [
           0.3333333333333333,
           "#9c179e"
          ],
          [
           0.4444444444444444,
           "#bd3786"
          ],
          [
           0.5555555555555556,
           "#d8576b"
          ],
          [
           0.6666666666666666,
           "#ed7953"
          ],
          [
           0.7777777777777778,
           "#fb9f3a"
          ],
          [
           0.8888888888888888,
           "#fdca26"
          ],
          [
           1,
           "#f0f921"
          ]
         ]
        },
        "geo": {
         "center": {},
         "domain": {
          "x": [
           0,
           1
          ],
          "y": [
           0,
           1
          ]
         }
        },
        "legend": {
         "tracegroupgap": 0
        },
        "template": {
         "data": {
          "bar": [
           {
            "error_x": {
             "color": "#2a3f5f"
            },
            "error_y": {
             "color": "#2a3f5f"
            },
            "marker": {
             "line": {
              "color": "#E5ECF6",
              "width": 0.5
             },
             "pattern": {
              "fillmode": "overlay",
              "size": 10,
              "solidity": 0.2
             }
            },
            "type": "bar"
           }
          ],
          "barpolar": [
           {
            "marker": {
             "line": {
              "color": "#E5ECF6",
              "width": 0.5
             },
             "pattern": {
              "fillmode": "overlay",
              "size": 10,
              "solidity": 0.2
             }
            },
            "type": "barpolar"
           }
          ],
          "carpet": [
           {
            "aaxis": {
             "endlinecolor": "#2a3f5f",
             "gridcolor": "white",
             "linecolor": "white",
             "minorgridcolor": "white",
             "startlinecolor": "#2a3f5f"
            },
            "baxis": {
             "endlinecolor": "#2a3f5f",
             "gridcolor": "white",
             "linecolor": "white",
             "minorgridcolor": "white",
             "startlinecolor": "#2a3f5f"
            },
            "type": "carpet"
           }
          ],
          "choropleth": [
           {
            "colorbar": {
             "outlinewidth": 0,
             "ticks": ""
            },
            "type": "choropleth"
           }
          ],
          "contour": [
           {
            "colorbar": {
             "outlinewidth": 0,
             "ticks": ""
            },
            "colorscale": [
             [
              0,
              "#0d0887"
             ],
             [
              0.1111111111111111,
              "#46039f"
             ],
             [
              0.2222222222222222,
              "#7201a8"
             ],
             [
              0.3333333333333333,
              "#9c179e"
             ],
             [
              0.4444444444444444,
              "#bd3786"
             ],
             [
              0.5555555555555556,
              "#d8576b"
             ],
             [
              0.6666666666666666,
              "#ed7953"
             ],
             [
              0.7777777777777778,
              "#fb9f3a"
             ],
             [
              0.8888888888888888,
              "#fdca26"
             ],
             [
              1,
              "#f0f921"
             ]
            ],
            "type": "contour"
           }
          ],
          "contourcarpet": [
           {
            "colorbar": {
             "outlinewidth": 0,
             "ticks": ""
            },
            "type": "contourcarpet"
           }
          ],
          "heatmap": [
           {
            "colorbar": {
             "outlinewidth": 0,
             "ticks": ""
            },
            "colorscale": [
             [
              0,
              "#0d0887"
             ],
             [
              0.1111111111111111,
              "#46039f"
             ],
             [
              0.2222222222222222,
              "#7201a8"
             ],
             [
              0.3333333333333333,
              "#9c179e"
             ],
             [
              0.4444444444444444,
              "#bd3786"
             ],
             [
              0.5555555555555556,
              "#d8576b"
             ],
             [
              0.6666666666666666,
              "#ed7953"
             ],
             [
              0.7777777777777778,
              "#fb9f3a"
             ],
             [
              0.8888888888888888,
              "#fdca26"
             ],
             [
              1,
              "#f0f921"
             ]
            ],
            "type": "heatmap"
           }
          ],
          "histogram": [
           {
            "marker": {
             "pattern": {
              "fillmode": "overlay",
              "size": 10,
              "solidity": 0.2
             }
            },
            "type": "histogram"
           }
          ],
          "histogram2d": [
           {
            "colorbar": {
             "outlinewidth": 0,
             "ticks": ""
            },
            "colorscale": [
             [
              0,
              "#0d0887"
             ],
             [
              0.1111111111111111,
              "#46039f"
             ],
             [
              0.2222222222222222,
              "#7201a8"
             ],
             [
              0.3333333333333333,
              "#9c179e"
             ],
             [
              0.4444444444444444,
              "#bd3786"
             ],
             [
              0.5555555555555556,
              "#d8576b"
             ],
             [
              0.6666666666666666,
              "#ed7953"
             ],
             [
              0.7777777777777778,
              "#fb9f3a"
             ],
             [
              0.8888888888888888,
              "#fdca26"
             ],
             [
              1,
              "#f0f921"
             ]
            ],
            "type": "histogram2d"
           }
          ],
          "histogram2dcontour": [
           {
            "colorbar": {
             "outlinewidth": 0,
             "ticks": ""
            },
            "colorscale": [
             [
              0,
              "#0d0887"
             ],
             [
              0.1111111111111111,
              "#46039f"
             ],
             [
              0.2222222222222222,
              "#7201a8"
             ],
             [
              0.3333333333333333,
              "#9c179e"
             ],
             [
              0.4444444444444444,
              "#bd3786"
             ],
             [
              0.5555555555555556,
              "#d8576b"
             ],
             [
              0.6666666666666666,
              "#ed7953"
             ],
             [
              0.7777777777777778,
              "#fb9f3a"
             ],
             [
              0.8888888888888888,
              "#fdca26"
             ],
             [
              1,
              "#f0f921"
             ]
            ],
            "type": "histogram2dcontour"
           }
          ],
          "mesh3d": [
           {
            "colorbar": {
             "outlinewidth": 0,
             "ticks": ""
            },
            "type": "mesh3d"
           }
          ],
          "parcoords": [
           {
            "line": {
             "colorbar": {
              "outlinewidth": 0,
              "ticks": ""
             }
            },
            "type": "parcoords"
           }
          ],
          "pie": [
           {
            "automargin": true,
            "type": "pie"
           }
          ],
          "scatter": [
           {
            "fillpattern": {
             "fillmode": "overlay",
             "size": 10,
             "solidity": 0.2
            },
            "type": "scatter"
           }
          ],
          "scatter3d": [
           {
            "line": {
             "colorbar": {
              "outlinewidth": 0,
              "ticks": ""
             }
            },
            "marker": {
             "colorbar": {
              "outlinewidth": 0,
              "ticks": ""
             }
            },
            "type": "scatter3d"
           }
          ],
          "scattercarpet": [
           {
            "marker": {
             "colorbar": {
              "outlinewidth": 0,
              "ticks": ""
             }
            },
            "type": "scattercarpet"
           }
          ],
          "scattergeo": [
           {
            "marker": {
             "colorbar": {
              "outlinewidth": 0,
              "ticks": ""
             }
            },
            "type": "scattergeo"
           }
          ],
          "scattergl": [
           {
            "marker": {
             "colorbar": {
              "outlinewidth": 0,
              "ticks": ""
             }
            },
            "type": "scattergl"
           }
          ],
          "scattermap": [
           {
            "marker": {
             "colorbar": {
              "outlinewidth": 0,
              "ticks": ""
             }
            },
            "type": "scattermap"
           }
          ],
          "scattermapbox": [
           {
            "marker": {
             "colorbar": {
              "outlinewidth": 0,
              "ticks": ""
             }
            },
            "type": "scattermapbox"
           }
          ],
          "scatterpolar": [
           {
            "marker": {
             "colorbar": {
              "outlinewidth": 0,
              "ticks": ""
             }
            },
            "type": "scatterpolar"
           }
          ],
          "scatterpolargl": [
           {
            "marker": {
             "colorbar": {
              "outlinewidth": 0,
              "ticks": ""
             }
            },
            "type": "scatterpolargl"
           }
          ],
          "scatterternary": [
           {
            "marker": {
             "colorbar": {
              "outlinewidth": 0,
              "ticks": ""
             }
            },
            "type": "scatterternary"
           }
          ],
          "surface": [
           {
            "colorbar": {
             "outlinewidth": 0,
             "ticks": ""
            },
            "colorscale": [
             [
              0,
              "#0d0887"
             ],
             [
              0.1111111111111111,
              "#46039f"
             ],
             [
              0.2222222222222222,
              "#7201a8"
             ],
             [
              0.3333333333333333,
              "#9c179e"
             ],
             [
              0.4444444444444444,
              "#bd3786"
             ],
             [
              0.5555555555555556,
              "#d8576b"
             ],
             [
              0.6666666666666666,
              "#ed7953"
             ],
             [
              0.7777777777777778,
              "#fb9f3a"
             ],
             [
              0.8888888888888888,
              "#fdca26"
             ],
             [
              1,
              "#f0f921"
             ]
            ],
            "type": "surface"
           }
          ],
          "table": [
           {
            "cells": {
             "fill": {
              "color": "#EBF0F8"
             },
             "line": {
              "color": "white"
             }
            },
            "header": {
             "fill": {
              "color": "#C8D4E3"
             },
             "line": {
              "color": "white"
             }
            },
            "type": "table"
           }
          ]
         },
         "layout": {
          "annotationdefaults": {
           "arrowcolor": "#2a3f5f",
           "arrowhead": 0,
           "arrowwidth": 1
          },
          "autotypenumbers": "strict",
          "coloraxis": {
           "colorbar": {
            "outlinewidth": 0,
            "ticks": ""
           }
          },
          "colorscale": {
           "diverging": [
            [
             0,
             "#8e0152"
            ],
            [
             0.1,
             "#c51b7d"
            ],
            [
             0.2,
             "#de77ae"
            ],
            [
             0.3,
             "#f1b6da"
            ],
            [
             0.4,
             "#fde0ef"
            ],
            [
             0.5,
             "#f7f7f7"
            ],
            [
             0.6,
             "#e6f5d0"
            ],
            [
             0.7,
             "#b8e186"
            ],
            [
             0.8,
             "#7fbc41"
            ],
            [
             0.9,
             "#4d9221"
            ],
            [
             1,
             "#276419"
            ]
           ],
           "sequential": [
            [
             0,
             "#0d0887"
            ],
            [
             0.1111111111111111,
             "#46039f"
            ],
            [
             0.2222222222222222,
             "#7201a8"
            ],
            [
             0.3333333333333333,
             "#9c179e"
            ],
            [
             0.4444444444444444,
             "#bd3786"
            ],
            [
             0.5555555555555556,
             "#d8576b"
            ],
            [
             0.6666666666666666,
             "#ed7953"
            ],
            [
             0.7777777777777778,
             "#fb9f3a"
            ],
            [
             0.8888888888888888,
             "#fdca26"
            ],
            [
             1,
             "#f0f921"
            ]
           ],
           "sequentialminus": [
            [
             0,
             "#0d0887"
            ],
            [
             0.1111111111111111,
             "#46039f"
            ],
            [
             0.2222222222222222,
             "#7201a8"
            ],
            [
             0.3333333333333333,
             "#9c179e"
            ],
            [
             0.4444444444444444,
             "#bd3786"
            ],
            [
             0.5555555555555556,
             "#d8576b"
            ],
            [
             0.6666666666666666,
             "#ed7953"
            ],
            [
             0.7777777777777778,
             "#fb9f3a"
            ],
            [
             0.8888888888888888,
             "#fdca26"
            ],
            [
             1,
             "#f0f921"
            ]
           ]
          },
          "colorway": [
           "#636efa",
           "#EF553B",
           "#00cc96",
           "#ab63fa",
           "#FFA15A",
           "#19d3f3",
           "#FF6692",
           "#B6E880",
           "#FF97FF",
           "#FECB52"
          ],
          "font": {
           "color": "#2a3f5f"
          },
          "geo": {
           "bgcolor": "white",
           "lakecolor": "white",
           "landcolor": "#E5ECF6",
           "showlakes": true,
           "showland": true,
           "subunitcolor": "white"
          },
          "hoverlabel": {
           "align": "left"
          },
          "hovermode": "closest",
          "mapbox": {
           "style": "light"
          },
          "paper_bgcolor": "white",
          "plot_bgcolor": "#E5ECF6",
          "polar": {
           "angularaxis": {
            "gridcolor": "white",
            "linecolor": "white",
            "ticks": ""
           },
           "bgcolor": "#E5ECF6",
           "radialaxis": {
            "gridcolor": "white",
            "linecolor": "white",
            "ticks": ""
           }
          },
          "scene": {
           "xaxis": {
            "backgroundcolor": "#E5ECF6",
            "gridcolor": "white",
            "gridwidth": 2,
            "linecolor": "white",
            "showbackground": true,
            "ticks": "",
            "zerolinecolor": "white"
           },
           "yaxis": {
            "backgroundcolor": "#E5ECF6",
            "gridcolor": "white",
            "gridwidth": 2,
            "linecolor": "white",
            "showbackground": true,
            "ticks": "",
            "zerolinecolor": "white"
           },
           "zaxis": {
            "backgroundcolor": "#E5ECF6",
            "gridcolor": "white",
            "gridwidth": 2,
            "linecolor": "white",
            "showbackground": true,
            "ticks": "",
            "zerolinecolor": "white"
           }
          },
          "shapedefaults": {
           "line": {
            "color": "#2a3f5f"
           }
          },
          "ternary": {
           "aaxis": {
            "gridcolor": "white",
            "linecolor": "white",
            "ticks": ""
           },
           "baxis": {
            "gridcolor": "white",
            "linecolor": "white",
            "ticks": ""
           },
           "bgcolor": "#E5ECF6",
           "caxis": {
            "gridcolor": "white",
            "linecolor": "white",
            "ticks": ""
           }
          },
          "title": {
           "x": 0.05
          },
          "xaxis": {
           "automargin": true,
           "gridcolor": "white",
           "linecolor": "white",
           "ticks": "",
           "title": {
            "standoff": 15
           },
           "zerolinecolor": "white",
           "zerolinewidth": 2
          },
          "yaxis": {
           "automargin": true,
           "gridcolor": "white",
           "linecolor": "white",
           "ticks": "",
           "title": {
            "standoff": 15
           },
           "zerolinecolor": "white",
           "zerolinewidth": 2
          }
         }
        },
        "title": {
         "text": "World Population (1960 - 2023)"
        },
        "xaxis": {
         "range": [
          0,
          8000000000
         ]
        },
        "yaxis": {
         "range": [
          0,
          8000000000
         ]
        }
       }
      }
     },
     "metadata": {},
     "output_type": "display_data"
    }
   ],
   "source": [
    "# make choropleth map of total population using plotly\n",
    "fig = px.choropleth(df[df['Year'] == 2023],\n",
    "                    locations=\"Country\",\n",
    "                    locationmode='country names',\n",
    "                    color=\"total_population\",\n",
    "                    hover_name=\"Country\",\n",
    "                    animation_frame=\"Year\",\n",
    "                    color_continuous_scale=px.colors.sequential.Plasma,\n",
    "                    title=\"World Population (1960 - 2023)\",\n",
    "                    labels={'total_population': 'Total Population'},\n",
    "                    )\n",
    "# limit the x-axis for total population\n",
    "fig.update_layout(\n",
    "    xaxis=dict(range=[0, 8e9]),  # Set the range for the x-axis\n",
    "    yaxis=dict(range=[0, 8e9]),  # Set the range for the y-axis\n",
    ")\n",
    "\n",
    "fig.show()                        \n"
   ]
  },
  {
   "cell_type": "code",
   "execution_count": 6,
   "id": "b895521d",
   "metadata": {},
   "outputs": [
    {
     "data": {
      "application/vnd.plotly.v1+json": {
       "config": {
        "plotlyServerURL": "https://plot.ly"
       },
       "data": [
        {
         "coloraxis": "coloraxis",
         "geo": "geo",
         "hovertemplate": "<b>%{hovertext}</b><br><br>Country=%{location}<br>Total Population=%{z}<extra></extra>",
         "hovertext": [
          "Africa Eastern and Southern",
          "Africa Western and Central",
          "Arab World",
          "Caribbean small states",
          "Central Europe and the Baltics",
          "Early-demographic dividend",
          "East Asia & Pacific",
          "East Asia & Pacific (excluding high income)",
          "East Asia & Pacific (IDA & IBRD countries)",
          "Euro area",
          "Europe & Central Asia",
          "Europe & Central Asia (excluding high income)",
          "Europe & Central Asia (IDA & IBRD countries)",
          "European Union",
          "Fragile and conflict affected situations",
          "Heavily indebted poor countries (HIPC)",
          "High income",
          "IBRD only",
          "IDA & IBRD total",
          "IDA blend",
          "IDA only",
          "IDA total",
          "Late-demographic dividend",
          "Latin America & Caribbean",
          "Latin America & Caribbean (excluding high income)",
          "Latin America & the Caribbean (IDA & IBRD countries)",
          "Least developed countries: UN classification",
          "Low & middle income",
          "Low income",
          "Lower middle income",
          "Middle East & North Africa",
          "Middle East & North Africa (excluding high income)",
          "Middle East & North Africa (IDA & IBRD countries)",
          "Middle income",
          "North America",
          "Not classified",
          "OECD members",
          "Other small states",
          "Pacific island small states",
          "Post-demographic dividend",
          "Pre-demographic dividend",
          "Small states",
          "South Asia",
          "South Asia (IDA & IBRD)",
          "Sub-Saharan Africa",
          "Sub-Saharan Africa (excluding high income)",
          "Sub-Saharan Africa (IDA & IBRD countries)",
          "Upper middle income",
          "World",
          "Afghanistan",
          "Albania",
          "Algeria",
          "American Samoa",
          "Andorra",
          "Angola",
          "Antigua and Barbuda",
          "Argentina",
          "Armenia",
          "Aruba",
          "Australia",
          "Austria",
          "Azerbaijan",
          "Bahamas, The",
          "Bahrain",
          "Bangladesh",
          "Barbados",
          "Belarus",
          "Belgium",
          "Belize",
          "Benin",
          "Bermuda",
          "Bhutan",
          "Bolivia",
          "Bosnia and Herzegovina",
          "Botswana",
          "Brazil",
          "British Virgin Islands",
          "Brunei Darussalam",
          "Bulgaria",
          "Burkina Faso",
          "Burundi",
          "Cabo Verde",
          "Cambodia",
          "Cameroon",
          "Canada",
          "Cayman Islands",
          "Central African Republic",
          "Chad",
          "Channel Islands",
          "Chile",
          "China",
          "Colombia",
          "Comoros",
          "Congo, Dem. Rep.",
          "Congo, Rep.",
          "Costa Rica",
          "Cote d'Ivoire",
          "Croatia",
          "Cuba",
          "Curacao",
          "Cyprus",
          "Czechia",
          "Denmark",
          "Djibouti",
          "Dominica",
          "Dominican Republic",
          "Ecuador",
          "Egypt, Arab Rep.",
          "El Salvador",
          "Equatorial Guinea",
          "Eritrea",
          "Estonia",
          "Eswatini",
          "Ethiopia",
          "Faroe Islands",
          "Fiji",
          "Finland",
          "France",
          "French Polynesia",
          "Gabon",
          "Gambia, The",
          "Georgia",
          "Germany",
          "Ghana",
          "Gibraltar",
          "Greece",
          "Greenland",
          "Grenada",
          "Guam",
          "Guatemala",
          "Guinea",
          "Guinea-Bissau",
          "Guyana",
          "Haiti",
          "Honduras",
          "Hong Kong SAR, China",
          "Hungary",
          "Iceland",
          "India",
          "Indonesia",
          "Iran, Islamic Rep.",
          "Iraq",
          "Ireland",
          "Isle of Man",
          "Israel",
          "Italy",
          "Jamaica",
          "Japan",
          "Jordan",
          "Kazakhstan",
          "Kenya",
          "Kiribati",
          "Korea, Dem. People's Rep.",
          "Korea, Rep.",
          "Kosovo",
          "Kuwait",
          "Kyrgyz Republic",
          "Lao PDR",
          "Latvia",
          "Lebanon",
          "Lesotho",
          "Liberia",
          "Libya",
          "Liechtenstein",
          "Lithuania",
          "Luxembourg",
          "Macao SAR, China",
          "Madagascar",
          "Malawi",
          "Malaysia",
          "Maldives",
          "Mali",
          "Malta",
          "Marshall Islands",
          "Mauritania",
          "Mauritius",
          "Mexico",
          "Micronesia, Fed. Sts.",
          "Moldova",
          "Monaco",
          "Mongolia",
          "Montenegro",
          "Morocco",
          "Mozambique",
          "Myanmar",
          "Namibia",
          "Nauru",
          "Nepal",
          "Netherlands",
          "New Caledonia",
          "New Zealand",
          "Nicaragua",
          "Niger",
          "Nigeria",
          "North Macedonia",
          "Northern Mariana Islands",
          "Norway",
          "Oman",
          "Pakistan",
          "Palau",
          "Panama",
          "Papua New Guinea",
          "Paraguay",
          "Peru",
          "Philippines",
          "Poland",
          "Portugal",
          "Puerto Rico",
          "Qatar",
          "Romania",
          "Russian Federation",
          "Rwanda",
          "Samoa",
          "San Marino",
          "Sao Tome and Principe",
          "Saudi Arabia",
          "Senegal",
          "Serbia",
          "Seychelles",
          "Sierra Leone",
          "Singapore",
          "Sint Maarten (Dutch part)",
          "Slovak Republic",
          "Slovenia",
          "Solomon Islands",
          "Somalia",
          "South Africa",
          "South Sudan",
          "Spain",
          "Sri Lanka",
          "St. Kitts and Nevis",
          "St. Lucia",
          "St. Martin (French part)",
          "St. Vincent and the Grenadines",
          "Sudan",
          "Suriname",
          "Sweden",
          "Switzerland",
          "Syrian Arab Republic",
          "Tajikistan",
          "Tanzania",
          "Thailand",
          "Timor-Leste",
          "Togo",
          "Tonga",
          "Trinidad and Tobago",
          "Tunisia",
          "Turkiye",
          "Turkmenistan",
          "Turks and Caicos Islands",
          "Tuvalu",
          "Uganda",
          "Ukraine",
          "United Arab Emirates",
          "United Kingdom",
          "United States",
          "Uruguay",
          "Uzbekistan",
          "Vanuatu",
          "Venezuela, RB",
          "Viet Nam",
          "Virgin Islands (U.S.)",
          "West Bank and Gaza",
          "Yemen, Rep.",
          "Zambia",
          "Zimbabwe"
         ],
         "locationmode": "country names",
         "locations": [
          "Africa Eastern and Southern",
          "Africa Western and Central",
          "Arab World",
          "Caribbean small states",
          "Central Europe and the Baltics",
          "Early-demographic dividend",
          "East Asia & Pacific",
          "East Asia & Pacific (excluding high income)",
          "East Asia & Pacific (IDA & IBRD countries)",
          "Euro area",
          "Europe & Central Asia",
          "Europe & Central Asia (excluding high income)",
          "Europe & Central Asia (IDA & IBRD countries)",
          "European Union",
          "Fragile and conflict affected situations",
          "Heavily indebted poor countries (HIPC)",
          "High income",
          "IBRD only",
          "IDA & IBRD total",
          "IDA blend",
          "IDA only",
          "IDA total",
          "Late-demographic dividend",
          "Latin America & Caribbean",
          "Latin America & Caribbean (excluding high income)",
          "Latin America & the Caribbean (IDA & IBRD countries)",
          "Least developed countries: UN classification",
          "Low & middle income",
          "Low income",
          "Lower middle income",
          "Middle East & North Africa",
          "Middle East & North Africa (excluding high income)",
          "Middle East & North Africa (IDA & IBRD countries)",
          "Middle income",
          "North America",
          "Not classified",
          "OECD members",
          "Other small states",
          "Pacific island small states",
          "Post-demographic dividend",
          "Pre-demographic dividend",
          "Small states",
          "South Asia",
          "South Asia (IDA & IBRD)",
          "Sub-Saharan Africa",
          "Sub-Saharan Africa (excluding high income)",
          "Sub-Saharan Africa (IDA & IBRD countries)",
          "Upper middle income",
          "World",
          "Afghanistan",
          "Albania",
          "Algeria",
          "American Samoa",
          "Andorra",
          "Angola",
          "Antigua and Barbuda",
          "Argentina",
          "Armenia",
          "Aruba",
          "Australia",
          "Austria",
          "Azerbaijan",
          "Bahamas, The",
          "Bahrain",
          "Bangladesh",
          "Barbados",
          "Belarus",
          "Belgium",
          "Belize",
          "Benin",
          "Bermuda",
          "Bhutan",
          "Bolivia",
          "Bosnia and Herzegovina",
          "Botswana",
          "Brazil",
          "British Virgin Islands",
          "Brunei Darussalam",
          "Bulgaria",
          "Burkina Faso",
          "Burundi",
          "Cabo Verde",
          "Cambodia",
          "Cameroon",
          "Canada",
          "Cayman Islands",
          "Central African Republic",
          "Chad",
          "Channel Islands",
          "Chile",
          "China",
          "Colombia",
          "Comoros",
          "Congo, Dem. Rep.",
          "Congo, Rep.",
          "Costa Rica",
          "Cote d'Ivoire",
          "Croatia",
          "Cuba",
          "Curacao",
          "Cyprus",
          "Czechia",
          "Denmark",
          "Djibouti",
          "Dominica",
          "Dominican Republic",
          "Ecuador",
          "Egypt, Arab Rep.",
          "El Salvador",
          "Equatorial Guinea",
          "Eritrea",
          "Estonia",
          "Eswatini",
          "Ethiopia",
          "Faroe Islands",
          "Fiji",
          "Finland",
          "France",
          "French Polynesia",
          "Gabon",
          "Gambia, The",
          "Georgia",
          "Germany",
          "Ghana",
          "Gibraltar",
          "Greece",
          "Greenland",
          "Grenada",
          "Guam",
          "Guatemala",
          "Guinea",
          "Guinea-Bissau",
          "Guyana",
          "Haiti",
          "Honduras",
          "Hong Kong SAR, China",
          "Hungary",
          "Iceland",
          "India",
          "Indonesia",
          "Iran, Islamic Rep.",
          "Iraq",
          "Ireland",
          "Isle of Man",
          "Israel",
          "Italy",
          "Jamaica",
          "Japan",
          "Jordan",
          "Kazakhstan",
          "Kenya",
          "Kiribati",
          "Korea, Dem. People's Rep.",
          "Korea, Rep.",
          "Kosovo",
          "Kuwait",
          "Kyrgyz Republic",
          "Lao PDR",
          "Latvia",
          "Lebanon",
          "Lesotho",
          "Liberia",
          "Libya",
          "Liechtenstein",
          "Lithuania",
          "Luxembourg",
          "Macao SAR, China",
          "Madagascar",
          "Malawi",
          "Malaysia",
          "Maldives",
          "Mali",
          "Malta",
          "Marshall Islands",
          "Mauritania",
          "Mauritius",
          "Mexico",
          "Micronesia, Fed. Sts.",
          "Moldova",
          "Monaco",
          "Mongolia",
          "Montenegro",
          "Morocco",
          "Mozambique",
          "Myanmar",
          "Namibia",
          "Nauru",
          "Nepal",
          "Netherlands",
          "New Caledonia",
          "New Zealand",
          "Nicaragua",
          "Niger",
          "Nigeria",
          "North Macedonia",
          "Northern Mariana Islands",
          "Norway",
          "Oman",
          "Pakistan",
          "Palau",
          "Panama",
          "Papua New Guinea",
          "Paraguay",
          "Peru",
          "Philippines",
          "Poland",
          "Portugal",
          "Puerto Rico",
          "Qatar",
          "Romania",
          "Russian Federation",
          "Rwanda",
          "Samoa",
          "San Marino",
          "Sao Tome and Principe",
          "Saudi Arabia",
          "Senegal",
          "Serbia",
          "Seychelles",
          "Sierra Leone",
          "Singapore",
          "Sint Maarten (Dutch part)",
          "Slovak Republic",
          "Slovenia",
          "Solomon Islands",
          "Somalia",
          "South Africa",
          "South Sudan",
          "Spain",
          "Sri Lanka",
          "St. Kitts and Nevis",
          "St. Lucia",
          "St. Martin (French part)",
          "St. Vincent and the Grenadines",
          "Sudan",
          "Suriname",
          "Sweden",
          "Switzerland",
          "Syrian Arab Republic",
          "Tajikistan",
          "Tanzania",
          "Thailand",
          "Timor-Leste",
          "Togo",
          "Tonga",
          "Trinidad and Tobago",
          "Tunisia",
          "Turkiye",
          "Turkmenistan",
          "Turks and Caicos Islands",
          "Tuvalu",
          "Uganda",
          "Ukraine",
          "United Arab Emirates",
          "United Kingdom",
          "United States",
          "Uruguay",
          "Uzbekistan",
          "Vanuatu",
          "Venezuela, RB",
          "Viet Nam",
          "Virgin Islands (U.S.)",
          "West Bank and Gaza",
          "Yemen, Rep.",
          "Zambia",
          "Zimbabwe"
         ],
         "name": "",
         "type": "choropleth",
         "z": {
          "bdata": "AAAAquNdxkEAAAA9zly+QQAAANOptbxBAAAAAAUNSEEAAADMP+KXQQAAYPnYKOpBAABg3wDE4UEAAIByBdrfQQAAAFRbdd9BAAAAko3XtEEAAIDE9ZDLQQAAAMBWs61BAAAALCxcu0EAAADKNMC6QQAAAE/sjc9BAAAA33lWy0EAAEAaWt7UQQAA4Iokc/JBAACQFTaN+UEAAADPKd/CQQAAQEOx+NJBAADAKkZo3EEAAOB/v1XhQQAAALQtmcNBAAAAvnO7wUEAAIB5GyXDQQAAgNgxTNFBAAAgiNO1+EEAAIDtyvLFQQAAgDs28uZBAAAAPzdMvkEAAACtqzu6QQAAAN7Y7LlBAABwKnr39UEAAADqOVu2QQAAAAAAAPh/AADAgh2m1EEAAAAgEn1rQQAAAABkhERBAABAEIyt0EEAAAArGRHQQQAAADC2UHNBAADAnogU3UEAAMCeiBTdQQAAQGQlxtJBAAAAbbDF0kEAAEBkJcbSQQAAYBm+/ORBAAAQcmcI/kEAAABIZcSDQQAAAAA680RBAAAA2EcDhkEAAAAAIDTnQAAAAACAvfNAAAAAkBKGgUEAAAAAQMj2QAAAAAjjtoVBAAAAAJrRRkEAAAAA8DX6QAAAAECIbHlBAAAAIN5qYUEAAADA/F1jQQAAAABAYRhBAAAAAGMQOEEAAADcwXCkQQAAAACAOxFBAAAAQJeBYUEAAADgk3tmQQAAAACIFxlBAAAAQCfqakEAAAAAQJfvQAAAAACi/ydBAAAA4JdaZ0EAAACA2ExIQQAAAAA67EJBAAAA8oArqUEAAAAAIAnjQAAAAAAUAxxBAAAAAIGXWEEAAAAAh/V1QQAAAEBNHGpBAAAAAGzhH0EAAACA4J1wQQAAAPDsDntBAAAACL8eg0EAAAAA4NTxQAAAAECpp1NBAAAAgJFsckEAAAAAWHgEQQAAADCFv3JBAAAAfG4F1UEAAAAA3PKIQQAAAACm8ylBAAAAjOQ4mUEAAABA+ZVXQQAAAEDdeVNBAAAAYM24fUEAAAAAc3JNQQAAAGDTBGVBAAAAALAMAkEAAAAA0IU0QQAAAEC1uGRBAAAAAJKvVkEAAAAAsJcxQQAAAADgPPBAAAAAINicZUEAAAAwqyVxQQAAAHC1TptBAAAAAL4RWEEAAAAA/TA8QQAAAAAbekpBAAAAAK7oNEEAAAAAqsYyQQAAALC3rp5BAAAAAECa6kAAAAAA4jMsQQAAAMAJTVVBAAAA/O9HkEEAAAAAeCgRQQAAAIAa9UJBAAAAgDqVREEAAACAzVhMQQAAAAAC25NBAAAAUIAcgEEAAAAA4MjiQAAAAIDa2GNBAAAAACDE60AAAAAAkJX8QAAAAABQUwRBAAAAYAJJcUEAAACA63lrQQAAAIC9bUBBAAAAAOI3KUEAAADAUjJmQQAAAGCuTWRBAAAAAHm/XEEAAABAr0tiQQAAAAAUAhhBAAAA18xt1UEAAACznsKwQQAAAAxRmpVBAAAACDR+hUEAAAAAND9UQQAAAABQjPRAAAAAAPebYkEAAAAYWiGMQQAAAAB1qkVBAAAAqOSvnUEAAACgjdFlQQAAAIBnY3NBAAAA2D9jikEAAAAAkC0AQQAAAMDBMXlBAAAAWJOoiEEAAAAAzsw6QQAAAACrg1JBAAAAgFkVW0EAAABAWD1dQQAAAADFpTxBAAAAQC0GVkEAAAAAmKJBQQAAAMBJ9FRBAAAAwG7eW0EAAAAAQHXjQAAAAICQ6EVBAAAAAHxWJEEAAAAAILckQQAAAMAxwH1BAAAAIHYgdEEAAADQ4L+AQQAAAABUDSBBAAAAcAKrdkEAAAAAVt4gQQAAAABg9eJAAAAAQLooU0EAAAAA8T0zQQAAALyv7p5BAAAAAGB/+0AAAACAW8BCQQAAAACABeNAAAAAgByPSkEAAAAA4s0iQQAAAMiT+4FBAAAAwNoJgEEAAAAwIdCJQQAAAIBLm0ZBAAAAAIAxx0AAAABgqVF8QQAAANCHDHFBAAAAADixEUEAAAAAr+xTQQAAAECvB1pBAAAAsK/yeEEAAACCbyqrQQAAAADo4ztBAAAAAOAK5kAAAACAOg5VQQAAAEDtQlNBAAAA3jyBrUEAAAAAwE/RQAAAAMBBAlFBAAAAYBDRY0EAAACAvBtaQQAAAIiLI4BBAAAA/GZkm0EAAADIb36BQQAAAMAfLWRBAAAAgB11SEEAAAAAkENEQQAAAHAxLXJBAAAApDkloUEAAADgtJ1qQQAAAAC4cgpBAAAAAICI4EAAAAAAuC4MQQAAAEAquX9BAAAAUHg9cUEAAADA80NZQQAAAADQPf1AAAAAABwjYEEAAAAA9JJWQQAAAACg3+RAAAAAAI2zVEEAAACAhi1AQQAAAAAKaihBAAAAcBWCcUEAAAAAWySOQQAAAMAd52VBAAAAMNgNh0EAAACAIAR1QQAAAADA1OZAAAAAAKjiBUEAAAAAwN7aQAAAAACwvPhAAAAAOL3ch0EAAAAALDEjQQAAAADXGGRBAAAAoOPzYEEAAADwZ4B2QQAAAOAk0WNBAAAAMAjEj0EAAACMXhiRQQAAAABeHzVBAAAAICK/YUEAAAAAUIn5QAAAAADW3TRBAAAA4D1FZ0EAAAA04leUQQAAAIDVF1xBAAAAAMCO5kAAAAAAACzDQAAAAMiGM4dBAAAAIA/+gUEAAADgBP9jQQAAAMDAS5BBAAAAT2X2s0EAAACAWNlJQQAAAJgWAIFBAAAAAGSOE0EAAABgY/16QQAAAAAD7ZdBAAAAAFCd+UAAAADAs7RTQQAAAHhyyIJBAAAA0I/Dc0EAAADA6ipvQQ==",
          "dtype": "f8"
         }
        }
       ],
       "layout": {
        "coloraxis": {
         "cmax": 500000000,
         "cmin": 0,
         "colorbar": {
          "ticktext": [
           "1M",
           "10M",
           "100M",
           "1.5B"
          ],
          "tickvals": [
           1000000,
           10000000,
           100000000,
           1500000000
          ],
          "title": {
           "text": "Total Population"
          }
         },
         "colorscale": [
          [
           0,
           "#440154"
          ],
          [
           0.1111111111111111,
           "#482878"
          ],
          [
           0.2222222222222222,
           "#3e4989"
          ],
          [
           0.3333333333333333,
           "#31688e"
          ],
          [
           0.4444444444444444,
           "#26828e"
          ],
          [
           0.5555555555555556,
           "#1f9e89"
          ],
          [
           0.6666666666666666,
           "#35b779"
          ],
          [
           0.7777777777777778,
           "#6ece58"
          ],
          [
           0.8888888888888888,
           "#b5de2b"
          ],
          [
           1,
           "#fde725"
          ]
         ]
        },
        "geo": {
         "center": {},
         "domain": {
          "x": [
           0,
           1
          ],
          "y": [
           0,
           1
          ]
         }
        },
        "legend": {
         "tracegroupgap": 0
        },
        "template": {
         "data": {
          "bar": [
           {
            "error_x": {
             "color": "#2a3f5f"
            },
            "error_y": {
             "color": "#2a3f5f"
            },
            "marker": {
             "line": {
              "color": "#E5ECF6",
              "width": 0.5
             },
             "pattern": {
              "fillmode": "overlay",
              "size": 10,
              "solidity": 0.2
             }
            },
            "type": "bar"
           }
          ],
          "barpolar": [
           {
            "marker": {
             "line": {
              "color": "#E5ECF6",
              "width": 0.5
             },
             "pattern": {
              "fillmode": "overlay",
              "size": 10,
              "solidity": 0.2
             }
            },
            "type": "barpolar"
           }
          ],
          "carpet": [
           {
            "aaxis": {
             "endlinecolor": "#2a3f5f",
             "gridcolor": "white",
             "linecolor": "white",
             "minorgridcolor": "white",
             "startlinecolor": "#2a3f5f"
            },
            "baxis": {
             "endlinecolor": "#2a3f5f",
             "gridcolor": "white",
             "linecolor": "white",
             "minorgridcolor": "white",
             "startlinecolor": "#2a3f5f"
            },
            "type": "carpet"
           }
          ],
          "choropleth": [
           {
            "colorbar": {
             "outlinewidth": 0,
             "ticks": ""
            },
            "type": "choropleth"
           }
          ],
          "contour": [
           {
            "colorbar": {
             "outlinewidth": 0,
             "ticks": ""
            },
            "colorscale": [
             [
              0,
              "#0d0887"
             ],
             [
              0.1111111111111111,
              "#46039f"
             ],
             [
              0.2222222222222222,
              "#7201a8"
             ],
             [
              0.3333333333333333,
              "#9c179e"
             ],
             [
              0.4444444444444444,
              "#bd3786"
             ],
             [
              0.5555555555555556,
              "#d8576b"
             ],
             [
              0.6666666666666666,
              "#ed7953"
             ],
             [
              0.7777777777777778,
              "#fb9f3a"
             ],
             [
              0.8888888888888888,
              "#fdca26"
             ],
             [
              1,
              "#f0f921"
             ]
            ],
            "type": "contour"
           }
          ],
          "contourcarpet": [
           {
            "colorbar": {
             "outlinewidth": 0,
             "ticks": ""
            },
            "type": "contourcarpet"
           }
          ],
          "heatmap": [
           {
            "colorbar": {
             "outlinewidth": 0,
             "ticks": ""
            },
            "colorscale": [
             [
              0,
              "#0d0887"
             ],
             [
              0.1111111111111111,
              "#46039f"
             ],
             [
              0.2222222222222222,
              "#7201a8"
             ],
             [
              0.3333333333333333,
              "#9c179e"
             ],
             [
              0.4444444444444444,
              "#bd3786"
             ],
             [
              0.5555555555555556,
              "#d8576b"
             ],
             [
              0.6666666666666666,
              "#ed7953"
             ],
             [
              0.7777777777777778,
              "#fb9f3a"
             ],
             [
              0.8888888888888888,
              "#fdca26"
             ],
             [
              1,
              "#f0f921"
             ]
            ],
            "type": "heatmap"
           }
          ],
          "histogram": [
           {
            "marker": {
             "pattern": {
              "fillmode": "overlay",
              "size": 10,
              "solidity": 0.2
             }
            },
            "type": "histogram"
           }
          ],
          "histogram2d": [
           {
            "colorbar": {
             "outlinewidth": 0,
             "ticks": ""
            },
            "colorscale": [
             [
              0,
              "#0d0887"
             ],
             [
              0.1111111111111111,
              "#46039f"
             ],
             [
              0.2222222222222222,
              "#7201a8"
             ],
             [
              0.3333333333333333,
              "#9c179e"
             ],
             [
              0.4444444444444444,
              "#bd3786"
             ],
             [
              0.5555555555555556,
              "#d8576b"
             ],
             [
              0.6666666666666666,
              "#ed7953"
             ],
             [
              0.7777777777777778,
              "#fb9f3a"
             ],
             [
              0.8888888888888888,
              "#fdca26"
             ],
             [
              1,
              "#f0f921"
             ]
            ],
            "type": "histogram2d"
           }
          ],
          "histogram2dcontour": [
           {
            "colorbar": {
             "outlinewidth": 0,
             "ticks": ""
            },
            "colorscale": [
             [
              0,
              "#0d0887"
             ],
             [
              0.1111111111111111,
              "#46039f"
             ],
             [
              0.2222222222222222,
              "#7201a8"
             ],
             [
              0.3333333333333333,
              "#9c179e"
             ],
             [
              0.4444444444444444,
              "#bd3786"
             ],
             [
              0.5555555555555556,
              "#d8576b"
             ],
             [
              0.6666666666666666,
              "#ed7953"
             ],
             [
              0.7777777777777778,
              "#fb9f3a"
             ],
             [
              0.8888888888888888,
              "#fdca26"
             ],
             [
              1,
              "#f0f921"
             ]
            ],
            "type": "histogram2dcontour"
           }
          ],
          "mesh3d": [
           {
            "colorbar": {
             "outlinewidth": 0,
             "ticks": ""
            },
            "type": "mesh3d"
           }
          ],
          "parcoords": [
           {
            "line": {
             "colorbar": {
              "outlinewidth": 0,
              "ticks": ""
             }
            },
            "type": "parcoords"
           }
          ],
          "pie": [
           {
            "automargin": true,
            "type": "pie"
           }
          ],
          "scatter": [
           {
            "fillpattern": {
             "fillmode": "overlay",
             "size": 10,
             "solidity": 0.2
            },
            "type": "scatter"
           }
          ],
          "scatter3d": [
           {
            "line": {
             "colorbar": {
              "outlinewidth": 0,
              "ticks": ""
             }
            },
            "marker": {
             "colorbar": {
              "outlinewidth": 0,
              "ticks": ""
             }
            },
            "type": "scatter3d"
           }
          ],
          "scattercarpet": [
           {
            "marker": {
             "colorbar": {
              "outlinewidth": 0,
              "ticks": ""
             }
            },
            "type": "scattercarpet"
           }
          ],
          "scattergeo": [
           {
            "marker": {
             "colorbar": {
              "outlinewidth": 0,
              "ticks": ""
             }
            },
            "type": "scattergeo"
           }
          ],
          "scattergl": [
           {
            "marker": {
             "colorbar": {
              "outlinewidth": 0,
              "ticks": ""
             }
            },
            "type": "scattergl"
           }
          ],
          "scattermap": [
           {
            "marker": {
             "colorbar": {
              "outlinewidth": 0,
              "ticks": ""
             }
            },
            "type": "scattermap"
           }
          ],
          "scattermapbox": [
           {
            "marker": {
             "colorbar": {
              "outlinewidth": 0,
              "ticks": ""
             }
            },
            "type": "scattermapbox"
           }
          ],
          "scatterpolar": [
           {
            "marker": {
             "colorbar": {
              "outlinewidth": 0,
              "ticks": ""
             }
            },
            "type": "scatterpolar"
           }
          ],
          "scatterpolargl": [
           {
            "marker": {
             "colorbar": {
              "outlinewidth": 0,
              "ticks": ""
             }
            },
            "type": "scatterpolargl"
           }
          ],
          "scatterternary": [
           {
            "marker": {
             "colorbar": {
              "outlinewidth": 0,
              "ticks": ""
             }
            },
            "type": "scatterternary"
           }
          ],
          "surface": [
           {
            "colorbar": {
             "outlinewidth": 0,
             "ticks": ""
            },
            "colorscale": [
             [
              0,
              "#0d0887"
             ],
             [
              0.1111111111111111,
              "#46039f"
             ],
             [
              0.2222222222222222,
              "#7201a8"
             ],
             [
              0.3333333333333333,
              "#9c179e"
             ],
             [
              0.4444444444444444,
              "#bd3786"
             ],
             [
              0.5555555555555556,
              "#d8576b"
             ],
             [
              0.6666666666666666,
              "#ed7953"
             ],
             [
              0.7777777777777778,
              "#fb9f3a"
             ],
             [
              0.8888888888888888,
              "#fdca26"
             ],
             [
              1,
              "#f0f921"
             ]
            ],
            "type": "surface"
           }
          ],
          "table": [
           {
            "cells": {
             "fill": {
              "color": "#EBF0F8"
             },
             "line": {
              "color": "white"
             }
            },
            "header": {
             "fill": {
              "color": "#C8D4E3"
             },
             "line": {
              "color": "white"
             }
            },
            "type": "table"
           }
          ]
         },
         "layout": {
          "annotationdefaults": {
           "arrowcolor": "#2a3f5f",
           "arrowhead": 0,
           "arrowwidth": 1
          },
          "autotypenumbers": "strict",
          "coloraxis": {
           "colorbar": {
            "outlinewidth": 0,
            "ticks": ""
           }
          },
          "colorscale": {
           "diverging": [
            [
             0,
             "#8e0152"
            ],
            [
             0.1,
             "#c51b7d"
            ],
            [
             0.2,
             "#de77ae"
            ],
            [
             0.3,
             "#f1b6da"
            ],
            [
             0.4,
             "#fde0ef"
            ],
            [
             0.5,
             "#f7f7f7"
            ],
            [
             0.6,
             "#e6f5d0"
            ],
            [
             0.7,
             "#b8e186"
            ],
            [
             0.8,
             "#7fbc41"
            ],
            [
             0.9,
             "#4d9221"
            ],
            [
             1,
             "#276419"
            ]
           ],
           "sequential": [
            [
             0,
             "#0d0887"
            ],
            [
             0.1111111111111111,
             "#46039f"
            ],
            [
             0.2222222222222222,
             "#7201a8"
            ],
            [
             0.3333333333333333,
             "#9c179e"
            ],
            [
             0.4444444444444444,
             "#bd3786"
            ],
            [
             0.5555555555555556,
             "#d8576b"
            ],
            [
             0.6666666666666666,
             "#ed7953"
            ],
            [
             0.7777777777777778,
             "#fb9f3a"
            ],
            [
             0.8888888888888888,
             "#fdca26"
            ],
            [
             1,
             "#f0f921"
            ]
           ],
           "sequentialminus": [
            [
             0,
             "#0d0887"
            ],
            [
             0.1111111111111111,
             "#46039f"
            ],
            [
             0.2222222222222222,
             "#7201a8"
            ],
            [
             0.3333333333333333,
             "#9c179e"
            ],
            [
             0.4444444444444444,
             "#bd3786"
            ],
            [
             0.5555555555555556,
             "#d8576b"
            ],
            [
             0.6666666666666666,
             "#ed7953"
            ],
            [
             0.7777777777777778,
             "#fb9f3a"
            ],
            [
             0.8888888888888888,
             "#fdca26"
            ],
            [
             1,
             "#f0f921"
            ]
           ]
          },
          "colorway": [
           "#636efa",
           "#EF553B",
           "#00cc96",
           "#ab63fa",
           "#FFA15A",
           "#19d3f3",
           "#FF6692",
           "#B6E880",
           "#FF97FF",
           "#FECB52"
          ],
          "font": {
           "color": "#2a3f5f"
          },
          "geo": {
           "bgcolor": "white",
           "lakecolor": "white",
           "landcolor": "#E5ECF6",
           "showlakes": true,
           "showland": true,
           "subunitcolor": "white"
          },
          "hoverlabel": {
           "align": "left"
          },
          "hovermode": "closest",
          "mapbox": {
           "style": "light"
          },
          "paper_bgcolor": "white",
          "plot_bgcolor": "#E5ECF6",
          "polar": {
           "angularaxis": {
            "gridcolor": "white",
            "linecolor": "white",
            "ticks": ""
           },
           "bgcolor": "#E5ECF6",
           "radialaxis": {
            "gridcolor": "white",
            "linecolor": "white",
            "ticks": ""
           }
          },
          "scene": {
           "xaxis": {
            "backgroundcolor": "#E5ECF6",
            "gridcolor": "white",
            "gridwidth": 2,
            "linecolor": "white",
            "showbackground": true,
            "ticks": "",
            "zerolinecolor": "white"
           },
           "yaxis": {
            "backgroundcolor": "#E5ECF6",
            "gridcolor": "white",
            "gridwidth": 2,
            "linecolor": "white",
            "showbackground": true,
            "ticks": "",
            "zerolinecolor": "white"
           },
           "zaxis": {
            "backgroundcolor": "#E5ECF6",
            "gridcolor": "white",
            "gridwidth": 2,
            "linecolor": "white",
            "showbackground": true,
            "ticks": "",
            "zerolinecolor": "white"
           }
          },
          "shapedefaults": {
           "line": {
            "color": "#2a3f5f"
           }
          },
          "ternary": {
           "aaxis": {
            "gridcolor": "white",
            "linecolor": "white",
            "ticks": ""
           },
           "baxis": {
            "gridcolor": "white",
            "linecolor": "white",
            "ticks": ""
           },
           "bgcolor": "#E5ECF6",
           "caxis": {
            "gridcolor": "white",
            "linecolor": "white",
            "ticks": ""
           }
          },
          "title": {
           "x": 0.05
          },
          "xaxis": {
           "automargin": true,
           "gridcolor": "white",
           "linecolor": "white",
           "ticks": "",
           "title": {
            "standoff": 15
           },
           "zerolinecolor": "white",
           "zerolinewidth": 2
          },
          "yaxis": {
           "automargin": true,
           "gridcolor": "white",
           "linecolor": "white",
           "ticks": "",
           "title": {
            "standoff": 15
           },
           "zerolinecolor": "white",
           "zerolinewidth": 2
          }
         }
        },
        "title": {
         "text": "Total Population in 2023"
        }
       }
      }
     },
     "metadata": {},
     "output_type": "display_data"
    }
   ],
   "source": [
    "# make choropleth map of total population using plotly\n",
    "fig = px.choropleth(df[df['Year'] == 2023], \n",
    "                    locations=\"Country\",\n",
    "                    locationmode='country names',\n",
    "                    color=\"total_population\",\n",
    "                    hover_name=\"Country\",\n",
    "                    color_continuous_scale=px.colors.sequential.Viridis, # 'Viridis',\n",
    "                    title=\"Total Population in 2023\",\n",
    "                    labels={'total_population': 'Total Population'}\n",
    "                    )\n",
    "# limit the scale of the colorbar\n",
    "fig.update_layout(\n",
    "    coloraxis_colorbar=dict(\n",
    "        title='Total Population',\n",
    "        tickvals=[1e6, 1e7, 1e8, 1.5e9],  # Custom tick values\n",
    "        ticktext=['1M', '10M', '100M', '1.5B']  # Custom tick labels\n",
    "    ),\n",
    "    coloraxis=dict(\n",
    "        cmin=0,  # Minimum value\n",
    "        cmax=0.5e9  # Maximum value set to 1.5 billion\n",
    "    )\n",
    ")\n",
    "fig.show()"
   ]
  },
  {
   "cell_type": "code",
   "execution_count": 7,
   "id": "1ef820da",
   "metadata": {},
   "outputs": [
    {
     "data": {
      "application/vnd.plotly.v1+json": {
       "config": {
        "plotlyServerURL": "https://plot.ly"
       },
       "data": [
        {
         "coloraxis": "coloraxis",
         "geo": "geo",
         "hovertemplate": "<b>%{hovertext}</b><br><br>Country=%{location}<br>Total Population=%{z}<extra></extra>",
         "hovertext": [
          "Afghanistan",
          "Bangladesh",
          "India",
          "Sri Lanka",
          "Pakistan"
         ],
         "locationmode": "country names",
         "locations": [
          "Afghanistan",
          "Bangladesh",
          "India",
          "Sri Lanka",
          "Pakistan"
         ],
         "name": "",
         "type": "choropleth",
         "z": {
          "bdata": "AAAASGXEg0EAAADcwXCkQQAAANfMbdVBAAAAgCAEdUEAAADePIGtQQ==",
          "dtype": "f8"
         }
        }
       ],
       "layout": {
        "coloraxis": {
         "colorbar": {
          "title": {
           "text": "Total Population"
          }
         },
         "colorscale": [
          [
           0,
           "#440154"
          ],
          [
           0.1111111111111111,
           "#482878"
          ],
          [
           0.2222222222222222,
           "#3e4989"
          ],
          [
           0.3333333333333333,
           "#31688e"
          ],
          [
           0.4444444444444444,
           "#26828e"
          ],
          [
           0.5555555555555556,
           "#1f9e89"
          ],
          [
           0.6666666666666666,
           "#35b779"
          ],
          [
           0.7777777777777778,
           "#6ece58"
          ],
          [
           0.8888888888888888,
           "#b5de2b"
          ],
          [
           1,
           "#fde725"
          ]
         ]
        },
        "geo": {
         "center": {},
         "domain": {
          "x": [
           0,
           1
          ],
          "y": [
           0,
           1
          ]
         }
        },
        "legend": {
         "tracegroupgap": 0
        },
        "template": {
         "data": {
          "bar": [
           {
            "error_x": {
             "color": "#2a3f5f"
            },
            "error_y": {
             "color": "#2a3f5f"
            },
            "marker": {
             "line": {
              "color": "#E5ECF6",
              "width": 0.5
             },
             "pattern": {
              "fillmode": "overlay",
              "size": 10,
              "solidity": 0.2
             }
            },
            "type": "bar"
           }
          ],
          "barpolar": [
           {
            "marker": {
             "line": {
              "color": "#E5ECF6",
              "width": 0.5
             },
             "pattern": {
              "fillmode": "overlay",
              "size": 10,
              "solidity": 0.2
             }
            },
            "type": "barpolar"
           }
          ],
          "carpet": [
           {
            "aaxis": {
             "endlinecolor": "#2a3f5f",
             "gridcolor": "white",
             "linecolor": "white",
             "minorgridcolor": "white",
             "startlinecolor": "#2a3f5f"
            },
            "baxis": {
             "endlinecolor": "#2a3f5f",
             "gridcolor": "white",
             "linecolor": "white",
             "minorgridcolor": "white",
             "startlinecolor": "#2a3f5f"
            },
            "type": "carpet"
           }
          ],
          "choropleth": [
           {
            "colorbar": {
             "outlinewidth": 0,
             "ticks": ""
            },
            "type": "choropleth"
           }
          ],
          "contour": [
           {
            "colorbar": {
             "outlinewidth": 0,
             "ticks": ""
            },
            "colorscale": [
             [
              0,
              "#0d0887"
             ],
             [
              0.1111111111111111,
              "#46039f"
             ],
             [
              0.2222222222222222,
              "#7201a8"
             ],
             [
              0.3333333333333333,
              "#9c179e"
             ],
             [
              0.4444444444444444,
              "#bd3786"
             ],
             [
              0.5555555555555556,
              "#d8576b"
             ],
             [
              0.6666666666666666,
              "#ed7953"
             ],
             [
              0.7777777777777778,
              "#fb9f3a"
             ],
             [
              0.8888888888888888,
              "#fdca26"
             ],
             [
              1,
              "#f0f921"
             ]
            ],
            "type": "contour"
           }
          ],
          "contourcarpet": [
           {
            "colorbar": {
             "outlinewidth": 0,
             "ticks": ""
            },
            "type": "contourcarpet"
           }
          ],
          "heatmap": [
           {
            "colorbar": {
             "outlinewidth": 0,
             "ticks": ""
            },
            "colorscale": [
             [
              0,
              "#0d0887"
             ],
             [
              0.1111111111111111,
              "#46039f"
             ],
             [
              0.2222222222222222,
              "#7201a8"
             ],
             [
              0.3333333333333333,
              "#9c179e"
             ],
             [
              0.4444444444444444,
              "#bd3786"
             ],
             [
              0.5555555555555556,
              "#d8576b"
             ],
             [
              0.6666666666666666,
              "#ed7953"
             ],
             [
              0.7777777777777778,
              "#fb9f3a"
             ],
             [
              0.8888888888888888,
              "#fdca26"
             ],
             [
              1,
              "#f0f921"
             ]
            ],
            "type": "heatmap"
           }
          ],
          "histogram": [
           {
            "marker": {
             "pattern": {
              "fillmode": "overlay",
              "size": 10,
              "solidity": 0.2
             }
            },
            "type": "histogram"
           }
          ],
          "histogram2d": [
           {
            "colorbar": {
             "outlinewidth": 0,
             "ticks": ""
            },
            "colorscale": [
             [
              0,
              "#0d0887"
             ],
             [
              0.1111111111111111,
              "#46039f"
             ],
             [
              0.2222222222222222,
              "#7201a8"
             ],
             [
              0.3333333333333333,
              "#9c179e"
             ],
             [
              0.4444444444444444,
              "#bd3786"
             ],
             [
              0.5555555555555556,
              "#d8576b"
             ],
             [
              0.6666666666666666,
              "#ed7953"
             ],
             [
              0.7777777777777778,
              "#fb9f3a"
             ],
             [
              0.8888888888888888,
              "#fdca26"
             ],
             [
              1,
              "#f0f921"
             ]
            ],
            "type": "histogram2d"
           }
          ],
          "histogram2dcontour": [
           {
            "colorbar": {
             "outlinewidth": 0,
             "ticks": ""
            },
            "colorscale": [
             [
              0,
              "#0d0887"
             ],
             [
              0.1111111111111111,
              "#46039f"
             ],
             [
              0.2222222222222222,
              "#7201a8"
             ],
             [
              0.3333333333333333,
              "#9c179e"
             ],
             [
              0.4444444444444444,
              "#bd3786"
             ],
             [
              0.5555555555555556,
              "#d8576b"
             ],
             [
              0.6666666666666666,
              "#ed7953"
             ],
             [
              0.7777777777777778,
              "#fb9f3a"
             ],
             [
              0.8888888888888888,
              "#fdca26"
             ],
             [
              1,
              "#f0f921"
             ]
            ],
            "type": "histogram2dcontour"
           }
          ],
          "mesh3d": [
           {
            "colorbar": {
             "outlinewidth": 0,
             "ticks": ""
            },
            "type": "mesh3d"
           }
          ],
          "parcoords": [
           {
            "line": {
             "colorbar": {
              "outlinewidth": 0,
              "ticks": ""
             }
            },
            "type": "parcoords"
           }
          ],
          "pie": [
           {
            "automargin": true,
            "type": "pie"
           }
          ],
          "scatter": [
           {
            "fillpattern": {
             "fillmode": "overlay",
             "size": 10,
             "solidity": 0.2
            },
            "type": "scatter"
           }
          ],
          "scatter3d": [
           {
            "line": {
             "colorbar": {
              "outlinewidth": 0,
              "ticks": ""
             }
            },
            "marker": {
             "colorbar": {
              "outlinewidth": 0,
              "ticks": ""
             }
            },
            "type": "scatter3d"
           }
          ],
          "scattercarpet": [
           {
            "marker": {
             "colorbar": {
              "outlinewidth": 0,
              "ticks": ""
             }
            },
            "type": "scattercarpet"
           }
          ],
          "scattergeo": [
           {
            "marker": {
             "colorbar": {
              "outlinewidth": 0,
              "ticks": ""
             }
            },
            "type": "scattergeo"
           }
          ],
          "scattergl": [
           {
            "marker": {
             "colorbar": {
              "outlinewidth": 0,
              "ticks": ""
             }
            },
            "type": "scattergl"
           }
          ],
          "scattermap": [
           {
            "marker": {
             "colorbar": {
              "outlinewidth": 0,
              "ticks": ""
             }
            },
            "type": "scattermap"
           }
          ],
          "scattermapbox": [
           {
            "marker": {
             "colorbar": {
              "outlinewidth": 0,
              "ticks": ""
             }
            },
            "type": "scattermapbox"
           }
          ],
          "scatterpolar": [
           {
            "marker": {
             "colorbar": {
              "outlinewidth": 0,
              "ticks": ""
             }
            },
            "type": "scatterpolar"
           }
          ],
          "scatterpolargl": [
           {
            "marker": {
             "colorbar": {
              "outlinewidth": 0,
              "ticks": ""
             }
            },
            "type": "scatterpolargl"
           }
          ],
          "scatterternary": [
           {
            "marker": {
             "colorbar": {
              "outlinewidth": 0,
              "ticks": ""
             }
            },
            "type": "scatterternary"
           }
          ],
          "surface": [
           {
            "colorbar": {
             "outlinewidth": 0,
             "ticks": ""
            },
            "colorscale": [
             [
              0,
              "#0d0887"
             ],
             [
              0.1111111111111111,
              "#46039f"
             ],
             [
              0.2222222222222222,
              "#7201a8"
             ],
             [
              0.3333333333333333,
              "#9c179e"
             ],
             [
              0.4444444444444444,
              "#bd3786"
             ],
             [
              0.5555555555555556,
              "#d8576b"
             ],
             [
              0.6666666666666666,
              "#ed7953"
             ],
             [
              0.7777777777777778,
              "#fb9f3a"
             ],
             [
              0.8888888888888888,
              "#fdca26"
             ],
             [
              1,
              "#f0f921"
             ]
            ],
            "type": "surface"
           }
          ],
          "table": [
           {
            "cells": {
             "fill": {
              "color": "#EBF0F8"
             },
             "line": {
              "color": "white"
             }
            },
            "header": {
             "fill": {
              "color": "#C8D4E3"
             },
             "line": {
              "color": "white"
             }
            },
            "type": "table"
           }
          ]
         },
         "layout": {
          "annotationdefaults": {
           "arrowcolor": "#2a3f5f",
           "arrowhead": 0,
           "arrowwidth": 1
          },
          "autotypenumbers": "strict",
          "coloraxis": {
           "colorbar": {
            "outlinewidth": 0,
            "ticks": ""
           }
          },
          "colorscale": {
           "diverging": [
            [
             0,
             "#8e0152"
            ],
            [
             0.1,
             "#c51b7d"
            ],
            [
             0.2,
             "#de77ae"
            ],
            [
             0.3,
             "#f1b6da"
            ],
            [
             0.4,
             "#fde0ef"
            ],
            [
             0.5,
             "#f7f7f7"
            ],
            [
             0.6,
             "#e6f5d0"
            ],
            [
             0.7,
             "#b8e186"
            ],
            [
             0.8,
             "#7fbc41"
            ],
            [
             0.9,
             "#4d9221"
            ],
            [
             1,
             "#276419"
            ]
           ],
           "sequential": [
            [
             0,
             "#0d0887"
            ],
            [
             0.1111111111111111,
             "#46039f"
            ],
            [
             0.2222222222222222,
             "#7201a8"
            ],
            [
             0.3333333333333333,
             "#9c179e"
            ],
            [
             0.4444444444444444,
             "#bd3786"
            ],
            [
             0.5555555555555556,
             "#d8576b"
            ],
            [
             0.6666666666666666,
             "#ed7953"
            ],
            [
             0.7777777777777778,
             "#fb9f3a"
            ],
            [
             0.8888888888888888,
             "#fdca26"
            ],
            [
             1,
             "#f0f921"
            ]
           ],
           "sequentialminus": [
            [
             0,
             "#0d0887"
            ],
            [
             0.1111111111111111,
             "#46039f"
            ],
            [
             0.2222222222222222,
             "#7201a8"
            ],
            [
             0.3333333333333333,
             "#9c179e"
            ],
            [
             0.4444444444444444,
             "#bd3786"
            ],
            [
             0.5555555555555556,
             "#d8576b"
            ],
            [
             0.6666666666666666,
             "#ed7953"
            ],
            [
             0.7777777777777778,
             "#fb9f3a"
            ],
            [
             0.8888888888888888,
             "#fdca26"
            ],
            [
             1,
             "#f0f921"
            ]
           ]
          },
          "colorway": [
           "#636efa",
           "#EF553B",
           "#00cc96",
           "#ab63fa",
           "#FFA15A",
           "#19d3f3",
           "#FF6692",
           "#B6E880",
           "#FF97FF",
           "#FECB52"
          ],
          "font": {
           "color": "#2a3f5f"
          },
          "geo": {
           "bgcolor": "white",
           "lakecolor": "white",
           "landcolor": "#E5ECF6",
           "showlakes": true,
           "showland": true,
           "subunitcolor": "white"
          },
          "hoverlabel": {
           "align": "left"
          },
          "hovermode": "closest",
          "mapbox": {
           "style": "light"
          },
          "paper_bgcolor": "white",
          "plot_bgcolor": "#E5ECF6",
          "polar": {
           "angularaxis": {
            "gridcolor": "white",
            "linecolor": "white",
            "ticks": ""
           },
           "bgcolor": "#E5ECF6",
           "radialaxis": {
            "gridcolor": "white",
            "linecolor": "white",
            "ticks": ""
           }
          },
          "scene": {
           "xaxis": {
            "backgroundcolor": "#E5ECF6",
            "gridcolor": "white",
            "gridwidth": 2,
            "linecolor": "white",
            "showbackground": true,
            "ticks": "",
            "zerolinecolor": "white"
           },
           "yaxis": {
            "backgroundcolor": "#E5ECF6",
            "gridcolor": "white",
            "gridwidth": 2,
            "linecolor": "white",
            "showbackground": true,
            "ticks": "",
            "zerolinecolor": "white"
           },
           "zaxis": {
            "backgroundcolor": "#E5ECF6",
            "gridcolor": "white",
            "gridwidth": 2,
            "linecolor": "white",
            "showbackground": true,
            "ticks": "",
            "zerolinecolor": "white"
           }
          },
          "shapedefaults": {
           "line": {
            "color": "#2a3f5f"
           }
          },
          "ternary": {
           "aaxis": {
            "gridcolor": "white",
            "linecolor": "white",
            "ticks": ""
           },
           "baxis": {
            "gridcolor": "white",
            "linecolor": "white",
            "ticks": ""
           },
           "bgcolor": "#E5ECF6",
           "caxis": {
            "gridcolor": "white",
            "linecolor": "white",
            "ticks": ""
           }
          },
          "title": {
           "x": 0.05
          },
          "xaxis": {
           "automargin": true,
           "gridcolor": "white",
           "linecolor": "white",
           "ticks": "",
           "title": {
            "standoff": 15
           },
           "zerolinecolor": "white",
           "zerolinewidth": 2
          },
          "yaxis": {
           "automargin": true,
           "gridcolor": "white",
           "linecolor": "white",
           "ticks": "",
           "title": {
            "standoff": 15
           },
           "zerolinecolor": "white",
           "zerolinewidth": 2
          }
         }
        },
        "title": {
         "text": "Total Population in 2023"
        }
       }
      }
     },
     "metadata": {},
     "output_type": "display_data"
    }
   ],
   "source": [
    "# fetch data of world bank total population and gdp per capita for the year 2023\n",
    "import wbdata\n",
    "import pandas as pd\n",
    "import plotly.express as px\n",
    "import wbdata\n",
    "import datetime\n",
    "\n",
    "# Define the indicator for population (SP.POP.TOTL)\n",
    "indicator = {\n",
    "    'SP.POP.TOTL': 'total_population'\n",
    "             }\n",
    "\n",
    "# Define countries (India and Pakistan)\n",
    "countries = ['IN', 'PK', 'BD', 'LK', 'AF']  # 'IN' for India, 'PK' for Pakistan\n",
    "\n",
    "# Fetch data\n",
    "data = wbdata.get_dataframe(indicator, \n",
    "                            country=countries,\n",
    "                            )\n",
    "\n",
    "# Reset index to convert it into a DataFrame\n",
    "data.reset_index(inplace=True)\n",
    "\n",
    "# Rename columns for clarity\n",
    "data.rename(columns={'country': 'Country', 'date': 'Year'}, inplace=True)\n",
    "\n",
    "# Ensure Year column is numeric\n",
    "data['Year'] = pd.to_numeric(data['Year'])\n",
    "\n",
    "# Filter data between 1960 and 2023\n",
    "df = data[(data['Year'] <= 2023) & (data['Year'] >= 1960)]\n",
    "df.sample(5, random_state=42)\n",
    "\n",
    "# # Save to a CSV file (optional)\n",
    "# data.to_csv(\"./dataset/total_population.csv\", index=False)\n",
    "\n",
    "# # Display the first few rows of data\n",
    "# print(data.head())\n",
    "\n",
    "# make choropleth map of total population using plotly\n",
    "fig = px.choropleth(df[df['Year'] == 2023], \n",
    "                    locations=\"Country\",\n",
    "                    locationmode='country names',\n",
    "                    color=\"total_population\",\n",
    "                    hover_name=\"Country\",\n",
    "                    color_continuous_scale=px.colors.sequential.Viridis, # 'Viridis',\n",
    "                    title=\"Total Population in 2023\",\n",
    "                    labels={'total_population': 'Total Population'}\n",
    "                    )\n",
    "\n",
    "fig.show()\n"
   ]
  },
  {
   "cell_type": "code",
   "execution_count": 8,
   "id": "21c8ffde",
   "metadata": {},
   "outputs": [
    {
     "data": {
      "application/vnd.plotly.v1+json": {
       "config": {
        "plotlyServerURL": "https://plot.ly"
       },
       "data": [
        {
         "coloraxis": "coloraxis",
         "geo": "geo",
         "hovertemplate": "<b>%{hovertext}</b><br><br>Country=%{location}<br>GDP Per Capita (Current US$)=%{z}<extra></extra>",
         "hovertext": [
          "Afghanistan",
          "Bangladesh",
          "India",
          "Sri Lanka",
          "Pakistan"
         ],
         "locationmode": "country names",
         "locations": [
          "Afghanistan",
          "Bangladesh",
          "India",
          "Sri Lanka",
          "Pakistan"
         ],
         "name": "",
         "type": "choropleth",
         "z": {
          "bdata": "g9aMlFH7eUBUvXoTCe6jQGeidIyVYaNAcBDDDu7nrUC5czEXHFWVQA==",
          "dtype": "f8"
         }
        }
       ],
       "layout": {
        "coloraxis": {
         "colorbar": {
          "title": {
           "text": "GDP Per Capita (Current US$)"
          }
         },
         "colorscale": [
          [
           0,
           "#440154"
          ],
          [
           0.1111111111111111,
           "#482878"
          ],
          [
           0.2222222222222222,
           "#3e4989"
          ],
          [
           0.3333333333333333,
           "#31688e"
          ],
          [
           0.4444444444444444,
           "#26828e"
          ],
          [
           0.5555555555555556,
           "#1f9e89"
          ],
          [
           0.6666666666666666,
           "#35b779"
          ],
          [
           0.7777777777777778,
           "#6ece58"
          ],
          [
           0.8888888888888888,
           "#b5de2b"
          ],
          [
           1,
           "#fde725"
          ]
         ]
        },
        "geo": {
         "center": {},
         "domain": {
          "x": [
           0,
           1
          ],
          "y": [
           0,
           1
          ]
         },
         "projection": {
          "type": "eckert4"
         }
        },
        "legend": {
         "tracegroupgap": 0
        },
        "template": {
         "data": {
          "bar": [
           {
            "error_x": {
             "color": "#2a3f5f"
            },
            "error_y": {
             "color": "#2a3f5f"
            },
            "marker": {
             "line": {
              "color": "#E5ECF6",
              "width": 0.5
             },
             "pattern": {
              "fillmode": "overlay",
              "size": 10,
              "solidity": 0.2
             }
            },
            "type": "bar"
           }
          ],
          "barpolar": [
           {
            "marker": {
             "line": {
              "color": "#E5ECF6",
              "width": 0.5
             },
             "pattern": {
              "fillmode": "overlay",
              "size": 10,
              "solidity": 0.2
             }
            },
            "type": "barpolar"
           }
          ],
          "carpet": [
           {
            "aaxis": {
             "endlinecolor": "#2a3f5f",
             "gridcolor": "white",
             "linecolor": "white",
             "minorgridcolor": "white",
             "startlinecolor": "#2a3f5f"
            },
            "baxis": {
             "endlinecolor": "#2a3f5f",
             "gridcolor": "white",
             "linecolor": "white",
             "minorgridcolor": "white",
             "startlinecolor": "#2a3f5f"
            },
            "type": "carpet"
           }
          ],
          "choropleth": [
           {
            "colorbar": {
             "outlinewidth": 0,
             "ticks": ""
            },
            "type": "choropleth"
           }
          ],
          "contour": [
           {
            "colorbar": {
             "outlinewidth": 0,
             "ticks": ""
            },
            "colorscale": [
             [
              0,
              "#0d0887"
             ],
             [
              0.1111111111111111,
              "#46039f"
             ],
             [
              0.2222222222222222,
              "#7201a8"
             ],
             [
              0.3333333333333333,
              "#9c179e"
             ],
             [
              0.4444444444444444,
              "#bd3786"
             ],
             [
              0.5555555555555556,
              "#d8576b"
             ],
             [
              0.6666666666666666,
              "#ed7953"
             ],
             [
              0.7777777777777778,
              "#fb9f3a"
             ],
             [
              0.8888888888888888,
              "#fdca26"
             ],
             [
              1,
              "#f0f921"
             ]
            ],
            "type": "contour"
           }
          ],
          "contourcarpet": [
           {
            "colorbar": {
             "outlinewidth": 0,
             "ticks": ""
            },
            "type": "contourcarpet"
           }
          ],
          "heatmap": [
           {
            "colorbar": {
             "outlinewidth": 0,
             "ticks": ""
            },
            "colorscale": [
             [
              0,
              "#0d0887"
             ],
             [
              0.1111111111111111,
              "#46039f"
             ],
             [
              0.2222222222222222,
              "#7201a8"
             ],
             [
              0.3333333333333333,
              "#9c179e"
             ],
             [
              0.4444444444444444,
              "#bd3786"
             ],
             [
              0.5555555555555556,
              "#d8576b"
             ],
             [
              0.6666666666666666,
              "#ed7953"
             ],
             [
              0.7777777777777778,
              "#fb9f3a"
             ],
             [
              0.8888888888888888,
              "#fdca26"
             ],
             [
              1,
              "#f0f921"
             ]
            ],
            "type": "heatmap"
           }
          ],
          "histogram": [
           {
            "marker": {
             "pattern": {
              "fillmode": "overlay",
              "size": 10,
              "solidity": 0.2
             }
            },
            "type": "histogram"
           }
          ],
          "histogram2d": [
           {
            "colorbar": {
             "outlinewidth": 0,
             "ticks": ""
            },
            "colorscale": [
             [
              0,
              "#0d0887"
             ],
             [
              0.1111111111111111,
              "#46039f"
             ],
             [
              0.2222222222222222,
              "#7201a8"
             ],
             [
              0.3333333333333333,
              "#9c179e"
             ],
             [
              0.4444444444444444,
              "#bd3786"
             ],
             [
              0.5555555555555556,
              "#d8576b"
             ],
             [
              0.6666666666666666,
              "#ed7953"
             ],
             [
              0.7777777777777778,
              "#fb9f3a"
             ],
             [
              0.8888888888888888,
              "#fdca26"
             ],
             [
              1,
              "#f0f921"
             ]
            ],
            "type": "histogram2d"
           }
          ],
          "histogram2dcontour": [
           {
            "colorbar": {
             "outlinewidth": 0,
             "ticks": ""
            },
            "colorscale": [
             [
              0,
              "#0d0887"
             ],
             [
              0.1111111111111111,
              "#46039f"
             ],
             [
              0.2222222222222222,
              "#7201a8"
             ],
             [
              0.3333333333333333,
              "#9c179e"
             ],
             [
              0.4444444444444444,
              "#bd3786"
             ],
             [
              0.5555555555555556,
              "#d8576b"
             ],
             [
              0.6666666666666666,
              "#ed7953"
             ],
             [
              0.7777777777777778,
              "#fb9f3a"
             ],
             [
              0.8888888888888888,
              "#fdca26"
             ],
             [
              1,
              "#f0f921"
             ]
            ],
            "type": "histogram2dcontour"
           }
          ],
          "mesh3d": [
           {
            "colorbar": {
             "outlinewidth": 0,
             "ticks": ""
            },
            "type": "mesh3d"
           }
          ],
          "parcoords": [
           {
            "line": {
             "colorbar": {
              "outlinewidth": 0,
              "ticks": ""
             }
            },
            "type": "parcoords"
           }
          ],
          "pie": [
           {
            "automargin": true,
            "type": "pie"
           }
          ],
          "scatter": [
           {
            "fillpattern": {
             "fillmode": "overlay",
             "size": 10,
             "solidity": 0.2
            },
            "type": "scatter"
           }
          ],
          "scatter3d": [
           {
            "line": {
             "colorbar": {
              "outlinewidth": 0,
              "ticks": ""
             }
            },
            "marker": {
             "colorbar": {
              "outlinewidth": 0,
              "ticks": ""
             }
            },
            "type": "scatter3d"
           }
          ],
          "scattercarpet": [
           {
            "marker": {
             "colorbar": {
              "outlinewidth": 0,
              "ticks": ""
             }
            },
            "type": "scattercarpet"
           }
          ],
          "scattergeo": [
           {
            "marker": {
             "colorbar": {
              "outlinewidth": 0,
              "ticks": ""
             }
            },
            "type": "scattergeo"
           }
          ],
          "scattergl": [
           {
            "marker": {
             "colorbar": {
              "outlinewidth": 0,
              "ticks": ""
             }
            },
            "type": "scattergl"
           }
          ],
          "scattermap": [
           {
            "marker": {
             "colorbar": {
              "outlinewidth": 0,
              "ticks": ""
             }
            },
            "type": "scattermap"
           }
          ],
          "scattermapbox": [
           {
            "marker": {
             "colorbar": {
              "outlinewidth": 0,
              "ticks": ""
             }
            },
            "type": "scattermapbox"
           }
          ],
          "scatterpolar": [
           {
            "marker": {
             "colorbar": {
              "outlinewidth": 0,
              "ticks": ""
             }
            },
            "type": "scatterpolar"
           }
          ],
          "scatterpolargl": [
           {
            "marker": {
             "colorbar": {
              "outlinewidth": 0,
              "ticks": ""
             }
            },
            "type": "scatterpolargl"
           }
          ],
          "scatterternary": [
           {
            "marker": {
             "colorbar": {
              "outlinewidth": 0,
              "ticks": ""
             }
            },
            "type": "scatterternary"
           }
          ],
          "surface": [
           {
            "colorbar": {
             "outlinewidth": 0,
             "ticks": ""
            },
            "colorscale": [
             [
              0,
              "#0d0887"
             ],
             [
              0.1111111111111111,
              "#46039f"
             ],
             [
              0.2222222222222222,
              "#7201a8"
             ],
             [
              0.3333333333333333,
              "#9c179e"
             ],
             [
              0.4444444444444444,
              "#bd3786"
             ],
             [
              0.5555555555555556,
              "#d8576b"
             ],
             [
              0.6666666666666666,
              "#ed7953"
             ],
             [
              0.7777777777777778,
              "#fb9f3a"
             ],
             [
              0.8888888888888888,
              "#fdca26"
             ],
             [
              1,
              "#f0f921"
             ]
            ],
            "type": "surface"
           }
          ],
          "table": [
           {
            "cells": {
             "fill": {
              "color": "#EBF0F8"
             },
             "line": {
              "color": "white"
             }
            },
            "header": {
             "fill": {
              "color": "#C8D4E3"
             },
             "line": {
              "color": "white"
             }
            },
            "type": "table"
           }
          ]
         },
         "layout": {
          "annotationdefaults": {
           "arrowcolor": "#2a3f5f",
           "arrowhead": 0,
           "arrowwidth": 1
          },
          "autotypenumbers": "strict",
          "coloraxis": {
           "colorbar": {
            "outlinewidth": 0,
            "ticks": ""
           }
          },
          "colorscale": {
           "diverging": [
            [
             0,
             "#8e0152"
            ],
            [
             0.1,
             "#c51b7d"
            ],
            [
             0.2,
             "#de77ae"
            ],
            [
             0.3,
             "#f1b6da"
            ],
            [
             0.4,
             "#fde0ef"
            ],
            [
             0.5,
             "#f7f7f7"
            ],
            [
             0.6,
             "#e6f5d0"
            ],
            [
             0.7,
             "#b8e186"
            ],
            [
             0.8,
             "#7fbc41"
            ],
            [
             0.9,
             "#4d9221"
            ],
            [
             1,
             "#276419"
            ]
           ],
           "sequential": [
            [
             0,
             "#0d0887"
            ],
            [
             0.1111111111111111,
             "#46039f"
            ],
            [
             0.2222222222222222,
             "#7201a8"
            ],
            [
             0.3333333333333333,
             "#9c179e"
            ],
            [
             0.4444444444444444,
             "#bd3786"
            ],
            [
             0.5555555555555556,
             "#d8576b"
            ],
            [
             0.6666666666666666,
             "#ed7953"
            ],
            [
             0.7777777777777778,
             "#fb9f3a"
            ],
            [
             0.8888888888888888,
             "#fdca26"
            ],
            [
             1,
             "#f0f921"
            ]
           ],
           "sequentialminus": [
            [
             0,
             "#0d0887"
            ],
            [
             0.1111111111111111,
             "#46039f"
            ],
            [
             0.2222222222222222,
             "#7201a8"
            ],
            [
             0.3333333333333333,
             "#9c179e"
            ],
            [
             0.4444444444444444,
             "#bd3786"
            ],
            [
             0.5555555555555556,
             "#d8576b"
            ],
            [
             0.6666666666666666,
             "#ed7953"
            ],
            [
             0.7777777777777778,
             "#fb9f3a"
            ],
            [
             0.8888888888888888,
             "#fdca26"
            ],
            [
             1,
             "#f0f921"
            ]
           ]
          },
          "colorway": [
           "#636efa",
           "#EF553B",
           "#00cc96",
           "#ab63fa",
           "#FFA15A",
           "#19d3f3",
           "#FF6692",
           "#B6E880",
           "#FF97FF",
           "#FECB52"
          ],
          "font": {
           "color": "#2a3f5f"
          },
          "geo": {
           "bgcolor": "white",
           "lakecolor": "white",
           "landcolor": "#E5ECF6",
           "showlakes": true,
           "showland": true,
           "subunitcolor": "white"
          },
          "hoverlabel": {
           "align": "left"
          },
          "hovermode": "closest",
          "mapbox": {
           "style": "light"
          },
          "paper_bgcolor": "white",
          "plot_bgcolor": "#E5ECF6",
          "polar": {
           "angularaxis": {
            "gridcolor": "white",
            "linecolor": "white",
            "ticks": ""
           },
           "bgcolor": "#E5ECF6",
           "radialaxis": {
            "gridcolor": "white",
            "linecolor": "white",
            "ticks": ""
           }
          },
          "scene": {
           "xaxis": {
            "backgroundcolor": "#E5ECF6",
            "gridcolor": "white",
            "gridwidth": 2,
            "linecolor": "white",
            "showbackground": true,
            "ticks": "",
            "zerolinecolor": "white"
           },
           "yaxis": {
            "backgroundcolor": "#E5ECF6",
            "gridcolor": "white",
            "gridwidth": 2,
            "linecolor": "white",
            "showbackground": true,
            "ticks": "",
            "zerolinecolor": "white"
           },
           "zaxis": {
            "backgroundcolor": "#E5ECF6",
            "gridcolor": "white",
            "gridwidth": 2,
            "linecolor": "white",
            "showbackground": true,
            "ticks": "",
            "zerolinecolor": "white"
           }
          },
          "shapedefaults": {
           "line": {
            "color": "#2a3f5f"
           }
          },
          "ternary": {
           "aaxis": {
            "gridcolor": "white",
            "linecolor": "white",
            "ticks": ""
           },
           "baxis": {
            "gridcolor": "white",
            "linecolor": "white",
            "ticks": ""
           },
           "bgcolor": "#E5ECF6",
           "caxis": {
            "gridcolor": "white",
            "linecolor": "white",
            "ticks": ""
           }
          },
          "title": {
           "x": 0.05
          },
          "xaxis": {
           "automargin": true,
           "gridcolor": "white",
           "linecolor": "white",
           "ticks": "",
           "title": {
            "standoff": 15
           },
           "zerolinecolor": "white",
           "zerolinewidth": 2
          },
          "yaxis": {
           "automargin": true,
           "gridcolor": "white",
           "linecolor": "white",
           "ticks": "",
           "title": {
            "standoff": 15
           },
           "zerolinecolor": "white",
           "zerolinewidth": 2
          }
         }
        },
        "title": {
         "text": "Total Population in 2023"
        }
       }
      }
     },
     "metadata": {},
     "output_type": "display_data"
    }
   ],
   "source": [
    "# fetch data of world bank total population and gdp per capita for the year 2023\n",
    "import wbdata\n",
    "import pandas as pd\n",
    "import plotly.express as px\n",
    "import wbdata\n",
    "import datetime\n",
    "\n",
    "# Define the indicator for population (SP.POP.TOTL)\n",
    "indicator = {\n",
    "    'SP.POP.TOTL': 'total_population',\n",
    "    'NY.GDP.PCAP.CD': 'gdp_per_capita',\n",
    "    # net migration\n",
    "    'SM.POP.NETM': 'net_migration',\n",
    "             }\n",
    "\n",
    "# Define countries (India and Pakistan)\n",
    "countries = ['IN', 'PK', 'BD', 'LK', 'AF']  # 'IN' for India, 'PK' for Pakistan\n",
    "\n",
    "# Fetch data\n",
    "data = wbdata.get_dataframe(indicator, \n",
    "                            country=countries,\n",
    "                            )\n",
    "\n",
    "# Reset index to convert it into a DataFrame\n",
    "data.reset_index(inplace=True)\n",
    "\n",
    "# Rename columns for clarity\n",
    "data.rename(columns={'country': 'Country', 'date': 'Year'}, inplace=True)\n",
    "\n",
    "# Ensure Year column is numeric\n",
    "data['Year'] = pd.to_numeric(data['Year'])\n",
    "\n",
    "# Filter data between 1960 and 2023\n",
    "df = data[(data['Year'] <= 2023) & (data['Year'] >= 1960)]\n",
    "df.sample(5, random_state=42)\n",
    "# make choropleth map of total population using plotly\n",
    "fig = px.choropleth(df[df['Year'] == 2023], \n",
    "                    locations=\"Country\",\n",
    "                    locationmode='country names',\n",
    "                    color=\"gdp_per_capita\",\n",
    "                    hover_name=\"Country\",\n",
    "                    color_continuous_scale=px.colors.sequential.Viridis, # 'Viridis',\n",
    "                    title=\"Total Population in 2023\",\n",
    "                    labels={'gdp_per_capita': 'GDP Per Capita (Current US$)'}\n",
    "                    )\n",
    "# update the plot type to orthographic\n",
    "fig.update_geos(projection_type=\"eckert4\") # 'natural earth', 'equirectangular', 'orthographic', 'mercator', 'miller', 'robinson', 'eckert4', 'azimuthal equal area', 'azimuthal equidistant', 'conic equal area', 'conic conformal', 'conic equidistant', 'gnomonic', 'stereographic', 'mollweide', 'hammer', 'transverse mercator', 'albers usa', 'winkel tripel', 'aitoff', 'sinusoidal'\n",
    "fig.show()"
   ]
  },
  {
   "cell_type": "code",
   "execution_count": 9,
   "id": "154f2d8c",
   "metadata": {},
   "outputs": [
    {
     "data": {
      "application/vnd.plotly.v1+json": {
       "config": {
        "plotlyServerURL": "https://plot.ly"
       },
       "data": [
        {
         "coloraxis": "coloraxis",
         "geo": "geo",
         "hovertemplate": "<b>%{hovertext}</b><br><br>Country=%{location}<br>GDP Per Capita (Current US$)=%{z}<extra></extra>",
         "hovertext": [
          "Africa Eastern and Southern",
          "Africa Western and Central",
          "Arab World",
          "Caribbean small states",
          "Central Europe and the Baltics",
          "Early-demographic dividend",
          "East Asia & Pacific",
          "East Asia & Pacific (excluding high income)",
          "East Asia & Pacific (IDA & IBRD countries)",
          "Euro area",
          "Europe & Central Asia",
          "Europe & Central Asia (excluding high income)",
          "Europe & Central Asia (IDA & IBRD countries)",
          "European Union",
          "Fragile and conflict affected situations",
          "Heavily indebted poor countries (HIPC)",
          "High income",
          "IBRD only",
          "IDA & IBRD total",
          "IDA blend",
          "IDA only",
          "IDA total",
          "Late-demographic dividend",
          "Latin America & Caribbean",
          "Latin America & Caribbean (excluding high income)",
          "Latin America & the Caribbean (IDA & IBRD countries)",
          "Least developed countries: UN classification",
          "Low & middle income",
          "Low income",
          "Lower middle income",
          "Middle East & North Africa",
          "Middle East & North Africa (excluding high income)",
          "Middle East & North Africa (IDA & IBRD countries)",
          "Middle income",
          "North America",
          "Not classified",
          "OECD members",
          "Other small states",
          "Pacific island small states",
          "Post-demographic dividend",
          "Pre-demographic dividend",
          "Small states",
          "South Asia",
          "South Asia (IDA & IBRD)",
          "Sub-Saharan Africa",
          "Sub-Saharan Africa (excluding high income)",
          "Sub-Saharan Africa (IDA & IBRD countries)",
          "Upper middle income",
          "World",
          "Afghanistan",
          "Albania",
          "Algeria",
          "American Samoa",
          "Andorra",
          "Angola",
          "Antigua and Barbuda",
          "Argentina",
          "Armenia",
          "Aruba",
          "Australia",
          "Austria",
          "Azerbaijan",
          "Bahamas, The",
          "Bahrain",
          "Bangladesh",
          "Barbados",
          "Belarus",
          "Belgium",
          "Belize",
          "Benin",
          "Bermuda",
          "Bhutan",
          "Bolivia",
          "Bosnia and Herzegovina",
          "Botswana",
          "Brazil",
          "British Virgin Islands",
          "Brunei Darussalam",
          "Bulgaria",
          "Burkina Faso",
          "Burundi",
          "Cabo Verde",
          "Cambodia",
          "Cameroon",
          "Canada",
          "Cayman Islands",
          "Central African Republic",
          "Chad",
          "Channel Islands",
          "Chile",
          "China",
          "Colombia",
          "Comoros",
          "Congo, Dem. Rep.",
          "Congo, Rep.",
          "Costa Rica",
          "Cote d'Ivoire",
          "Croatia",
          "Cuba",
          "Curacao",
          "Cyprus",
          "Czechia",
          "Denmark",
          "Djibouti",
          "Dominica",
          "Dominican Republic",
          "Ecuador",
          "Egypt, Arab Rep.",
          "El Salvador",
          "Equatorial Guinea",
          "Eritrea",
          "Estonia",
          "Eswatini",
          "Ethiopia",
          "Faroe Islands",
          "Fiji",
          "Finland",
          "France",
          "French Polynesia",
          "Gabon",
          "Gambia, The",
          "Georgia",
          "Germany",
          "Ghana",
          "Gibraltar",
          "Greece",
          "Greenland",
          "Grenada",
          "Guam",
          "Guatemala",
          "Guinea",
          "Guinea-Bissau",
          "Guyana",
          "Haiti",
          "Honduras",
          "Hong Kong SAR, China",
          "Hungary",
          "Iceland",
          "India",
          "Indonesia",
          "Iran, Islamic Rep.",
          "Iraq",
          "Ireland",
          "Isle of Man",
          "Israel",
          "Italy",
          "Jamaica",
          "Japan",
          "Jordan",
          "Kazakhstan",
          "Kenya",
          "Kiribati",
          "Korea, Dem. People's Rep.",
          "Korea, Rep.",
          "Kosovo",
          "Kuwait",
          "Kyrgyz Republic",
          "Lao PDR",
          "Latvia",
          "Lebanon",
          "Lesotho",
          "Liberia",
          "Libya",
          "Liechtenstein",
          "Lithuania",
          "Luxembourg",
          "Macao SAR, China",
          "Madagascar",
          "Malawi",
          "Malaysia",
          "Maldives",
          "Mali",
          "Malta",
          "Marshall Islands",
          "Mauritania",
          "Mauritius",
          "Mexico",
          "Micronesia, Fed. Sts.",
          "Moldova",
          "Monaco",
          "Mongolia",
          "Montenegro",
          "Morocco",
          "Mozambique",
          "Myanmar",
          "Namibia",
          "Nauru",
          "Nepal",
          "Netherlands",
          "New Caledonia",
          "New Zealand",
          "Nicaragua",
          "Niger",
          "Nigeria",
          "North Macedonia",
          "Northern Mariana Islands",
          "Norway",
          "Oman",
          "Pakistan",
          "Palau",
          "Panama",
          "Papua New Guinea",
          "Paraguay",
          "Peru",
          "Philippines",
          "Poland",
          "Portugal",
          "Puerto Rico",
          "Qatar",
          "Romania",
          "Russian Federation",
          "Rwanda",
          "Samoa",
          "San Marino",
          "Sao Tome and Principe",
          "Saudi Arabia",
          "Senegal",
          "Serbia",
          "Seychelles",
          "Sierra Leone",
          "Singapore",
          "Sint Maarten (Dutch part)",
          "Slovak Republic",
          "Slovenia",
          "Solomon Islands",
          "Somalia",
          "South Africa",
          "South Sudan",
          "Spain",
          "Sri Lanka",
          "St. Kitts and Nevis",
          "St. Lucia",
          "St. Martin (French part)",
          "St. Vincent and the Grenadines",
          "Sudan",
          "Suriname",
          "Sweden",
          "Switzerland",
          "Syrian Arab Republic",
          "Tajikistan",
          "Tanzania",
          "Thailand",
          "Timor-Leste",
          "Togo",
          "Tonga",
          "Trinidad and Tobago",
          "Tunisia",
          "Turkiye",
          "Turkmenistan",
          "Turks and Caicos Islands",
          "Tuvalu",
          "Uganda",
          "Ukraine",
          "United Arab Emirates",
          "United Kingdom",
          "United States",
          "Uruguay",
          "Uzbekistan",
          "Vanuatu",
          "Venezuela, RB",
          "Viet Nam",
          "Virgin Islands (U.S.)",
          "West Bank and Gaza",
          "Yemen, Rep.",
          "Zambia",
          "Zimbabwe"
         ],
         "locationmode": "country names",
         "locations": [
          "Africa Eastern and Southern",
          "Africa Western and Central",
          "Arab World",
          "Caribbean small states",
          "Central Europe and the Baltics",
          "Early-demographic dividend",
          "East Asia & Pacific",
          "East Asia & Pacific (excluding high income)",
          "East Asia & Pacific (IDA & IBRD countries)",
          "Euro area",
          "Europe & Central Asia",
          "Europe & Central Asia (excluding high income)",
          "Europe & Central Asia (IDA & IBRD countries)",
          "European Union",
          "Fragile and conflict affected situations",
          "Heavily indebted poor countries (HIPC)",
          "High income",
          "IBRD only",
          "IDA & IBRD total",
          "IDA blend",
          "IDA only",
          "IDA total",
          "Late-demographic dividend",
          "Latin America & Caribbean",
          "Latin America & Caribbean (excluding high income)",
          "Latin America & the Caribbean (IDA & IBRD countries)",
          "Least developed countries: UN classification",
          "Low & middle income",
          "Low income",
          "Lower middle income",
          "Middle East & North Africa",
          "Middle East & North Africa (excluding high income)",
          "Middle East & North Africa (IDA & IBRD countries)",
          "Middle income",
          "North America",
          "Not classified",
          "OECD members",
          "Other small states",
          "Pacific island small states",
          "Post-demographic dividend",
          "Pre-demographic dividend",
          "Small states",
          "South Asia",
          "South Asia (IDA & IBRD)",
          "Sub-Saharan Africa",
          "Sub-Saharan Africa (excluding high income)",
          "Sub-Saharan Africa (IDA & IBRD countries)",
          "Upper middle income",
          "World",
          "Afghanistan",
          "Albania",
          "Algeria",
          "American Samoa",
          "Andorra",
          "Angola",
          "Antigua and Barbuda",
          "Argentina",
          "Armenia",
          "Aruba",
          "Australia",
          "Austria",
          "Azerbaijan",
          "Bahamas, The",
          "Bahrain",
          "Bangladesh",
          "Barbados",
          "Belarus",
          "Belgium",
          "Belize",
          "Benin",
          "Bermuda",
          "Bhutan",
          "Bolivia",
          "Bosnia and Herzegovina",
          "Botswana",
          "Brazil",
          "British Virgin Islands",
          "Brunei Darussalam",
          "Bulgaria",
          "Burkina Faso",
          "Burundi",
          "Cabo Verde",
          "Cambodia",
          "Cameroon",
          "Canada",
          "Cayman Islands",
          "Central African Republic",
          "Chad",
          "Channel Islands",
          "Chile",
          "China",
          "Colombia",
          "Comoros",
          "Congo, Dem. Rep.",
          "Congo, Rep.",
          "Costa Rica",
          "Cote d'Ivoire",
          "Croatia",
          "Cuba",
          "Curacao",
          "Cyprus",
          "Czechia",
          "Denmark",
          "Djibouti",
          "Dominica",
          "Dominican Republic",
          "Ecuador",
          "Egypt, Arab Rep.",
          "El Salvador",
          "Equatorial Guinea",
          "Eritrea",
          "Estonia",
          "Eswatini",
          "Ethiopia",
          "Faroe Islands",
          "Fiji",
          "Finland",
          "France",
          "French Polynesia",
          "Gabon",
          "Gambia, The",
          "Georgia",
          "Germany",
          "Ghana",
          "Gibraltar",
          "Greece",
          "Greenland",
          "Grenada",
          "Guam",
          "Guatemala",
          "Guinea",
          "Guinea-Bissau",
          "Guyana",
          "Haiti",
          "Honduras",
          "Hong Kong SAR, China",
          "Hungary",
          "Iceland",
          "India",
          "Indonesia",
          "Iran, Islamic Rep.",
          "Iraq",
          "Ireland",
          "Isle of Man",
          "Israel",
          "Italy",
          "Jamaica",
          "Japan",
          "Jordan",
          "Kazakhstan",
          "Kenya",
          "Kiribati",
          "Korea, Dem. People's Rep.",
          "Korea, Rep.",
          "Kosovo",
          "Kuwait",
          "Kyrgyz Republic",
          "Lao PDR",
          "Latvia",
          "Lebanon",
          "Lesotho",
          "Liberia",
          "Libya",
          "Liechtenstein",
          "Lithuania",
          "Luxembourg",
          "Macao SAR, China",
          "Madagascar",
          "Malawi",
          "Malaysia",
          "Maldives",
          "Mali",
          "Malta",
          "Marshall Islands",
          "Mauritania",
          "Mauritius",
          "Mexico",
          "Micronesia, Fed. Sts.",
          "Moldova",
          "Monaco",
          "Mongolia",
          "Montenegro",
          "Morocco",
          "Mozambique",
          "Myanmar",
          "Namibia",
          "Nauru",
          "Nepal",
          "Netherlands",
          "New Caledonia",
          "New Zealand",
          "Nicaragua",
          "Niger",
          "Nigeria",
          "North Macedonia",
          "Northern Mariana Islands",
          "Norway",
          "Oman",
          "Pakistan",
          "Palau",
          "Panama",
          "Papua New Guinea",
          "Paraguay",
          "Peru",
          "Philippines",
          "Poland",
          "Portugal",
          "Puerto Rico",
          "Qatar",
          "Romania",
          "Russian Federation",
          "Rwanda",
          "Samoa",
          "San Marino",
          "Sao Tome and Principe",
          "Saudi Arabia",
          "Senegal",
          "Serbia",
          "Seychelles",
          "Sierra Leone",
          "Singapore",
          "Sint Maarten (Dutch part)",
          "Slovak Republic",
          "Slovenia",
          "Solomon Islands",
          "Somalia",
          "South Africa",
          "South Sudan",
          "Spain",
          "Sri Lanka",
          "St. Kitts and Nevis",
          "St. Lucia",
          "St. Martin (French part)",
          "St. Vincent and the Grenadines",
          "Sudan",
          "Suriname",
          "Sweden",
          "Switzerland",
          "Syrian Arab Republic",
          "Tajikistan",
          "Tanzania",
          "Thailand",
          "Timor-Leste",
          "Togo",
          "Tonga",
          "Trinidad and Tobago",
          "Tunisia",
          "Turkiye",
          "Turkmenistan",
          "Turks and Caicos Islands",
          "Tuvalu",
          "Uganda",
          "Ukraine",
          "United Arab Emirates",
          "United Kingdom",
          "United States",
          "Uruguay",
          "Uzbekistan",
          "Vanuatu",
          "Venezuela, RB",
          "Viet Nam",
          "Virgin Islands (U.S.)",
          "West Bank and Gaza",
          "Yemen, Rep.",
          "Zambia",
          "Zimbabwe"
         ],
         "name": "",
         "type": "choropleth",
         "z": {
          "bdata": "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",
          "dtype": "f8"
         }
        }
       ],
       "layout": {
        "coloraxis": {
         "colorbar": {
          "title": {
           "text": "GDP Per Capita (Current US$)"
          }
         },
         "colorscale": [
          [
           0,
           "#440154"
          ],
          [
           0.1111111111111111,
           "#482878"
          ],
          [
           0.2222222222222222,
           "#3e4989"
          ],
          [
           0.3333333333333333,
           "#31688e"
          ],
          [
           0.4444444444444444,
           "#26828e"
          ],
          [
           0.5555555555555556,
           "#1f9e89"
          ],
          [
           0.6666666666666666,
           "#35b779"
          ],
          [
           0.7777777777777778,
           "#6ece58"
          ],
          [
           0.8888888888888888,
           "#b5de2b"
          ],
          [
           1,
           "#fde725"
          ]
         ]
        },
        "geo": {
         "center": {},
         "domain": {
          "x": [
           0,
           1
          ],
          "y": [
           0,
           1
          ]
         },
         "projection": {
          "type": "orthographic"
         }
        },
        "legend": {
         "tracegroupgap": 0
        },
        "template": {
         "data": {
          "bar": [
           {
            "error_x": {
             "color": "#2a3f5f"
            },
            "error_y": {
             "color": "#2a3f5f"
            },
            "marker": {
             "line": {
              "color": "#E5ECF6",
              "width": 0.5
             },
             "pattern": {
              "fillmode": "overlay",
              "size": 10,
              "solidity": 0.2
             }
            },
            "type": "bar"
           }
          ],
          "barpolar": [
           {
            "marker": {
             "line": {
              "color": "#E5ECF6",
              "width": 0.5
             },
             "pattern": {
              "fillmode": "overlay",
              "size": 10,
              "solidity": 0.2
             }
            },
            "type": "barpolar"
           }
          ],
          "carpet": [
           {
            "aaxis": {
             "endlinecolor": "#2a3f5f",
             "gridcolor": "white",
             "linecolor": "white",
             "minorgridcolor": "white",
             "startlinecolor": "#2a3f5f"
            },
            "baxis": {
             "endlinecolor": "#2a3f5f",
             "gridcolor": "white",
             "linecolor": "white",
             "minorgridcolor": "white",
             "startlinecolor": "#2a3f5f"
            },
            "type": "carpet"
           }
          ],
          "choropleth": [
           {
            "colorbar": {
             "outlinewidth": 0,
             "ticks": ""
            },
            "type": "choropleth"
           }
          ],
          "contour": [
           {
            "colorbar": {
             "outlinewidth": 0,
             "ticks": ""
            },
            "colorscale": [
             [
              0,
              "#0d0887"
             ],
             [
              0.1111111111111111,
              "#46039f"
             ],
             [
              0.2222222222222222,
              "#7201a8"
             ],
             [
              0.3333333333333333,
              "#9c179e"
             ],
             [
              0.4444444444444444,
              "#bd3786"
             ],
             [
              0.5555555555555556,
              "#d8576b"
             ],
             [
              0.6666666666666666,
              "#ed7953"
             ],
             [
              0.7777777777777778,
              "#fb9f3a"
             ],
             [
              0.8888888888888888,
              "#fdca26"
             ],
             [
              1,
              "#f0f921"
             ]
            ],
            "type": "contour"
           }
          ],
          "contourcarpet": [
           {
            "colorbar": {
             "outlinewidth": 0,
             "ticks": ""
            },
            "type": "contourcarpet"
           }
          ],
          "heatmap": [
           {
            "colorbar": {
             "outlinewidth": 0,
             "ticks": ""
            },
            "colorscale": [
             [
              0,
              "#0d0887"
             ],
             [
              0.1111111111111111,
              "#46039f"
             ],
             [
              0.2222222222222222,
              "#7201a8"
             ],
             [
              0.3333333333333333,
              "#9c179e"
             ],
             [
              0.4444444444444444,
              "#bd3786"
             ],
             [
              0.5555555555555556,
              "#d8576b"
             ],
             [
              0.6666666666666666,
              "#ed7953"
             ],
             [
              0.7777777777777778,
              "#fb9f3a"
             ],
             [
              0.8888888888888888,
              "#fdca26"
             ],
             [
              1,
              "#f0f921"
             ]
            ],
            "type": "heatmap"
           }
          ],
          "histogram": [
           {
            "marker": {
             "pattern": {
              "fillmode": "overlay",
              "size": 10,
              "solidity": 0.2
             }
            },
            "type": "histogram"
           }
          ],
          "histogram2d": [
           {
            "colorbar": {
             "outlinewidth": 0,
             "ticks": ""
            },
            "colorscale": [
             [
              0,
              "#0d0887"
             ],
             [
              0.1111111111111111,
              "#46039f"
             ],
             [
              0.2222222222222222,
              "#7201a8"
             ],
             [
              0.3333333333333333,
              "#9c179e"
             ],
             [
              0.4444444444444444,
              "#bd3786"
             ],
             [
              0.5555555555555556,
              "#d8576b"
             ],
             [
              0.6666666666666666,
              "#ed7953"
             ],
             [
              0.7777777777777778,
              "#fb9f3a"
             ],
             [
              0.8888888888888888,
              "#fdca26"
             ],
             [
              1,
              "#f0f921"
             ]
            ],
            "type": "histogram2d"
           }
          ],
          "histogram2dcontour": [
           {
            "colorbar": {
             "outlinewidth": 0,
             "ticks": ""
            },
            "colorscale": [
             [
              0,
              "#0d0887"
             ],
             [
              0.1111111111111111,
              "#46039f"
             ],
             [
              0.2222222222222222,
              "#7201a8"
             ],
             [
              0.3333333333333333,
              "#9c179e"
             ],
             [
              0.4444444444444444,
              "#bd3786"
             ],
             [
              0.5555555555555556,
              "#d8576b"
             ],
             [
              0.6666666666666666,
              "#ed7953"
             ],
             [
              0.7777777777777778,
              "#fb9f3a"
             ],
             [
              0.8888888888888888,
              "#fdca26"
             ],
             [
              1,
              "#f0f921"
             ]
            ],
            "type": "histogram2dcontour"
           }
          ],
          "mesh3d": [
           {
            "colorbar": {
             "outlinewidth": 0,
             "ticks": ""
            },
            "type": "mesh3d"
           }
          ],
          "parcoords": [
           {
            "line": {
             "colorbar": {
              "outlinewidth": 0,
              "ticks": ""
             }
            },
            "type": "parcoords"
           }
          ],
          "pie": [
           {
            "automargin": true,
            "type": "pie"
           }
          ],
          "scatter": [
           {
            "fillpattern": {
             "fillmode": "overlay",
             "size": 10,
             "solidity": 0.2
            },
            "type": "scatter"
           }
          ],
          "scatter3d": [
           {
            "line": {
             "colorbar": {
              "outlinewidth": 0,
              "ticks": ""
             }
            },
            "marker": {
             "colorbar": {
              "outlinewidth": 0,
              "ticks": ""
             }
            },
            "type": "scatter3d"
           }
          ],
          "scattercarpet": [
           {
            "marker": {
             "colorbar": {
              "outlinewidth": 0,
              "ticks": ""
             }
            },
            "type": "scattercarpet"
           }
          ],
          "scattergeo": [
           {
            "marker": {
             "colorbar": {
              "outlinewidth": 0,
              "ticks": ""
             }
            },
            "type": "scattergeo"
           }
          ],
          "scattergl": [
           {
            "marker": {
             "colorbar": {
              "outlinewidth": 0,
              "ticks": ""
             }
            },
            "type": "scattergl"
           }
          ],
          "scattermap": [
           {
            "marker": {
             "colorbar": {
              "outlinewidth": 0,
              "ticks": ""
             }
            },
            "type": "scattermap"
           }
          ],
          "scattermapbox": [
           {
            "marker": {
             "colorbar": {
              "outlinewidth": 0,
              "ticks": ""
             }
            },
            "type": "scattermapbox"
           }
          ],
          "scatterpolar": [
           {
            "marker": {
             "colorbar": {
              "outlinewidth": 0,
              "ticks": ""
             }
            },
            "type": "scatterpolar"
           }
          ],
          "scatterpolargl": [
           {
            "marker": {
             "colorbar": {
              "outlinewidth": 0,
              "ticks": ""
             }
            },
            "type": "scatterpolargl"
           }
          ],
          "scatterternary": [
           {
            "marker": {
             "colorbar": {
              "outlinewidth": 0,
              "ticks": ""
             }
            },
            "type": "scatterternary"
           }
          ],
          "surface": [
           {
            "colorbar": {
             "outlinewidth": 0,
             "ticks": ""
            },
            "colorscale": [
             [
              0,
              "#0d0887"
             ],
             [
              0.1111111111111111,
              "#46039f"
             ],
             [
              0.2222222222222222,
              "#7201a8"
             ],
             [
              0.3333333333333333,
              "#9c179e"
             ],
             [
              0.4444444444444444,
              "#bd3786"
             ],
             [
              0.5555555555555556,
              "#d8576b"
             ],
             [
              0.6666666666666666,
              "#ed7953"
             ],
             [
              0.7777777777777778,
              "#fb9f3a"
             ],
             [
              0.8888888888888888,
              "#fdca26"
             ],
             [
              1,
              "#f0f921"
             ]
            ],
            "type": "surface"
           }
          ],
          "table": [
           {
            "cells": {
             "fill": {
              "color": "#EBF0F8"
             },
             "line": {
              "color": "white"
             }
            },
            "header": {
             "fill": {
              "color": "#C8D4E3"
             },
             "line": {
              "color": "white"
             }
            },
            "type": "table"
           }
          ]
         },
         "layout": {
          "annotationdefaults": {
           "arrowcolor": "#2a3f5f",
           "arrowhead": 0,
           "arrowwidth": 1
          },
          "autotypenumbers": "strict",
          "coloraxis": {
           "colorbar": {
            "outlinewidth": 0,
            "ticks": ""
           }
          },
          "colorscale": {
           "diverging": [
            [
             0,
             "#8e0152"
            ],
            [
             0.1,
             "#c51b7d"
            ],
            [
             0.2,
             "#de77ae"
            ],
            [
             0.3,
             "#f1b6da"
            ],
            [
             0.4,
             "#fde0ef"
            ],
            [
             0.5,
             "#f7f7f7"
            ],
            [
             0.6,
             "#e6f5d0"
            ],
            [
             0.7,
             "#b8e186"
            ],
            [
             0.8,
             "#7fbc41"
            ],
            [
             0.9,
             "#4d9221"
            ],
            [
             1,
             "#276419"
            ]
           ],
           "sequential": [
            [
             0,
             "#0d0887"
            ],
            [
             0.1111111111111111,
             "#46039f"
            ],
            [
             0.2222222222222222,
             "#7201a8"
            ],
            [
             0.3333333333333333,
             "#9c179e"
            ],
            [
             0.4444444444444444,
             "#bd3786"
            ],
            [
             0.5555555555555556,
             "#d8576b"
            ],
            [
             0.6666666666666666,
             "#ed7953"
            ],
            [
             0.7777777777777778,
             "#fb9f3a"
            ],
            [
             0.8888888888888888,
             "#fdca26"
            ],
            [
             1,
             "#f0f921"
            ]
           ],
           "sequentialminus": [
            [
             0,
             "#0d0887"
            ],
            [
             0.1111111111111111,
             "#46039f"
            ],
            [
             0.2222222222222222,
             "#7201a8"
            ],
            [
             0.3333333333333333,
             "#9c179e"
            ],
            [
             0.4444444444444444,
             "#bd3786"
            ],
            [
             0.5555555555555556,
             "#d8576b"
            ],
            [
             0.6666666666666666,
             "#ed7953"
            ],
            [
             0.7777777777777778,
             "#fb9f3a"
            ],
            [
             0.8888888888888888,
             "#fdca26"
            ],
            [
             1,
             "#f0f921"
            ]
           ]
          },
          "colorway": [
           "#636efa",
           "#EF553B",
           "#00cc96",
           "#ab63fa",
           "#FFA15A",
           "#19d3f3",
           "#FF6692",
           "#B6E880",
           "#FF97FF",
           "#FECB52"
          ],
          "font": {
           "color": "#2a3f5f"
          },
          "geo": {
           "bgcolor": "white",
           "lakecolor": "white",
           "landcolor": "#E5ECF6",
           "showlakes": true,
           "showland": true,
           "subunitcolor": "white"
          },
          "hoverlabel": {
           "align": "left"
          },
          "hovermode": "closest",
          "mapbox": {
           "style": "light"
          },
          "paper_bgcolor": "white",
          "plot_bgcolor": "#E5ECF6",
          "polar": {
           "angularaxis": {
            "gridcolor": "white",
            "linecolor": "white",
            "ticks": ""
           },
           "bgcolor": "#E5ECF6",
           "radialaxis": {
            "gridcolor": "white",
            "linecolor": "white",
            "ticks": ""
           }
          },
          "scene": {
           "xaxis": {
            "backgroundcolor": "#E5ECF6",
            "gridcolor": "white",
            "gridwidth": 2,
            "linecolor": "white",
            "showbackground": true,
            "ticks": "",
            "zerolinecolor": "white"
           },
           "yaxis": {
            "backgroundcolor": "#E5ECF6",
            "gridcolor": "white",
            "gridwidth": 2,
            "linecolor": "white",
            "showbackground": true,
            "ticks": "",
            "zerolinecolor": "white"
           },
           "zaxis": {
            "backgroundcolor": "#E5ECF6",
            "gridcolor": "white",
            "gridwidth": 2,
            "linecolor": "white",
            "showbackground": true,
            "ticks": "",
            "zerolinecolor": "white"
           }
          },
          "shapedefaults": {
           "line": {
            "color": "#2a3f5f"
           }
          },
          "ternary": {
           "aaxis": {
            "gridcolor": "white",
            "linecolor": "white",
            "ticks": ""
           },
           "baxis": {
            "gridcolor": "white",
            "linecolor": "white",
            "ticks": ""
           },
           "bgcolor": "#E5ECF6",
           "caxis": {
            "gridcolor": "white",
            "linecolor": "white",
            "ticks": ""
           }
          },
          "title": {
           "x": 0.05
          },
          "xaxis": {
           "automargin": true,
           "gridcolor": "white",
           "linecolor": "white",
           "ticks": "",
           "title": {
            "standoff": 15
           },
           "zerolinecolor": "white",
           "zerolinewidth": 2
          },
          "yaxis": {
           "automargin": true,
           "gridcolor": "white",
           "linecolor": "white",
           "ticks": "",
           "title": {
            "standoff": 15
           },
           "zerolinecolor": "white",
           "zerolinewidth": 2
          }
         }
        },
        "title": {
         "text": "Total Population in 2023"
        }
       }
      }
     },
     "metadata": {},
     "output_type": "display_data"
    }
   ],
   "source": [
    "# fetch data of world bank total population and gdp per capita for the year 2023\n",
    "import wbdata\n",
    "import pandas as pd\n",
    "import plotly.express as px\n",
    "import wbdata\n",
    "import datetime\n",
    "\n",
    "# Define the indicator for population (SP.POP.TOTL)\n",
    "indicator = {\n",
    "    'SP.POP.TOTL': 'total_population',\n",
    "    'NY.GDP.PCAP.CD': 'gdp_per_capita',\n",
    "    # net migration\n",
    "    'SM.POP.NETM': 'net_migration',\n",
    "             }\n",
    "\n",
    "# Define countries (India and Pakistan)\n",
    "# countries = ['IN', 'PK', 'BD', 'LK', 'AF']  # 'IN' for India, 'PK' for Pakistan\n",
    "\n",
    "# Fetch data\n",
    "data = wbdata.get_dataframe(indicator, \n",
    "                            # country=countries,\n",
    "                            )\n",
    "\n",
    "# Reset index to convert it into a DataFrame\n",
    "data.reset_index(inplace=True)\n",
    "\n",
    "# Rename columns for clarity\n",
    "data.rename(columns={'country': 'Country', 'date': 'Year'}, inplace=True)\n",
    "\n",
    "# Ensure Year column is numeric\n",
    "data['Year'] = pd.to_numeric(data['Year'])\n",
    "\n",
    "# Filter data between 1960 and 2023\n",
    "df = data[(data['Year'] <= 2023) & (data['Year'] >= 1960)]\n",
    "df.sample(5, random_state=42)\n",
    "# make choropleth map of total population using plotly\n",
    "fig = px.choropleth(df[df['Year'] == 2023], \n",
    "                    locations=\"Country\",\n",
    "                    locationmode='country names',\n",
    "                    color=\"gdp_per_capita\",\n",
    "                    hover_name=\"Country\",\n",
    "                    color_continuous_scale=px.colors.sequential.Viridis, # 'Viridis',\n",
    "                    title=\"Total Population in 2023\",\n",
    "                    labels={'gdp_per_capita': 'GDP Per Capita (Current US$)'}\n",
    "                    )\n",
    "# update the plot type to orthographic\n",
    "fig.update_geos(projection_type=\"orthographic\") # 'natural earth', 'equirectangular', 'orthographic', 'mercator', 'miller', 'robinson', 'eckert4', 'azimuthal equal area', 'azimuthal equidistant', 'conic equal area', 'conic conformal', 'conic equidistant', 'gnomonic', 'stereographic', 'mollweide', 'hammer', 'transverse mercator', 'albers usa', 'winkel tripel', 'aitoff', 'sinusoidal'\n",
    "fig.show()\n"
   ]
  },
  {
   "cell_type": "code",
   "execution_count": 10,
   "id": "c04a489c",
   "metadata": {},
   "outputs": [
    {
     "name": "stderr",
     "output_type": "stream",
     "text": [
      "C:\\Users\\dell\\AppData\\Local\\Temp\\ipykernel_18608\\1074199643.py:37: SettingWithCopyWarning:\n",
      "\n",
      "\n",
      "A value is trying to be set on a copy of a slice from a DataFrame\n",
      "\n",
      "See the caveats in the documentation: https://pandas.pydata.org/pandas-docs/stable/user_guide/indexing.html#returning-a-view-versus-a-copy\n",
      "\n"
     ]
    },
    {
     "data": {
      "application/vnd.plotly.v1+json": {
       "config": {
        "plotlyServerURL": "https://plot.ly"
       },
       "data": [
        {
         "coloraxis": "coloraxis",
         "geo": "geo",
         "hovertemplate": "<b>%{hovertext}</b><br><br>Year=1960<br>Country=%{location}<br>GDP Per Capita (Current US$)=%{z}<extra></extra>",
         "hovertext": [
          "Afghanistan",
          "Sri Lanka",
          "Bangladesh",
          "India",
          "Pakistan"
         ],
         "locationmode": "country names",
         "locations": [
          "Afghanistan",
          "Sri Lanka",
          "Bangladesh",
          "India",
          "Pakistan"
         ],
         "name": "",
         "type": "choropleth",
         "z": {
          "bdata": "AAAAAAAA+H/VAM3rtz1iQMTRxT/NnlRAgwRWIrM7VUANrsHaioFUQA==",
          "dtype": "f8"
         }
        }
       ],
       "frames": [
        {
         "data": [
          {
           "coloraxis": "coloraxis",
           "geo": "geo",
           "hovertemplate": "<b>%{hovertext}</b><br><br>Year=1960<br>Country=%{location}<br>GDP Per Capita (Current US$)=%{z}<extra></extra>",
           "hovertext": [
            "Afghanistan",
            "Sri Lanka",
            "Bangladesh",
            "India",
            "Pakistan"
           ],
           "locationmode": "country names",
           "locations": [
            "Afghanistan",
            "Sri Lanka",
            "Bangladesh",
            "India",
            "Pakistan"
           ],
           "name": "",
           "type": "choropleth",
           "z": {
            "bdata": "AAAAAAAA+H/VAM3rtz1iQMTRxT/NnlRAgwRWIrM7VUANrsHaioFUQA==",
            "dtype": "f8"
           }
          }
         ],
         "name": "1960"
        },
        {
         "data": [
          {
           "coloraxis": "coloraxis",
           "geo": "geo",
           "hovertemplate": "<b>%{hovertext}</b><br><br>Year=1961<br>Country=%{location}<br>GDP Per Capita (Current US$)=%{z}<extra></extra>",
           "hovertext": [
            "Bangladesh",
            "Sri Lanka",
            "Afghanistan",
            "India",
            "Pakistan"
           ],
           "locationmode": "country names",
           "locations": [
            "Bangladesh",
            "Sri Lanka",
            "Afghanistan",
            "India",
            "Pakistan"
           ],
           "name": "",
           "type": "choropleth",
           "z": {
            "bdata": "lNjRypaXVkAC+eaK1DxiQAAAAAAAAPh/YTEQqqX2VUC8fzzhx/FVQA==",
            "dtype": "f8"
           }
          }
         ],
         "name": "1961"
        },
        {
         "data": [
          {
           "coloraxis": "coloraxis",
           "geo": "geo",
           "hovertemplate": "<b>%{hovertext}</b><br><br>Year=1962<br>Country=%{location}<br>GDP Per Capita (Current US$)=%{z}<extra></extra>",
           "hovertext": [
            "Pakistan",
            "India",
            "Bangladesh",
            "Sri Lanka",
            "Afghanistan"
           ],
           "locationmode": "country names",
           "locations": [
            "Pakistan",
            "India",
            "Bangladesh",
            "Sri Lanka",
            "Afghanistan"
           ],
           "name": "",
           "type": "choropleth",
           "z": {
            "bdata": "23RNwkBgVkAWXCkezAxXQGafmRO5JVdAg7McKEOsYUAAAAAAAAD4fw==",
            "dtype": "f8"
           }
          }
         ],
         "name": "1962"
        },
        {
         "data": [
          {
           "coloraxis": "coloraxis",
           "geo": "geo",
           "hovertemplate": "<b>%{hovertext}</b><br><br>Year=1963<br>Country=%{location}<br>GDP Per Capita (Current US$)=%{z}<extra></extra>",
           "hovertext": [
            "Sri Lanka",
            "India",
            "Pakistan",
            "Bangladesh",
            "Afghanistan"
           ],
           "locationmode": "country names",
           "locations": [
            "Sri Lanka",
            "India",
            "Pakistan",
            "Bangladesh",
            "Afghanistan"
           ],
           "name": "",
           "type": "choropleth",
           "z": {
            "bdata": "Hd3/nIzWXUDiVmxj19tZQIZVpeanaVdA2x4VqRyJV0AAAAAAAAD4fw==",
            "dtype": "f8"
           }
          }
         ],
         "name": "1963"
        },
        {
         "data": [
          {
           "coloraxis": "coloraxis",
           "geo": "geo",
           "hovertemplate": "<b>%{hovertext}</b><br><br>Year=1964<br>Country=%{location}<br>GDP Per Capita (Current US$)=%{z}<extra></extra>",
           "hovertext": [
            "India",
            "Bangladesh",
            "Afghanistan",
            "Pakistan",
            "Sri Lanka"
           ],
           "locationmode": "country names",
           "locations": [
            "India",
            "Bangladesh",
            "Afghanistan",
            "Pakistan",
            "Sri Lanka"
           ],
           "name": "",
           "type": "choropleth",
           "z": {
            "bdata": "0SwEw892XUDF+L/UAiVXQAAAAAAAAPh/Vt9VxWydWUDN9D+ZRrxeQA==",
            "dtype": "f8"
           }
          }
         ],
         "name": "1964"
        },
        {
         "data": [
          {
           "coloraxis": "coloraxis",
           "geo": "geo",
           "hovertemplate": "<b>%{hovertext}</b><br><br>Year=1965<br>Country=%{location}<br>GDP Per Capita (Current US$)=%{z}<extra></extra>",
           "hovertext": [
            "Sri Lanka",
            "Bangladesh",
            "Afghanistan",
            "Pakistan",
            "India"
           ],
           "locationmode": "country names",
           "locations": [
            "Sri Lanka",
            "Bangladesh",
            "Afghanistan",
            "Pakistan",
            "India"
           ],
           "name": "",
           "type": "choropleth",
           "z": {
            "bdata": "ncM2vSRyY0Dg61pYqqZYQAAAAAAAAPh/XDEiHE1kXECZMIlMiGBeQA==",
            "dtype": "f8"
           }
          }
         ],
         "name": "1965"
        },
        {
         "data": [
          {
           "coloraxis": "coloraxis",
           "geo": "geo",
           "hovertemplate": "<b>%{hovertext}</b><br><br>Year=1966<br>Country=%{location}<br>GDP Per Capita (Current US$)=%{z}<extra></extra>",
           "hovertext": [
            "India",
            "Bangladesh",
            "Afghanistan",
            "Pakistan",
            "Sri Lanka"
           ],
           "locationmode": "country names",
           "locations": [
            "India",
            "Bangladesh",
            "Afghanistan",
            "Pakistan",
            "Sri Lanka"
           ],
           "name": "",
           "type": "choropleth",
           "z": {
            "bdata": "Hmt3wcXBVkD1tKDxAhtaQAAAAAAAAPh/Qu1eu62OXkBkqpedZJNjQA==",
            "dtype": "f8"
           }
          }
         ],
         "name": "1966"
        },
        {
         "data": [
          {
           "coloraxis": "coloraxis",
           "geo": "geo",
           "hovertemplate": "<b>%{hovertext}</b><br><br>Year=1967<br>Country=%{location}<br>GDP Per Capita (Current US$)=%{z}<extra></extra>",
           "hovertext": [
            "Sri Lanka",
            "Pakistan",
            "Afghanistan",
            "Bangladesh",
            "India"
           ],
           "locationmode": "country names",
           "locations": [
            "Sri Lanka",
            "Pakistan",
            "Afghanistan",
            "Bangladesh",
            "India"
           ],
           "name": "",
           "type": "choropleth",
           "z": {
            "bdata": "bKbIMG9JZEApWOheGOZgQAAAAAAAAPh/TDSjs26NXEDyCb+BsH9YQA==",
            "dtype": "f8"
           }
          }
         ],
         "name": "1967"
        },
        {
         "data": [
          {
           "coloraxis": "coloraxis",
           "geo": "geo",
           "hovertemplate": "<b>%{hovertext}</b><br><br>Year=1968<br>Country=%{location}<br>GDP Per Capita (Current US$)=%{z}<extra></extra>",
           "hovertext": [
            "India",
            "Bangladesh",
            "Afghanistan",
            "Pakistan",
            "Sri Lanka"
           ],
           "locationmode": "country names",
           "locations": [
            "India",
            "Bangladesh",
            "Afghanistan",
            "Pakistan",
            "Sri Lanka"
           ],
           "name": "",
           "type": "choropleth",
           "z": {
            "bdata": "ObcKp6JjWUCHirjTjppcQAAAAAAAAPh/LAGCpd2xYUCv1ubOmi9jQA==",
            "dtype": "f8"
           }
          }
         ],
         "name": "1968"
        },
        {
         "data": [
          {
           "coloraxis": "coloraxis",
           "geo": "geo",
           "hovertemplate": "<b>%{hovertext}</b><br><br>Year=1969<br>Country=%{location}<br>GDP Per Capita (Current US$)=%{z}<extra></extra>",
           "hovertext": [
            "Afghanistan",
            "Bangladesh",
            "Sri Lanka",
            "Pakistan",
            "India"
           ],
           "locationmode": "country names",
           "locations": [
            "Afghanistan",
            "Bangladesh",
            "Sri Lanka",
            "Pakistan",
            "India"
           ],
           "name": "",
           "type": "choropleth",
           "z": {
            "bdata": "AAAAAAAA+H/8guAGV3hfQAnZMhppc2RAt/sSlOmQYkDIPqMNkl5bQA==",
            "dtype": "f8"
           }
          }
         ],
         "name": "1969"
        },
        {
         "data": [
          {
           "coloraxis": "coloraxis",
           "geo": "geo",
           "hovertemplate": "<b>%{hovertext}</b><br><br>Year=1970<br>Country=%{location}<br>GDP Per Capita (Current US$)=%{z}<extra></extra>",
           "hovertext": [
            "Bangladesh",
            "Pakistan",
            "Sri Lanka",
            "India",
            "Afghanistan"
           ],
           "locationmode": "country names",
           "locations": [
            "Bangladesh",
            "Pakistan",
            "Sri Lanka",
            "India",
            "Afghanistan"
           ],
           "name": "",
           "type": "choropleth",
           "z": {
            "bdata": "L8tzLPtGYECbZo+cL9VkQLxdYEnTXGdA5HYukL2WXEAAAAAAAAD4fw==",
            "dtype": "f8"
           }
          }
         ],
         "name": "1970"
        },
        {
         "data": [
          {
           "coloraxis": "coloraxis",
           "geo": "geo",
           "hovertemplate": "<b>%{hovertext}</b><br><br>Year=1971<br>Country=%{location}<br>GDP Per Capita (Current US$)=%{z}<extra></extra>",
           "hovertext": [
            "Pakistan",
            "Afghanistan",
            "Sri Lanka",
            "India",
            "Bangladesh"
           ],
           "locationmode": "country names",
           "locations": [
            "Pakistan",
            "Afghanistan",
            "Sri Lanka",
            "India",
            "Bangladesh"
           ],
           "name": "",
           "type": "choropleth",
           "z": {
            "bdata": "V0aYZoSOZUAAAAAAAAD4f0elyX1YmGdAb26Y4I4rXkA8CJBzLCJfQA==",
            "dtype": "f8"
           }
          }
         ],
         "name": "1971"
        },
        {
         "data": [
          {
           "coloraxis": "coloraxis",
           "geo": "geo",
           "hovertemplate": "<b>%{hovertext}</b><br><br>Year=1972<br>Country=%{location}<br>GDP Per Capita (Current US$)=%{z}<extra></extra>",
           "hovertext": [
            "Bangladesh",
            "India",
            "Sri Lanka",
            "Afghanistan",
            "Pakistan"
           ],
           "locationmode": "country names",
           "locations": [
            "Bangladesh",
            "India",
            "Sri Lanka",
            "Afghanistan",
            "Pakistan"
           ],
           "name": "",
           "type": "choropleth",
           "z": {
            "bdata": "DAtwXoXxVUBjRxk/U1FfQCFYkqhA7GhAAAAAAAAA+H9d33sDXoJiQA==",
            "dtype": "f8"
           }
          }
         ],
         "name": "1972"
        },
        {
         "data": [
          {
           "coloraxis": "coloraxis",
           "geo": "geo",
           "hovertemplate": "<b>%{hovertext}</b><br><br>Year=1973<br>Country=%{location}<br>GDP Per Capita (Current US$)=%{z}<extra></extra>",
           "hovertext": [
            "Afghanistan",
            "India",
            "Sri Lanka",
            "Pakistan",
            "Bangladesh"
           ],
           "locationmode": "country names",
           "locations": [
            "Afghanistan",
            "India",
            "Sri Lanka",
            "Pakistan",
            "Bangladesh"
           ],
           "name": "",
           "type": "choropleth",
           "z": {
            "bdata": "AAAAAAAA+H9XLlsXMVJiQL0Jf5lyhWtA1YAuhd9gWEAirU1ARWxbQA==",
            "dtype": "f8"
           }
          }
         ],
         "name": "1973"
        },
        {
         "data": [
          {
           "coloraxis": "coloraxis",
           "geo": "geo",
           "hovertemplate": "<b>%{hovertext}</b><br><br>Year=1974<br>Country=%{location}<br>GDP Per Capita (Current US$)=%{z}<extra></extra>",
           "hovertext": [
            "Bangladesh",
            "India",
            "Sri Lanka",
            "Pakistan",
            "Afghanistan"
           ],
           "locationmode": "country names",
           "locations": [
            "Bangladesh",
            "India",
            "Sri Lanka",
            "Pakistan",
            "Afghanistan"
           ],
           "name": "",
           "type": "choropleth",
           "z": {
            "bdata": "OyJRiZCfZEA2rQyhY9ZkQHjDXRtqynBA0XUwPiqAYEAAAAAAAAD4fw==",
            "dtype": "f8"
           }
          }
         ],
         "name": "1974"
        },
        {
         "data": [
          {
           "coloraxis": "coloraxis",
           "geo": "geo",
           "hovertemplate": "<b>%{hovertext}</b><br><br>Year=1975<br>Country=%{location}<br>GDP Per Capita (Current US$)=%{z}<extra></extra>",
           "hovertext": [
            "Afghanistan",
            "Pakistan",
            "Sri Lanka",
            "India",
            "Bangladesh"
           ],
           "locationmode": "country names",
           "locations": [
            "Afghanistan",
            "Pakistan",
            "Sri Lanka",
            "India",
            "Bangladesh"
           ],
           "name": "",
           "type": "choropleth",
           "z": {
            "bdata": "AAAAAAAA+H87FZgZ0TVkQGX1yzMlfXFA0bKKMsYiZEC4D+tyvDlvQA==",
            "dtype": "f8"
           }
          }
         ],
         "name": "1975"
        },
        {
         "data": [
          {
           "coloraxis": "coloraxis",
           "geo": "geo",
           "hovertemplate": "<b>%{hovertext}</b><br><br>Year=1976<br>Country=%{location}<br>GDP Per Capita (Current US$)=%{z}<extra></extra>",
           "hovertext": [
            "Bangladesh",
            "Sri Lanka",
            "Pakistan",
            "India",
            "Afghanistan"
           ],
           "locationmode": "country names",
           "locations": [
            "Bangladesh",
            "Sri Lanka",
            "Pakistan",
            "India",
            "Afghanistan"
           ],
           "name": "",
           "type": "choropleth",
           "z": {
            "bdata": "UC8U1lqsX0Cnj27s0kRwQEaIqu+C+2ZAnOJfCdeDZEAAAAAAAAD4fw==",
            "dtype": "f8"
           }
          }
         ],
         "name": "1976"
        },
        {
         "data": [
          {
           "coloraxis": "coloraxis",
           "geo": "geo",
           "hovertemplate": "<b>%{hovertext}</b><br><br>Year=1977<br>Country=%{location}<br>GDP Per Capita (Current US$)=%{z}<extra></extra>",
           "hovertext": [
            "Sri Lanka",
            "Afghanistan",
            "Bangladesh",
            "India",
            "Pakistan"
           ],
           "locationmode": "country names",
           "locations": [
            "Sri Lanka",
            "Afghanistan",
            "Bangladesh",
            "India",
            "Pakistan"
           ],
           "name": "",
           "type": "choropleth",
           "z": {
            "bdata": "3dD0RWJCckAAAAAAAAD4f+IFDD/ReF1Ajs5C+ryyZ0Bpr0s7sJVpQA==",
            "dtype": "f8"
           }
          }
         ],
         "name": "1977"
        },
        {
         "data": [
          {
           "coloraxis": "coloraxis",
           "geo": "geo",
           "hovertemplate": "<b>%{hovertext}</b><br><br>Year=1978<br>Country=%{location}<br>GDP Per Capita (Current US$)=%{z}<extra></extra>",
           "hovertext": [
            "Afghanistan",
            "India",
            "Bangladesh",
            "Pakistan",
            "Sri Lanka"
           ],
           "locationmode": "country names",
           "locations": [
            "Afghanistan",
            "India",
            "Bangladesh",
            "Pakistan",
            "Sri Lanka"
           ],
           "name": "",
           "type": "choropleth",
           "z": {
            "bdata": "AAAAAAAA+H/VgnM1cyxqQPRTV0xgymNAmhDzL2AtbUBnas4J499nQA==",
            "dtype": "f8"
           }
          }
         ],
         "name": "1978"
        },
        {
         "data": [
          {
           "coloraxis": "coloraxis",
           "geo": "geo",
           "hovertemplate": "<b>%{hovertext}</b><br><br>Year=1979<br>Country=%{location}<br>GDP Per Capita (Current US$)=%{z}<extra></extra>",
           "hovertext": [
            "Bangladesh",
            "India",
            "Sri Lanka",
            "Pakistan",
            "Afghanistan"
           ],
           "locationmode": "country names",
           "locations": [
            "Bangladesh",
            "India",
            "Sri Lanka",
            "Pakistan",
            "Afghanistan"
           ],
           "name": "",
           "type": "choropleth",
           "z": {
            "bdata": "purSvy6kZkCagdZoqX5sQICrR17N2GxA53KbKVcnb0AAAAAAAAD4fw==",
            "dtype": "f8"
           }
          }
         ],
         "name": "1979"
        },
        {
         "data": [
          {
           "coloraxis": "coloraxis",
           "geo": "geo",
           "hovertemplate": "<b>%{hovertext}</b><br><br>Year=1980<br>Country=%{location}<br>GDP Per Capita (Current US$)=%{z}<extra></extra>",
           "hovertext": [
            "Afghanistan",
            "Pakistan",
            "Sri Lanka",
            "India",
            "Bangladesh"
           ],
           "locationmode": "country names",
           "locations": [
            "Afghanistan",
            "Pakistan",
            "Sri Lanka",
            "India",
            "Bangladesh"
           ],
           "name": "",
           "type": "choropleth",
           "z": {
            "bdata": "AAAAAAAA+H+No6znLfdxQFQk2Hfi8HBApvz7jUvxcEBv0WtAbMJpQA==",
            "dtype": "f8"
           }
          }
         ],
         "name": "1980"
        },
        {
         "data": [
          {
           "coloraxis": "coloraxis",
           "geo": "geo",
           "hovertemplate": "<b>%{hovertext}</b><br><br>Year=1981<br>Country=%{location}<br>GDP Per Capita (Current US$)=%{z}<extra></extra>",
           "hovertext": [
            "Sri Lanka",
            "Afghanistan",
            "Bangladesh",
            "India",
            "Pakistan"
           ],
           "locationmode": "country names",
           "locations": [
            "Sri Lanka",
            "Afghanistan",
            "Bangladesh",
            "India",
            "Pakistan"
           ],
           "name": "",
           "type": "choropleth",
           "z": {
            "bdata": "dV8CxThHckAAAAAAAAD4f4g1iXy5B2xAq5UZ5m0vcUAwfj3EFHh0QA==",
            "dtype": "f8"
           }
          }
         ],
         "name": "1981"
        },
        {
         "data": [
          {
           "coloraxis": "coloraxis",
           "geo": "geo",
           "hovertemplate": "<b>%{hovertext}</b><br><br>Year=1982<br>Country=%{location}<br>GDP Per Capita (Current US$)=%{z}<extra></extra>",
           "hovertext": [
            "Pakistan",
            "India",
            "Bangladesh",
            "Afghanistan",
            "Sri Lanka"
           ],
           "locationmode": "country names",
           "locations": [
            "Pakistan",
            "India",
            "Bangladesh",
            "Afghanistan",
            "Sri Lanka"
           ],
           "name": "",
           "type": "choropleth",
           "z": {
            "bdata": "iJ8GlzyOdUBKJ5H3Z2pxQHEOgvoR82hAAAAAAAAA+H+lb9B4U39zQA==",
            "dtype": "f8"
           }
          }
         ],
         "name": "1982"
        },
        {
         "data": [
          {
           "coloraxis": "coloraxis",
           "geo": "geo",
           "hovertemplate": "<b>%{hovertext}</b><br><br>Year=1983<br>Country=%{location}<br>GDP Per Capita (Current US$)=%{z}<extra></extra>",
           "hovertext": [
            "Bangladesh",
            "India",
            "Sri Lanka",
            "Pakistan",
            "Afghanistan"
           ],
           "locationmode": "country names",
           "locations": [
            "Bangladesh",
            "India",
            "Sri Lanka",
            "Pakistan",
            "Afghanistan"
           ],
           "name": "",
           "type": "choropleth",
           "z": {
            "bdata": "DMIl4p0WZ0AohEkS/39yQOLgIaEr/XRArKNb45Jxc0AAAAAAAAD4fw==",
            "dtype": "f8"
           }
          }
         ],
         "name": "1983"
        },
        {
         "data": [
          {
           "coloraxis": "coloraxis",
           "geo": "geo",
           "hovertemplate": "<b>%{hovertext}</b><br><br>Year=1984<br>Country=%{location}<br>GDP Per Capita (Current US$)=%{z}<extra></extra>",
           "hovertext": [
            "Afghanistan",
            "Pakistan",
            "Sri Lanka",
            "India",
            "Bangladesh"
           ],
           "locationmode": "country names",
           "locations": [
            "Afghanistan",
            "Pakistan",
            "Sri Lanka",
            "India",
            "Bangladesh"
           ],
           "name": "",
           "type": "choropleth",
           "z": {
            "bdata": "AAAAAAAA+H89XD2uh3V0QBPpHPTpdXhAB5A4QsyQcUCFQByx6y1oQA==",
            "dtype": "f8"
           }
          }
         ],
         "name": "1984"
        },
        {
         "data": [
          {
           "coloraxis": "coloraxis",
           "geo": "geo",
           "hovertemplate": "<b>%{hovertext}</b><br><br>Year=1985<br>Country=%{location}<br>GDP Per Capita (Current US$)=%{z}<extra></extra>",
           "hovertext": [
            "Bangladesh",
            "Pakistan",
            "Sri Lanka",
            "Afghanistan",
            "India"
           ],
           "locationmode": "country names",
           "locations": [
            "Bangladesh",
            "Pakistan",
            "Sri Lanka",
            "Afghanistan",
            "India"
           ],
           "name": "",
           "type": "choropleth",
           "z": {
            "bdata": "BTDCtwvHa0CqwO4XBNFzQOR1vtvICXhAAAAAAAAA+H9nPKol2s5yQA==",
            "dtype": "f8"
           }
          }
         ],
         "name": "1985"
        },
        {
         "data": [
          {
           "coloraxis": "coloraxis",
           "geo": "geo",
           "hovertemplate": "<b>%{hovertext}</b><br><br>Year=1986<br>Country=%{location}<br>GDP Per Capita (Current US$)=%{z}<extra></extra>",
           "hovertext": [
            "Afghanistan",
            "Pakistan",
            "Sri Lanka",
            "Bangladesh",
            "India"
           ],
           "locationmode": "country names",
           "locations": [
            "Afghanistan",
            "Pakistan",
            "Sri Lanka",
            "Bangladesh",
            "India"
           ],
           "name": "",
           "type": "choropleth",
           "z": {
            "bdata": "AAAAAAAA+H/qP64kJJ9zQAb8FTSicnlAVMbBjsSEakD4mbqWWq5zQA==",
            "dtype": "f8"
           }
          }
         ],
         "name": "1986"
        },
        {
         "data": [
          {
           "coloraxis": "coloraxis",
           "geo": "geo",
           "hovertemplate": "<b>%{hovertext}</b><br><br>Year=1987<br>Country=%{location}<br>GDP Per Capita (Current US$)=%{z}<extra></extra>",
           "hovertext": [
            "Sri Lanka",
            "Pakistan",
            "Afghanistan",
            "Bangladesh",
            "India"
           ],
           "locationmode": "country names",
           "locations": [
            "Sri Lanka",
            "Pakistan",
            "Afghanistan",
            "Bangladesh",
            "India"
           ],
           "name": "",
           "type": "choropleth",
           "z": {
            "bdata": "4PD0xzA9ekDiRf+b0dNzQAAAAAAAAPh//yGtmPzvbEDj9a5zDo91QA==",
            "dtype": "f8"
           }
          }
         ],
         "name": "1987"
        },
        {
         "data": [
          {
           "coloraxis": "coloraxis",
           "geo": "geo",
           "hovertemplate": "<b>%{hovertext}</b><br><br>Year=1988<br>Country=%{location}<br>GDP Per Capita (Current US$)=%{z}<extra></extra>",
           "hovertext": [
            "India",
            "Sri Lanka",
            "Pakistan",
            "Afghanistan",
            "Bangladesh"
           ],
           "locationmode": "country names",
           "locations": [
            "India",
            "Sri Lanka",
            "Pakistan",
            "Afghanistan",
            "Bangladesh"
           ],
           "name": "",
           "type": "choropleth",
           "z": {
            "bdata": "/qqjrMBndkBLvEW0PyB7QGZLDjWsHXZAAAAAAAAA+H+8BCjP2PxuQA==",
            "dtype": "f8"
           }
          }
         ],
         "name": "1988"
        },
        {
         "data": [
          {
           "coloraxis": "coloraxis",
           "geo": "geo",
           "hovertemplate": "<b>%{hovertext}</b><br><br>Year=1989<br>Country=%{location}<br>GDP Per Capita (Current US$)=%{z}<extra></extra>",
           "hovertext": [
            "India",
            "Sri Lanka",
            "Bangladesh",
            "Afghanistan",
            "Pakistan"
           ],
           "locationmode": "country names",
           "locations": [
            "India",
            "Sri Lanka",
            "Bangladesh",
            "Afghanistan",
            "Pakistan"
           ],
           "name": "",
           "type": "choropleth",
           "z": {
            "bdata": "0ZqXeaTedUAXwzTaYeB6QIfzuG4XcHBAAAAAAAAA+H9uIX9hiFl2QA==",
            "dtype": "f8"
           }
          }
         ],
         "name": "1989"
        },
        {
         "data": [
          {
           "coloraxis": "coloraxis",
           "geo": "geo",
           "hovertemplate": "<b>%{hovertext}</b><br><br>Year=1990<br>Country=%{location}<br>GDP Per Capita (Current US$)=%{z}<extra></extra>",
           "hovertext": [
            "India",
            "Afghanistan",
            "Bangladesh",
            "Sri Lanka",
            "Pakistan"
           ],
           "locationmode": "country names",
           "locations": [
            "India",
            "Afghanistan",
            "Bangladesh",
            "Sri Lanka",
            "Pakistan"
           ],
           "name": "",
           "type": "choropleth",
           "z": {
            "bdata": "aQuk/l8xd0AAAAAAAAD4fwTtYhvcsHFA7N5CQmuzfkCecfCeSYd1QA==",
            "dtype": "f8"
           }
          }
         ],
         "name": "1990"
        },
        {
         "data": [
          {
           "coloraxis": "coloraxis",
           "geo": "geo",
           "hovertemplate": "<b>%{hovertext}</b><br><br>Year=1991<br>Country=%{location}<br>GDP Per Capita (Current US$)=%{z}<extra></extra>",
           "hovertext": [
            "India",
            "Pakistan",
            "Afghanistan",
            "Bangladesh",
            "Sri Lanka"
           ],
           "locationmode": "country names",
           "locations": [
            "India",
            "Pakistan",
            "Afghanistan",
            "Bangladesh",
            "Sri Lanka"
           ],
           "name": "",
           "type": "choropleth",
           "z": {
            "bdata": "CvZEVS8Zc0CMsUFHUcB3QAAAAAAAAPh/hxtvBwoBcUA2VGcSVxKBQA==",
            "dtype": "f8"
           }
          }
         ],
         "name": "1991"
        },
        {
         "data": [
          {
           "coloraxis": "coloraxis",
           "geo": "geo",
           "hovertemplate": "<b>%{hovertext}</b><br><br>Year=1992<br>Country=%{location}<br>GDP Per Capita (Current US$)=%{z}<extra></extra>",
           "hovertext": [
            "Sri Lanka",
            "Bangladesh",
            "Afghanistan",
            "Pakistan",
            "India"
           ],
           "locationmode": "country names",
           "locations": [
            "Sri Lanka",
            "Bangladesh",
            "Afghanistan",
            "Pakistan",
            "India"
           ],
           "name": "",
           "type": "choropleth",
           "z": {
            "bdata": "eUxOrj0dgkBiDeLvcBdxQAAAAAAAAPh/bkGu2NW6eEADp2po6/JzQA==",
            "dtype": "f8"
           }
          }
         ],
         "name": "1992"
        },
        {
         "data": [
          {
           "coloraxis": "coloraxis",
           "geo": "geo",
           "hovertemplate": "<b>%{hovertext}</b><br><br>Year=1993<br>Country=%{location}<br>GDP Per Capita (Current US$)=%{z}<extra></extra>",
           "hovertext": [
            "India",
            "Sri Lanka",
            "Pakistan",
            "Bangladesh",
            "Afghanistan"
           ],
           "locationmode": "country names",
           "locations": [
            "India",
            "Sri Lanka",
            "Pakistan",
            "Bangladesh",
            "Afghanistan"
           ],
           "name": "",
           "type": "choropleth",
           "z": {
            "bdata": "0imYKijuckArY6fS2vmCQFazAtM1fnlAsmbQyx2McUAAAAAAAAD4fw==",
            "dtype": "f8"
           }
          }
         ],
         "name": "1993"
        },
        {
         "data": [
          {
           "coloraxis": "coloraxis",
           "geo": "geo",
           "hovertemplate": "<b>%{hovertext}</b><br><br>Year=1994<br>Country=%{location}<br>GDP Per Capita (Current US$)=%{z}<extra></extra>",
           "hovertext": [
            "Bangladesh",
            "Sri Lanka",
            "Pakistan",
            "Afghanistan",
            "India"
           ],
           "locationmode": "country names",
           "locations": [
            "Bangladesh",
            "Sri Lanka",
            "Pakistan",
            "Afghanistan",
            "India"
           ],
           "name": "",
           "type": "choropleth",
           "z": {
            "bdata": "idupBKaJcUC5bXzjJDKFQKHVsnpL/3hAAAAAAAAA+H+JhPRXv7t1QA==",
            "dtype": "f8"
           }
          }
         ],
         "name": "1994"
        },
        {
         "data": [
          {
           "coloraxis": "coloraxis",
           "geo": "geo",
           "hovertemplate": "<b>%{hovertext}</b><br><br>Year=1995<br>Country=%{location}<br>GDP Per Capita (Current US$)=%{z}<extra></extra>",
           "hovertext": [
            "India",
            "Sri Lanka",
            "Pakistan",
            "Afghanistan",
            "Bangladesh"
           ],
           "locationmode": "country names",
           "locations": [
            "India",
            "Sri Lanka",
            "Pakistan",
            "Afghanistan",
            "Bangladesh"
           ],
           "name": "",
           "type": "choropleth",
           "z": {
            "bdata": "uJIC69Byd0C0+DC/tC6HQOg5t/HNKHxAAAAAAAAA+H+e+rPBVldzQA==",
            "dtype": "f8"
           }
          }
         ],
         "name": "1995"
        },
        {
         "data": [
          {
           "coloraxis": "coloraxis",
           "geo": "geo",
           "hovertemplate": "<b>%{hovertext}</b><br><br>Year=1996<br>Country=%{location}<br>GDP Per Capita (Current US$)=%{z}<extra></extra>",
           "hovertext": [
            "Bangladesh",
            "Afghanistan",
            "Pakistan",
            "Sri Lanka",
            "India"
           ],
           "locationmode": "country names",
           "locations": [
            "Bangladesh",
            "Afghanistan",
            "Pakistan",
            "Sri Lanka",
            "India"
           ],
           "name": "",
           "type": "choropleth",
           "z": {
            "bdata": "aP9q368+d0AAAAAAAAD4f5s9QI7zj3xAREjW+YlBiEBQH9SBvxB5QA==",
            "dtype": "f8"
           }
          }
         ],
         "name": "1996"
        },
        {
         "data": [
          {
           "coloraxis": "coloraxis",
           "geo": "geo",
           "hovertemplate": "<b>%{hovertext}</b><br><br>Year=1997<br>Country=%{location}<br>GDP Per Capita (Current US$)=%{z}<extra></extra>",
           "hovertext": [
            "India",
            "Sri Lanka",
            "Pakistan",
            "Bangladesh",
            "Afghanistan"
           ],
           "locationmode": "country names",
           "locations": [
            "India",
            "Sri Lanka",
            "Pakistan",
            "Bangladesh",
            "Afghanistan"
           ],
           "name": "",
           "type": "choropleth",
           "z": {
            "bdata": "6SwtXaYDekCi83g6SdiJQOx0wL1+YHtA8E7fBY+0d0AAAAAAAAD4fw==",
            "dtype": "f8"
           }
          }
         ],
         "name": "1997"
        },
        {
         "data": [
          {
           "coloraxis": "coloraxis",
           "geo": "geo",
           "hovertemplate": "<b>%{hovertext}</b><br><br>Year=1998<br>Country=%{location}<br>GDP Per Capita (Current US$)=%{z}<extra></extra>",
           "hovertext": [
            "Bangladesh",
            "Afghanistan",
            "Pakistan",
            "Sri Lanka",
            "India"
           ],
           "locationmode": "country names",
           "locations": [
            "Bangladesh",
            "Afghanistan",
            "Pakistan",
            "Sri Lanka",
            "India"
           ],
           "name": "",
           "type": "choropleth",
           "z": {
            "bdata": "IZxmv94ZeEAAAAAAAAD4f/1sn1hCh3pAua36NP+KikBaxugEGNp5QA==",
            "dtype": "f8"
           }
          }
         ],
         "name": "1998"
        },
        {
         "data": [
          {
           "coloraxis": "coloraxis",
           "geo": "geo",
           "hovertemplate": "<b>%{hovertext}</b><br><br>Year=1999<br>Country=%{location}<br>GDP Per Capita (Current US$)=%{z}<extra></extra>",
           "hovertext": [
            "India",
            "Sri Lanka",
            "Pakistan",
            "Afghanistan",
            "Bangladesh"
           ],
           "locationmode": "country names",
           "locations": [
            "India",
            "Sri Lanka",
            "Pakistan",
            "Afghanistan",
            "Bangladesh"
           ],
           "name": "",
           "type": "choropleth",
           "z": {
            "bdata": "sWSMDdmee0BbRtqsXtOJQJRR9/T8I3pAAAAAAAAA+H/6LDrsh0F4QA==",
            "dtype": "f8"
           }
          }
         ],
         "name": "1999"
        },
        {
         "data": [
          {
           "coloraxis": "coloraxis",
           "geo": "geo",
           "hovertemplate": "<b>%{hovertext}</b><br><br>Year=2000<br>Country=%{location}<br>GDP Per Capita (Current US$)=%{z}<extra></extra>",
           "hovertext": [
            "Afghanistan",
            "Bangladesh",
            "Pakistan",
            "Sri Lanka",
            "India"
           ],
           "locationmode": "country names",
           "locations": [
            "Afghanistan",
            "Bangladesh",
            "Pakistan",
            "Sri Lanka",
            "India"
           ],
           "name": "",
           "type": "choropleth",
           "z": {
            "bdata": "ai2KrsrdZUDlcaRPu8p4QDl+Au+0EoRAINPivq9zikAnhpLlAKx7QA==",
            "dtype": "f8"
           }
          }
         ],
         "name": "2000"
        },
        {
         "data": [
          {
           "coloraxis": "coloraxis",
           "geo": "geo",
           "hovertemplate": "<b>%{hovertext}</b><br><br>Year=2001<br>Country=%{location}<br>GDP Per Capita (Current US$)=%{z}<extra></extra>",
           "hovertext": [
            "India",
            "Sri Lanka",
            "Pakistan",
            "Bangladesh",
            "Afghanistan"
           ],
           "locationmode": "country names",
           "locations": [
            "India",
            "Sri Lanka",
            "Pakistan",
            "Bangladesh",
            "Afghanistan"
           ],
           "name": "",
           "type": "choropleth",
           "z": {
            "bdata": "bLbj9bklfEAt5qEqWhyJQD09MhyED4NAw7/Kp4CqeEBM4H1InlZhQA==",
            "dtype": "f8"
           }
          }
         ],
         "name": "2001"
        },
        {
         "data": [
          {
           "coloraxis": "coloraxis",
           "geo": "geo",
           "hovertemplate": "<b>%{hovertext}</b><br><br>Year=2002<br>Country=%{location}<br>GDP Per Capita (Current US$)=%{z}<extra></extra>",
           "hovertext": [
            "Bangladesh",
            "Sri Lanka",
            "Pakistan",
            "Afghanistan",
            "India"
           ],
           "locationmode": "country names",
           "locations": [
            "Bangladesh",
            "Sri Lanka",
            "Pakistan",
            "Afghanistan",
            "India"
           ],
           "name": "",
           "type": "choropleth",
           "z": {
            "bdata": "tLktyS6eeED292H1fBeKQH9qHa9/v4JA20la5IdeZkDUe+wbZlJ9QA==",
            "dtype": "f8"
           }
          }
         ],
         "name": "2002"
        },
        {
         "data": [
          {
           "coloraxis": "coloraxis",
           "geo": "geo",
           "hovertemplate": "<b>%{hovertext}</b><br><br>Year=2003<br>Country=%{location}<br>GDP Per Capita (Current US$)=%{z}<extra></extra>",
           "hovertext": [
            "India",
            "Sri Lanka",
            "Pakistan",
            "Afghanistan",
            "Bangladesh"
           ],
           "locationmode": "country names",
           "locations": [
            "India",
            "Sri Lanka",
            "Pakistan",
            "Afghanistan",
            "Bangladesh"
           ],
           "name": "",
           "type": "choropleth",
           "z": {
            "bdata": "9DUzIyUBgUBhzsbbDpONQAr+dseIA4VAPb0XLuDbaECJbZ4d+6t6QA==",
            "dtype": "f8"
           }
          }
         ],
         "name": "2003"
        },
        {
         "data": [
          {
           "coloraxis": "coloraxis",
           "geo": "geo",
           "hovertemplate": "<b>%{hovertext}</b><br><br>Year=2004<br>Country=%{location}<br>GDP Per Capita (Current US$)=%{z}<extra></extra>",
           "hovertext": [
            "Afghanistan",
            "Bangladesh",
            "Pakistan",
            "Sri Lanka",
            "India"
           ],
           "locationmode": "country names",
           "locations": [
            "Afghanistan",
            "Bangladesh",
            "Pakistan",
            "Sri Lanka",
            "India"
           ],
           "name": "",
           "type": "choropleth",
           "z": {
            "bdata": "v0E/2m+4a0BgLGUD03l8QEhFdc03H4hA56nik3sSkECSIKITEoKDQA==",
            "dtype": "f8"
           }
          }
         ],
         "name": "2004"
        },
        {
         "data": [
          {
           "coloraxis": "coloraxis",
           "geo": "geo",
           "hovertemplate": "<b>%{hovertext}</b><br><br>Year=2005<br>Country=%{location}<br>GDP Per Capita (Current US$)=%{z}<extra></extra>",
           "hovertext": [
            "India",
            "Sri Lanka",
            "Pakistan",
            "Bangladesh",
            "Afghanistan"
           ],
           "locationmode": "country names",
           "locations": [
            "India",
            "Sri Lanka",
            "Pakistan",
            "Bangladesh",
            "Afghanistan"
           ],
           "name": "",
           "type": "choropleth",
           "z": {
            "bdata": "CZKzluczhkDgXvQ54dySQFaWyHn13IlAAXAKpV8BfkDZ1nhe5cVvQA==",
            "dtype": "f8"
           }
          }
         ],
         "name": "2005"
        },
        {
         "data": [
          {
           "coloraxis": "coloraxis",
           "geo": "geo",
           "hovertemplate": "<b>%{hovertext}</b><br><br>Year=2006<br>Country=%{location}<br>GDP Per Capita (Current US$)=%{z}<extra></extra>",
           "hovertext": [
            "Bangladesh",
            "Afghanistan",
            "Pakistan",
            "Sri Lanka",
            "India"
           ],
           "locationmode": "country names",
           "locations": [
            "Bangladesh",
            "Afghanistan",
            "Pakistan",
            "Sri Lanka",
            "India"
           ],
           "name": "",
           "type": "choropleth",
           "z": {
            "bdata": "TmdPWzWmfkA59gQyfyNxQHOFow/9JoxA10XuZwa2lUBLnc3JWA2JQA==",
            "dtype": "f8"
           }
          }
         ],
         "name": "2006"
        },
        {
         "data": [
          {
           "coloraxis": "coloraxis",
           "geo": "geo",
           "hovertemplate": "<b>%{hovertext}</b><br><br>Year=2007<br>Country=%{location}<br>GDP Per Capita (Current US$)=%{z}<extra></extra>",
           "hovertext": [
            "India",
            "Afghanistan",
            "Pakistan",
            "Sri Lanka",
            "Bangladesh"
           ],
           "locationmode": "country names",
           "locations": [
            "India",
            "Afghanistan",
            "Pakistan",
            "Sri Lanka",
            "Bangladesh"
           ],
           "name": "",
           "type": "choropleth",
           "z": {
            "bdata": "q6ncuxjvj0Dz6tUHkoN3QCvayo24MI9AH3JRvYmqmEDuyGfZpM+AQA==",
            "dtype": "f8"
           }
          }
         ],
         "name": "2007"
        },
        {
         "data": [
          {
           "coloraxis": "coloraxis",
           "geo": "geo",
           "hovertemplate": "<b>%{hovertext}</b><br><br>Year=2008<br>Country=%{location}<br>GDP Per Capita (Current US$)=%{z}<extra></extra>",
           "hovertext": [
            "Pakistan",
            "India",
            "Bangladesh",
            "Sri Lanka",
            "Afghanistan"
           ],
           "locationmode": "country names",
           "locations": [
            "Pakistan",
            "India",
            "Bangladesh",
            "Sri Lanka",
            "Afghanistan"
           ],
           "name": "",
           "type": "choropleth",
           "z": {
            "bdata": "kaKWSCyskECw+iMcKASPQBaZXw9/KINA9yewzVbWnkBVhcxXu9t3QA==",
            "dtype": "f8"
           }
          }
         ],
         "name": "2008"
        },
        {
         "data": [
          {
           "coloraxis": "coloraxis",
           "geo": "geo",
           "hovertemplate": "<b>%{hovertext}</b><br><br>Year=2009<br>Country=%{location}<br>GDP Per Capita (Current US$)=%{z}<extra></extra>",
           "hovertext": [
            "India",
            "Bangladesh",
            "Sri Lanka",
            "Pakistan",
            "Afghanistan"
           ],
           "locationmode": "country names",
           "locations": [
            "India",
            "Bangladesh",
            "Sri Lanka",
            "Pakistan",
            "Afghanistan"
           ],
           "name": "",
           "type": "choropleth",
           "z": {
            "bdata": "Vhk2iswbkUC+6hMbsTmFQJnWnzmjqp9AixTB9U0ejkBBOEb620B8QA==",
            "dtype": "f8"
           }
          }
         ],
         "name": "2009"
        },
        {
         "data": [
          {
           "coloraxis": "coloraxis",
           "geo": "geo",
           "hovertemplate": "<b>%{hovertext}</b><br><br>Year=2010<br>Country=%{location}<br>GDP Per Capita (Current US$)=%{z}<extra></extra>",
           "hovertext": [
            "Pakistan",
            "India",
            "Bangladesh",
            "Afghanistan",
            "Sri Lanka"
           ],
           "locationmode": "country names",
           "locations": [
            "Pakistan",
            "India",
            "Bangladesh",
            "Afghanistan",
            "Sri Lanka"
           ],
           "name": "",
           "type": "choropleth",
           "z": {
            "bdata": "wVf8wm/ajkA8xCjbEw6VQL7D3g0Vq4dA+zPb1/iEgUDJNEhPvPClQA==",
            "dtype": "f8"
           }
          }
         ],
         "name": "2010"
        },
        {
         "data": [
          {
           "coloraxis": "coloraxis",
           "geo": "geo",
           "hovertemplate": "<b>%{hovertext}</b><br><br>Year=2011<br>Country=%{location}<br>GDP Per Capita (Current US$)=%{z}<extra></extra>",
           "hovertext": [
            "Sri Lanka",
            "Afghanistan",
            "Pakistan",
            "India",
            "Bangladesh"
           ],
           "locationmode": "country names",
           "locations": [
            "Sri Lanka",
            "Afghanistan",
            "Pakistan",
            "India",
            "Bangladesh"
           ],
           "name": "",
           "type": "choropleth",
           "z": {
            "bdata": "ZWWGK+oxqUC1vneyjvWCQAEZG8jwrpFABt9vWNiVlkDrgg8QsiqKQA==",
            "dtype": "f8"
           }
          }
         ],
         "name": "2011"
        },
        {
         "data": [
          {
           "coloraxis": "coloraxis",
           "geo": "geo",
           "hovertemplate": "<b>%{hovertext}</b><br><br>Year=2012<br>Country=%{location}<br>GDP Per Capita (Current US$)=%{z}<extra></extra>",
           "hovertext": [
            "Pakistan",
            "Bangladesh",
            "India",
            "Afghanistan",
            "Sri Lanka"
           ],
           "locationmode": "country names",
           "locations": [
            "Pakistan",
            "Bangladesh",
            "India",
            "Afghanistan",
            "Sri Lanka"
           ],
           "name": "",
           "type": "choropleth",
           "z": {
            "bdata": "hgpQgnXRkkD8Iw69cd2KQGAbHLlJVZZADteYSlZbhEDibiFgjf+pQA==",
            "dtype": "f8"
           }
          }
         ],
         "name": "2012"
        },
        {
         "data": [
          {
           "coloraxis": "coloraxis",
           "geo": "geo",
           "hovertemplate": "<b>%{hovertext}</b><br><br>Year=2013<br>Country=%{location}<br>GDP Per Capita (Current US$)=%{z}<extra></extra>",
           "hovertext": [
            "Sri Lanka",
            "Afghanistan",
            "India",
            "Pakistan",
            "Bangladesh"
           ],
           "locationmode": "country names",
           "locations": [
            "Sri Lanka",
            "Afghanistan",
            "India",
            "Pakistan",
            "Bangladesh"
           ],
           "name": "",
           "type": "choropleth",
           "z": {
            "bdata": "2ABkVjs5rUCbmwVhsuiDQKetAztgY5ZAduaebbwlk0B1NmWaGvKNQA==",
            "dtype": "f8"
           }
          }
         ],
         "name": "2013"
        },
        {
         "data": [
          {
           "coloraxis": "coloraxis",
           "geo": "geo",
           "hovertemplate": "<b>%{hovertext}</b><br><br>Year=2014<br>Country=%{location}<br>GDP Per Capita (Current US$)=%{z}<extra></extra>",
           "hovertext": [
            "Pakistan",
            "Afghanistan",
            "India",
            "Bangladesh",
            "Sri Lanka"
           ],
           "locationmode": "country names",
           "locations": [
            "Pakistan",
            "Afghanistan",
            "India",
            "Bangladesh",
            "Sri Lanka"
           ],
           "name": "",
           "type": "choropleth",
           "z": {
            "bdata": "T5NbIXTKk0BfcFWFcIiDQBDVAS2JR5hA976/FdkZkUDozGaY1gevQA==",
            "dtype": "f8"
           }
          }
         ],
         "name": "2014"
        },
        {
         "data": [
          {
           "coloraxis": "coloraxis",
           "geo": "geo",
           "hovertemplate": "<b>%{hovertext}</b><br><br>Year=2015<br>Country=%{location}<br>GDP Per Capita (Current US$)=%{z}<extra></extra>",
           "hovertext": [
            "Sri Lanka",
            "Bangladesh",
            "India",
            "Afghanistan",
            "Pakistan"
           ],
           "locationmode": "country names",
           "locations": [
            "Sri Lanka",
            "Bangladesh",
            "India",
            "Afghanistan",
            "Pakistan"
           ],
           "name": "",
           "type": "choropleth",
           "z": {
            "bdata": "6LdtRkO4r0BqEYvAiyGTQKXwaR3+v5hA+gjRzo6sgUAVcE5+4ZGVQA==",
            "dtype": "f8"
           }
          }
         ],
         "name": "2015"
        },
        {
         "data": [
          {
           "coloraxis": "coloraxis",
           "geo": "geo",
           "hovertemplate": "<b>%{hovertext}</b><br><br>Year=2016<br>Country=%{location}<br>GDP Per Capita (Current US$)=%{z}<extra></extra>",
           "hovertext": [
            "Pakistan",
            "Bangladesh",
            "India",
            "Afghanistan",
            "Sri Lanka"
           ],
           "locationmode": "country names",
           "locations": [
            "Pakistan",
            "Bangladesh",
            "India",
            "Afghanistan",
            "Sri Lanka"
           ],
           "name": "",
           "type": "choropleth",
           "z": {
            "bdata": "MuXsNcRClkDzzLeeIsWZQEZDtyQJrppAguCkYKhQgEBme3jUwjWwQA==",
            "dtype": "f8"
           }
          }
         ],
         "name": "2016"
        },
        {
         "data": [
          {
           "coloraxis": "coloraxis",
           "geo": "geo",
           "hovertemplate": "<b>%{hovertext}</b><br><br>Year=2017<br>Country=%{location}<br>GDP Per Capita (Current US$)=%{z}<extra></extra>",
           "hovertext": [
            "Sri Lanka",
            "Afghanistan",
            "India",
            "Bangladesh",
            "Pakistan"
           ],
           "locationmode": "country names",
           "locations": [
            "Sri Lanka",
            "Afghanistan",
            "India",
            "Bangladesh",
            "Pakistan"
           ],
           "name": "",
           "type": "choropleth",
           "z": {
            "bdata": "iT9rQA4xsUDuwD0XwmuAQJhe+DFreJ5AIG6cMFRMnEACg7U58LyXQA==",
            "dtype": "f8"
           }
          }
         ],
         "name": "2017"
        },
        {
         "data": [
          {
           "coloraxis": "coloraxis",
           "geo": "geo",
           "hovertemplate": "<b>%{hovertext}</b><br><br>Year=2018<br>Country=%{location}<br>GDP Per Capita (Current US$)=%{z}<extra></extra>",
           "hovertext": [
            "Pakistan",
            "Afghanistan",
            "India",
            "Sri Lanka",
            "Bangladesh"
           ],
           "locationmode": "country names",
           "locations": [
            "Pakistan",
            "Afghanistan",
            "India",
            "Sri Lanka",
            "Bangladesh"
           ],
           "name": "",
           "type": "choropleth",
           "z": {
            "bdata": "2ZwDQ1qFmECrnD9CZbV+QASLNKkEuZ5ANj0ssZUIsUCZNqeT+bSeQA==",
            "dtype": "f8"
           }
          }
         ],
         "name": "2018"
        },
        {
         "data": [
          {
           "coloraxis": "coloraxis",
           "geo": "geo",
           "hovertemplate": "<b>%{hovertext}</b><br><br>Year=2019<br>Country=%{location}<br>GDP Per Capita (Current US$)=%{z}<extra></extra>",
           "hovertext": [
            "Afghanistan",
            "Sri Lanka",
            "Pakistan",
            "India",
            "Bangladesh"
           ],
           "locationmode": "country names",
           "locations": [
            "Afghanistan",
            "Sri Lanka",
            "Pakistan",
            "India",
            "Bangladesh"
           ],
           "name": "",
           "type": "choropleth",
           "z": {
            "bdata": "VV+B26MJf0BZbFpaY+WvQFE9aOqquZVAVDCd7Lbln0CoTYkSmaOgQA==",
            "dtype": "f8"
           }
          }
         ],
         "name": "2019"
        },
        {
         "data": [
          {
           "coloraxis": "coloraxis",
           "geo": "geo",
           "hovertemplate": "<b>%{hovertext}</b><br><br>Year=2020<br>Country=%{location}<br>GDP Per Capita (Current US$)=%{z}<extra></extra>",
           "hovertext": [
            "Bangladesh",
            "Sri Lanka",
            "Afghanistan",
            "India",
            "Pakistan"
           ],
           "locationmode": "country names",
           "locations": [
            "Bangladesh",
            "Sri Lanka",
            "Afghanistan",
            "India",
            "Pakistan"
           ],
           "name": "",
           "type": "choropleth",
           "z": {
            "bdata": "25CFmrORoUA2AX9XWQyuQFTFwc+X7H9Atr1piSvMnUC59HXjlvmTQA==",
            "dtype": "f8"
           }
          }
         ],
         "name": "2020"
        },
        {
         "data": [
          {
           "coloraxis": "coloraxis",
           "geo": "geo",
           "hovertemplate": "<b>%{hovertext}</b><br><br>Year=2021<br>Country=%{location}<br>GDP Per Capita (Current US$)=%{z}<extra></extra>",
           "hovertext": [
            "Pakistan",
            "India",
            "Afghanistan",
            "Sri Lanka",
            "Bangladesh"
           ],
           "locationmode": "country names",
           "locations": [
            "Pakistan",
            "India",
            "Afghanistan",
            "Sri Lanka",
            "Bangladesh"
           ],
           "name": "",
           "type": "choropleth",
           "z": {
            "bdata": "Y/6T4ka9lkBr2LdJOn+hQB15Nn7wR3ZAOMwJ4Kw+r0BOAYTHsmWjQA==",
            "dtype": "f8"
           }
          }
         ],
         "name": "2021"
        },
        {
         "data": [
          {
           "coloraxis": "coloraxis",
           "geo": "geo",
           "hovertemplate": "<b>%{hovertext}</b><br><br>Year=2022<br>Country=%{location}<br>GDP Per Capita (Current US$)=%{z}<extra></extra>",
           "hovertext": [
            "Bangladesh",
            "India",
            "Pakistan",
            "Sri Lanka",
            "Afghanistan"
           ],
           "locationmode": "country names",
           "locations": [
            "Bangladesh",
            "India",
            "Pakistan",
            "Sri Lanka",
            "Afghanistan"
           ],
           "name": "",
           "type": "choropleth",
           "z": {
            "bdata": "hwply/g4pUDtlVBUOmGiQKL+ko9KCZhA2uFElnAdqkCZdI6uLVR2QA==",
            "dtype": "f8"
           }
          }
         ],
         "name": "2022"
        },
        {
         "data": [
          {
           "coloraxis": "coloraxis",
           "geo": "geo",
           "hovertemplate": "<b>%{hovertext}</b><br><br>Year=2023<br>Country=%{location}<br>GDP Per Capita (Current US$)=%{z}<extra></extra>",
           "hovertext": [
            "Afghanistan",
            "Sri Lanka",
            "Pakistan",
            "India",
            "Bangladesh"
           ],
           "locationmode": "country names",
           "locations": [
            "Afghanistan",
            "Sri Lanka",
            "Pakistan",
            "India",
            "Bangladesh"
           ],
           "name": "",
           "type": "choropleth",
           "z": {
            "bdata": "g9aMlFH7eUBwEMMO7uetQLlzMRccVZVAZ6J0jJVho0BUvXoTCe6jQA==",
            "dtype": "f8"
           }
          }
         ],
         "name": "2023"
        }
       ],
       "layout": {
        "coloraxis": {
         "colorbar": {
          "title": {
           "text": "GDP Per Capita (Current US$)"
          }
         },
         "colorscale": [
          [
           0,
           "#440154"
          ],
          [
           0.1111111111111111,
           "#482878"
          ],
          [
           0.2222222222222222,
           "#3e4989"
          ],
          [
           0.3333333333333333,
           "#31688e"
          ],
          [
           0.4444444444444444,
           "#26828e"
          ],
          [
           0.5555555555555556,
           "#1f9e89"
          ],
          [
           0.6666666666666666,
           "#35b779"
          ],
          [
           0.7777777777777778,
           "#6ece58"
          ],
          [
           0.8888888888888888,
           "#b5de2b"
          ],
          [
           1,
           "#fde725"
          ]
         ]
        },
        "geo": {
         "center": {},
         "domain": {
          "x": [
           0,
           1
          ],
          "y": [
           0,
           1
          ]
         }
        },
        "legend": {
         "tracegroupgap": 0
        },
        "sliders": [
         {
          "active": 0,
          "currentvalue": {
           "prefix": "Year="
          },
          "len": 0.9,
          "pad": {
           "b": 10,
           "t": 60
          },
          "steps": [
           {
            "args": [
             [
              "1960"
             ],
             {
              "frame": {
               "duration": 0,
               "redraw": true
              },
              "fromcurrent": true,
              "mode": "immediate",
              "transition": {
               "duration": 0,
               "easing": "linear"
              }
             }
            ],
            "label": "1960",
            "method": "animate"
           },
           {
            "args": [
             [
              "1961"
             ],
             {
              "frame": {
               "duration": 0,
               "redraw": true
              },
              "fromcurrent": true,
              "mode": "immediate",
              "transition": {
               "duration": 0,
               "easing": "linear"
              }
             }
            ],
            "label": "1961",
            "method": "animate"
           },
           {
            "args": [
             [
              "1962"
             ],
             {
              "frame": {
               "duration": 0,
               "redraw": true
              },
              "fromcurrent": true,
              "mode": "immediate",
              "transition": {
               "duration": 0,
               "easing": "linear"
              }
             }
            ],
            "label": "1962",
            "method": "animate"
           },
           {
            "args": [
             [
              "1963"
             ],
             {
              "frame": {
               "duration": 0,
               "redraw": true
              },
              "fromcurrent": true,
              "mode": "immediate",
              "transition": {
               "duration": 0,
               "easing": "linear"
              }
             }
            ],
            "label": "1963",
            "method": "animate"
           },
           {
            "args": [
             [
              "1964"
             ],
             {
              "frame": {
               "duration": 0,
               "redraw": true
              },
              "fromcurrent": true,
              "mode": "immediate",
              "transition": {
               "duration": 0,
               "easing": "linear"
              }
             }
            ],
            "label": "1964",
            "method": "animate"
           },
           {
            "args": [
             [
              "1965"
             ],
             {
              "frame": {
               "duration": 0,
               "redraw": true
              },
              "fromcurrent": true,
              "mode": "immediate",
              "transition": {
               "duration": 0,
               "easing": "linear"
              }
             }
            ],
            "label": "1965",
            "method": "animate"
           },
           {
            "args": [
             [
              "1966"
             ],
             {
              "frame": {
               "duration": 0,
               "redraw": true
              },
              "fromcurrent": true,
              "mode": "immediate",
              "transition": {
               "duration": 0,
               "easing": "linear"
              }
             }
            ],
            "label": "1966",
            "method": "animate"
           },
           {
            "args": [
             [
              "1967"
             ],
             {
              "frame": {
               "duration": 0,
               "redraw": true
              },
              "fromcurrent": true,
              "mode": "immediate",
              "transition": {
               "duration": 0,
               "easing": "linear"
              }
             }
            ],
            "label": "1967",
            "method": "animate"
           },
           {
            "args": [
             [
              "1968"
             ],
             {
              "frame": {
               "duration": 0,
               "redraw": true
              },
              "fromcurrent": true,
              "mode": "immediate",
              "transition": {
               "duration": 0,
               "easing": "linear"
              }
             }
            ],
            "label": "1968",
            "method": "animate"
           },
           {
            "args": [
             [
              "1969"
             ],
             {
              "frame": {
               "duration": 0,
               "redraw": true
              },
              "fromcurrent": true,
              "mode": "immediate",
              "transition": {
               "duration": 0,
               "easing": "linear"
              }
             }
            ],
            "label": "1969",
            "method": "animate"
           },
           {
            "args": [
             [
              "1970"
             ],
             {
              "frame": {
               "duration": 0,
               "redraw": true
              },
              "fromcurrent": true,
              "mode": "immediate",
              "transition": {
               "duration": 0,
               "easing": "linear"
              }
             }
            ],
            "label": "1970",
            "method": "animate"
           },
           {
            "args": [
             [
              "1971"
             ],
             {
              "frame": {
               "duration": 0,
               "redraw": true
              },
              "fromcurrent": true,
              "mode": "immediate",
              "transition": {
               "duration": 0,
               "easing": "linear"
              }
             }
            ],
            "label": "1971",
            "method": "animate"
           },
           {
            "args": [
             [
              "1972"
             ],
             {
              "frame": {
               "duration": 0,
               "redraw": true
              },
              "fromcurrent": true,
              "mode": "immediate",
              "transition": {
               "duration": 0,
               "easing": "linear"
              }
             }
            ],
            "label": "1972",
            "method": "animate"
           },
           {
            "args": [
             [
              "1973"
             ],
             {
              "frame": {
               "duration": 0,
               "redraw": true
              },
              "fromcurrent": true,
              "mode": "immediate",
              "transition": {
               "duration": 0,
               "easing": "linear"
              }
             }
            ],
            "label": "1973",
            "method": "animate"
           },
           {
            "args": [
             [
              "1974"
             ],
             {
              "frame": {
               "duration": 0,
               "redraw": true
              },
              "fromcurrent": true,
              "mode": "immediate",
              "transition": {
               "duration": 0,
               "easing": "linear"
              }
             }
            ],
            "label": "1974",
            "method": "animate"
           },
           {
            "args": [
             [
              "1975"
             ],
             {
              "frame": {
               "duration": 0,
               "redraw": true
              },
              "fromcurrent": true,
              "mode": "immediate",
              "transition": {
               "duration": 0,
               "easing": "linear"
              }
             }
            ],
            "label": "1975",
            "method": "animate"
           },
           {
            "args": [
             [
              "1976"
             ],
             {
              "frame": {
               "duration": 0,
               "redraw": true
              },
              "fromcurrent": true,
              "mode": "immediate",
              "transition": {
               "duration": 0,
               "easing": "linear"
              }
             }
            ],
            "label": "1976",
            "method": "animate"
           },
           {
            "args": [
             [
              "1977"
             ],
             {
              "frame": {
               "duration": 0,
               "redraw": true
              },
              "fromcurrent": true,
              "mode": "immediate",
              "transition": {
               "duration": 0,
               "easing": "linear"
              }
             }
            ],
            "label": "1977",
            "method": "animate"
           },
           {
            "args": [
             [
              "1978"
             ],
             {
              "frame": {
               "duration": 0,
               "redraw": true
              },
              "fromcurrent": true,
              "mode": "immediate",
              "transition": {
               "duration": 0,
               "easing": "linear"
              }
             }
            ],
            "label": "1978",
            "method": "animate"
           },
           {
            "args": [
             [
              "1979"
             ],
             {
              "frame": {
               "duration": 0,
               "redraw": true
              },
              "fromcurrent": true,
              "mode": "immediate",
              "transition": {
               "duration": 0,
               "easing": "linear"
              }
             }
            ],
            "label": "1979",
            "method": "animate"
           },
           {
            "args": [
             [
              "1980"
             ],
             {
              "frame": {
               "duration": 0,
               "redraw": true
              },
              "fromcurrent": true,
              "mode": "immediate",
              "transition": {
               "duration": 0,
               "easing": "linear"
              }
             }
            ],
            "label": "1980",
            "method": "animate"
           },
           {
            "args": [
             [
              "1981"
             ],
             {
              "frame": {
               "duration": 0,
               "redraw": true
              },
              "fromcurrent": true,
              "mode": "immediate",
              "transition": {
               "duration": 0,
               "easing": "linear"
              }
             }
            ],
            "label": "1981",
            "method": "animate"
           },
           {
            "args": [
             [
              "1982"
             ],
             {
              "frame": {
               "duration": 0,
               "redraw": true
              },
              "fromcurrent": true,
              "mode": "immediate",
              "transition": {
               "duration": 0,
               "easing": "linear"
              }
             }
            ],
            "label": "1982",
            "method": "animate"
           },
           {
            "args": [
             [
              "1983"
             ],
             {
              "frame": {
               "duration": 0,
               "redraw": true
              },
              "fromcurrent": true,
              "mode": "immediate",
              "transition": {
               "duration": 0,
               "easing": "linear"
              }
             }
            ],
            "label": "1983",
            "method": "animate"
           },
           {
            "args": [
             [
              "1984"
             ],
             {
              "frame": {
               "duration": 0,
               "redraw": true
              },
              "fromcurrent": true,
              "mode": "immediate",
              "transition": {
               "duration": 0,
               "easing": "linear"
              }
             }
            ],
            "label": "1984",
            "method": "animate"
           },
           {
            "args": [
             [
              "1985"
             ],
             {
              "frame": {
               "duration": 0,
               "redraw": true
              },
              "fromcurrent": true,
              "mode": "immediate",
              "transition": {
               "duration": 0,
               "easing": "linear"
              }
             }
            ],
            "label": "1985",
            "method": "animate"
           },
           {
            "args": [
             [
              "1986"
             ],
             {
              "frame": {
               "duration": 0,
               "redraw": true
              },
              "fromcurrent": true,
              "mode": "immediate",
              "transition": {
               "duration": 0,
               "easing": "linear"
              }
             }
            ],
            "label": "1986",
            "method": "animate"
           },
           {
            "args": [
             [
              "1987"
             ],
             {
              "frame": {
               "duration": 0,
               "redraw": true
              },
              "fromcurrent": true,
              "mode": "immediate",
              "transition": {
               "duration": 0,
               "easing": "linear"
              }
             }
            ],
            "label": "1987",
            "method": "animate"
           },
           {
            "args": [
             [
              "1988"
             ],
             {
              "frame": {
               "duration": 0,
               "redraw": true
              },
              "fromcurrent": true,
              "mode": "immediate",
              "transition": {
               "duration": 0,
               "easing": "linear"
              }
             }
            ],
            "label": "1988",
            "method": "animate"
           },
           {
            "args": [
             [
              "1989"
             ],
             {
              "frame": {
               "duration": 0,
               "redraw": true
              },
              "fromcurrent": true,
              "mode": "immediate",
              "transition": {
               "duration": 0,
               "easing": "linear"
              }
             }
            ],
            "label": "1989",
            "method": "animate"
           },
           {
            "args": [
             [
              "1990"
             ],
             {
              "frame": {
               "duration": 0,
               "redraw": true
              },
              "fromcurrent": true,
              "mode": "immediate",
              "transition": {
               "duration": 0,
               "easing": "linear"
              }
             }
            ],
            "label": "1990",
            "method": "animate"
           },
           {
            "args": [
             [
              "1991"
             ],
             {
              "frame": {
               "duration": 0,
               "redraw": true
              },
              "fromcurrent": true,
              "mode": "immediate",
              "transition": {
               "duration": 0,
               "easing": "linear"
              }
             }
            ],
            "label": "1991",
            "method": "animate"
           },
           {
            "args": [
             [
              "1992"
             ],
             {
              "frame": {
               "duration": 0,
               "redraw": true
              },
              "fromcurrent": true,
              "mode": "immediate",
              "transition": {
               "duration": 0,
               "easing": "linear"
              }
             }
            ],
            "label": "1992",
            "method": "animate"
           },
           {
            "args": [
             [
              "1993"
             ],
             {
              "frame": {
               "duration": 0,
               "redraw": true
              },
              "fromcurrent": true,
              "mode": "immediate",
              "transition": {
               "duration": 0,
               "easing": "linear"
              }
             }
            ],
            "label": "1993",
            "method": "animate"
           },
           {
            "args": [
             [
              "1994"
             ],
             {
              "frame": {
               "duration": 0,
               "redraw": true
              },
              "fromcurrent": true,
              "mode": "immediate",
              "transition": {
               "duration": 0,
               "easing": "linear"
              }
             }
            ],
            "label": "1994",
            "method": "animate"
           },
           {
            "args": [
             [
              "1995"
             ],
             {
              "frame": {
               "duration": 0,
               "redraw": true
              },
              "fromcurrent": true,
              "mode": "immediate",
              "transition": {
               "duration": 0,
               "easing": "linear"
              }
             }
            ],
            "label": "1995",
            "method": "animate"
           },
           {
            "args": [
             [
              "1996"
             ],
             {
              "frame": {
               "duration": 0,
               "redraw": true
              },
              "fromcurrent": true,
              "mode": "immediate",
              "transition": {
               "duration": 0,
               "easing": "linear"
              }
             }
            ],
            "label": "1996",
            "method": "animate"
           },
           {
            "args": [
             [
              "1997"
             ],
             {
              "frame": {
               "duration": 0,
               "redraw": true
              },
              "fromcurrent": true,
              "mode": "immediate",
              "transition": {
               "duration": 0,
               "easing": "linear"
              }
             }
            ],
            "label": "1997",
            "method": "animate"
           },
           {
            "args": [
             [
              "1998"
             ],
             {
              "frame": {
               "duration": 0,
               "redraw": true
              },
              "fromcurrent": true,
              "mode": "immediate",
              "transition": {
               "duration": 0,
               "easing": "linear"
              }
             }
            ],
            "label": "1998",
            "method": "animate"
           },
           {
            "args": [
             [
              "1999"
             ],
             {
              "frame": {
               "duration": 0,
               "redraw": true
              },
              "fromcurrent": true,
              "mode": "immediate",
              "transition": {
               "duration": 0,
               "easing": "linear"
              }
             }
            ],
            "label": "1999",
            "method": "animate"
           },
           {
            "args": [
             [
              "2000"
             ],
             {
              "frame": {
               "duration": 0,
               "redraw": true
              },
              "fromcurrent": true,
              "mode": "immediate",
              "transition": {
               "duration": 0,
               "easing": "linear"
              }
             }
            ],
            "label": "2000",
            "method": "animate"
           },
           {
            "args": [
             [
              "2001"
             ],
             {
              "frame": {
               "duration": 0,
               "redraw": true
              },
              "fromcurrent": true,
              "mode": "immediate",
              "transition": {
               "duration": 0,
               "easing": "linear"
              }
             }
            ],
            "label": "2001",
            "method": "animate"
           },
           {
            "args": [
             [
              "2002"
             ],
             {
              "frame": {
               "duration": 0,
               "redraw": true
              },
              "fromcurrent": true,
              "mode": "immediate",
              "transition": {
               "duration": 0,
               "easing": "linear"
              }
             }
            ],
            "label": "2002",
            "method": "animate"
           },
           {
            "args": [
             [
              "2003"
             ],
             {
              "frame": {
               "duration": 0,
               "redraw": true
              },
              "fromcurrent": true,
              "mode": "immediate",
              "transition": {
               "duration": 0,
               "easing": "linear"
              }
             }
            ],
            "label": "2003",
            "method": "animate"
           },
           {
            "args": [
             [
              "2004"
             ],
             {
              "frame": {
               "duration": 0,
               "redraw": true
              },
              "fromcurrent": true,
              "mode": "immediate",
              "transition": {
               "duration": 0,
               "easing": "linear"
              }
             }
            ],
            "label": "2004",
            "method": "animate"
           },
           {
            "args": [
             [
              "2005"
             ],
             {
              "frame": {
               "duration": 0,
               "redraw": true
              },
              "fromcurrent": true,
              "mode": "immediate",
              "transition": {
               "duration": 0,
               "easing": "linear"
              }
             }
            ],
            "label": "2005",
            "method": "animate"
           },
           {
            "args": [
             [
              "2006"
             ],
             {
              "frame": {
               "duration": 0,
               "redraw": true
              },
              "fromcurrent": true,
              "mode": "immediate",
              "transition": {
               "duration": 0,
               "easing": "linear"
              }
             }
            ],
            "label": "2006",
            "method": "animate"
           },
           {
            "args": [
             [
              "2007"
             ],
             {
              "frame": {
               "duration": 0,
               "redraw": true
              },
              "fromcurrent": true,
              "mode": "immediate",
              "transition": {
               "duration": 0,
               "easing": "linear"
              }
             }
            ],
            "label": "2007",
            "method": "animate"
           },
           {
            "args": [
             [
              "2008"
             ],
             {
              "frame": {
               "duration": 0,
               "redraw": true
              },
              "fromcurrent": true,
              "mode": "immediate",
              "transition": {
               "duration": 0,
               "easing": "linear"
              }
             }
            ],
            "label": "2008",
            "method": "animate"
           },
           {
            "args": [
             [
              "2009"
             ],
             {
              "frame": {
               "duration": 0,
               "redraw": true
              },
              "fromcurrent": true,
              "mode": "immediate",
              "transition": {
               "duration": 0,
               "easing": "linear"
              }
             }
            ],
            "label": "2009",
            "method": "animate"
           },
           {
            "args": [
             [
              "2010"
             ],
             {
              "frame": {
               "duration": 0,
               "redraw": true
              },
              "fromcurrent": true,
              "mode": "immediate",
              "transition": {
               "duration": 0,
               "easing": "linear"
              }
             }
            ],
            "label": "2010",
            "method": "animate"
           },
           {
            "args": [
             [
              "2011"
             ],
             {
              "frame": {
               "duration": 0,
               "redraw": true
              },
              "fromcurrent": true,
              "mode": "immediate",
              "transition": {
               "duration": 0,
               "easing": "linear"
              }
             }
            ],
            "label": "2011",
            "method": "animate"
           },
           {
            "args": [
             [
              "2012"
             ],
             {
              "frame": {
               "duration": 0,
               "redraw": true
              },
              "fromcurrent": true,
              "mode": "immediate",
              "transition": {
               "duration": 0,
               "easing": "linear"
              }
             }
            ],
            "label": "2012",
            "method": "animate"
           },
           {
            "args": [
             [
              "2013"
             ],
             {
              "frame": {
               "duration": 0,
               "redraw": true
              },
              "fromcurrent": true,
              "mode": "immediate",
              "transition": {
               "duration": 0,
               "easing": "linear"
              }
             }
            ],
            "label": "2013",
            "method": "animate"
           },
           {
            "args": [
             [
              "2014"
             ],
             {
              "frame": {
               "duration": 0,
               "redraw": true
              },
              "fromcurrent": true,
              "mode": "immediate",
              "transition": {
               "duration": 0,
               "easing": "linear"
              }
             }
            ],
            "label": "2014",
            "method": "animate"
           },
           {
            "args": [
             [
              "2015"
             ],
             {
              "frame": {
               "duration": 0,
               "redraw": true
              },
              "fromcurrent": true,
              "mode": "immediate",
              "transition": {
               "duration": 0,
               "easing": "linear"
              }
             }
            ],
            "label": "2015",
            "method": "animate"
           },
           {
            "args": [
             [
              "2016"
             ],
             {
              "frame": {
               "duration": 0,
               "redraw": true
              },
              "fromcurrent": true,
              "mode": "immediate",
              "transition": {
               "duration": 0,
               "easing": "linear"
              }
             }
            ],
            "label": "2016",
            "method": "animate"
           },
           {
            "args": [
             [
              "2017"
             ],
             {
              "frame": {
               "duration": 0,
               "redraw": true
              },
              "fromcurrent": true,
              "mode": "immediate",
              "transition": {
               "duration": 0,
               "easing": "linear"
              }
             }
            ],
            "label": "2017",
            "method": "animate"
           },
           {
            "args": [
             [
              "2018"
             ],
             {
              "frame": {
               "duration": 0,
               "redraw": true
              },
              "fromcurrent": true,
              "mode": "immediate",
              "transition": {
               "duration": 0,
               "easing": "linear"
              }
             }
            ],
            "label": "2018",
            "method": "animate"
           },
           {
            "args": [
             [
              "2019"
             ],
             {
              "frame": {
               "duration": 0,
               "redraw": true
              },
              "fromcurrent": true,
              "mode": "immediate",
              "transition": {
               "duration": 0,
               "easing": "linear"
              }
             }
            ],
            "label": "2019",
            "method": "animate"
           },
           {
            "args": [
             [
              "2020"
             ],
             {
              "frame": {
               "duration": 0,
               "redraw": true
              },
              "fromcurrent": true,
              "mode": "immediate",
              "transition": {
               "duration": 0,
               "easing": "linear"
              }
             }
            ],
            "label": "2020",
            "method": "animate"
           },
           {
            "args": [
             [
              "2021"
             ],
             {
              "frame": {
               "duration": 0,
               "redraw": true
              },
              "fromcurrent": true,
              "mode": "immediate",
              "transition": {
               "duration": 0,
               "easing": "linear"
              }
             }
            ],
            "label": "2021",
            "method": "animate"
           },
           {
            "args": [
             [
              "2022"
             ],
             {
              "frame": {
               "duration": 0,
               "redraw": true
              },
              "fromcurrent": true,
              "mode": "immediate",
              "transition": {
               "duration": 0,
               "easing": "linear"
              }
             }
            ],
            "label": "2022",
            "method": "animate"
           },
           {
            "args": [
             [
              "2023"
             ],
             {
              "frame": {
               "duration": 0,
               "redraw": true
              },
              "fromcurrent": true,
              "mode": "immediate",
              "transition": {
               "duration": 0,
               "easing": "linear"
              }
             }
            ],
            "label": "2023",
            "method": "animate"
           }
          ],
          "x": 0.1,
          "xanchor": "left",
          "y": 0,
          "yanchor": "top"
         }
        ],
        "template": {
         "data": {
          "bar": [
           {
            "error_x": {
             "color": "#2a3f5f"
            },
            "error_y": {
             "color": "#2a3f5f"
            },
            "marker": {
             "line": {
              "color": "#E5ECF6",
              "width": 0.5
             },
             "pattern": {
              "fillmode": "overlay",
              "size": 10,
              "solidity": 0.2
             }
            },
            "type": "bar"
           }
          ],
          "barpolar": [
           {
            "marker": {
             "line": {
              "color": "#E5ECF6",
              "width": 0.5
             },
             "pattern": {
              "fillmode": "overlay",
              "size": 10,
              "solidity": 0.2
             }
            },
            "type": "barpolar"
           }
          ],
          "carpet": [
           {
            "aaxis": {
             "endlinecolor": "#2a3f5f",
             "gridcolor": "white",
             "linecolor": "white",
             "minorgridcolor": "white",
             "startlinecolor": "#2a3f5f"
            },
            "baxis": {
             "endlinecolor": "#2a3f5f",
             "gridcolor": "white",
             "linecolor": "white",
             "minorgridcolor": "white",
             "startlinecolor": "#2a3f5f"
            },
            "type": "carpet"
           }
          ],
          "choropleth": [
           {
            "colorbar": {
             "outlinewidth": 0,
             "ticks": ""
            },
            "type": "choropleth"
           }
          ],
          "contour": [
           {
            "colorbar": {
             "outlinewidth": 0,
             "ticks": ""
            },
            "colorscale": [
             [
              0,
              "#0d0887"
             ],
             [
              0.1111111111111111,
              "#46039f"
             ],
             [
              0.2222222222222222,
              "#7201a8"
             ],
             [
              0.3333333333333333,
              "#9c179e"
             ],
             [
              0.4444444444444444,
              "#bd3786"
             ],
             [
              0.5555555555555556,
              "#d8576b"
             ],
             [
              0.6666666666666666,
              "#ed7953"
             ],
             [
              0.7777777777777778,
              "#fb9f3a"
             ],
             [
              0.8888888888888888,
              "#fdca26"
             ],
             [
              1,
              "#f0f921"
             ]
            ],
            "type": "contour"
           }
          ],
          "contourcarpet": [
           {
            "colorbar": {
             "outlinewidth": 0,
             "ticks": ""
            },
            "type": "contourcarpet"
           }
          ],
          "heatmap": [
           {
            "colorbar": {
             "outlinewidth": 0,
             "ticks": ""
            },
            "colorscale": [
             [
              0,
              "#0d0887"
             ],
             [
              0.1111111111111111,
              "#46039f"
             ],
             [
              0.2222222222222222,
              "#7201a8"
             ],
             [
              0.3333333333333333,
              "#9c179e"
             ],
             [
              0.4444444444444444,
              "#bd3786"
             ],
             [
              0.5555555555555556,
              "#d8576b"
             ],
             [
              0.6666666666666666,
              "#ed7953"
             ],
             [
              0.7777777777777778,
              "#fb9f3a"
             ],
             [
              0.8888888888888888,
              "#fdca26"
             ],
             [
              1,
              "#f0f921"
             ]
            ],
            "type": "heatmap"
           }
          ],
          "histogram": [
           {
            "marker": {
             "pattern": {
              "fillmode": "overlay",
              "size": 10,
              "solidity": 0.2
             }
            },
            "type": "histogram"
           }
          ],
          "histogram2d": [
           {
            "colorbar": {
             "outlinewidth": 0,
             "ticks": ""
            },
            "colorscale": [
             [
              0,
              "#0d0887"
             ],
             [
              0.1111111111111111,
              "#46039f"
             ],
             [
              0.2222222222222222,
              "#7201a8"
             ],
             [
              0.3333333333333333,
              "#9c179e"
             ],
             [
              0.4444444444444444,
              "#bd3786"
             ],
             [
              0.5555555555555556,
              "#d8576b"
             ],
             [
              0.6666666666666666,
              "#ed7953"
             ],
             [
              0.7777777777777778,
              "#fb9f3a"
             ],
             [
              0.8888888888888888,
              "#fdca26"
             ],
             [
              1,
              "#f0f921"
             ]
            ],
            "type": "histogram2d"
           }
          ],
          "histogram2dcontour": [
           {
            "colorbar": {
             "outlinewidth": 0,
             "ticks": ""
            },
            "colorscale": [
             [
              0,
              "#0d0887"
             ],
             [
              0.1111111111111111,
              "#46039f"
             ],
             [
              0.2222222222222222,
              "#7201a8"
             ],
             [
              0.3333333333333333,
              "#9c179e"
             ],
             [
              0.4444444444444444,
              "#bd3786"
             ],
             [
              0.5555555555555556,
              "#d8576b"
             ],
             [
              0.6666666666666666,
              "#ed7953"
             ],
             [
              0.7777777777777778,
              "#fb9f3a"
             ],
             [
              0.8888888888888888,
              "#fdca26"
             ],
             [
              1,
              "#f0f921"
             ]
            ],
            "type": "histogram2dcontour"
           }
          ],
          "mesh3d": [
           {
            "colorbar": {
             "outlinewidth": 0,
             "ticks": ""
            },
            "type": "mesh3d"
           }
          ],
          "parcoords": [
           {
            "line": {
             "colorbar": {
              "outlinewidth": 0,
              "ticks": ""
             }
            },
            "type": "parcoords"
           }
          ],
          "pie": [
           {
            "automargin": true,
            "type": "pie"
           }
          ],
          "scatter": [
           {
            "fillpattern": {
             "fillmode": "overlay",
             "size": 10,
             "solidity": 0.2
            },
            "type": "scatter"
           }
          ],
          "scatter3d": [
           {
            "line": {
             "colorbar": {
              "outlinewidth": 0,
              "ticks": ""
             }
            },
            "marker": {
             "colorbar": {
              "outlinewidth": 0,
              "ticks": ""
             }
            },
            "type": "scatter3d"
           }
          ],
          "scattercarpet": [
           {
            "marker": {
             "colorbar": {
              "outlinewidth": 0,
              "ticks": ""
             }
            },
            "type": "scattercarpet"
           }
          ],
          "scattergeo": [
           {
            "marker": {
             "colorbar": {
              "outlinewidth": 0,
              "ticks": ""
             }
            },
            "type": "scattergeo"
           }
          ],
          "scattergl": [
           {
            "marker": {
             "colorbar": {
              "outlinewidth": 0,
              "ticks": ""
             }
            },
            "type": "scattergl"
           }
          ],
          "scattermap": [
           {
            "marker": {
             "colorbar": {
              "outlinewidth": 0,
              "ticks": ""
             }
            },
            "type": "scattermap"
           }
          ],
          "scattermapbox": [
           {
            "marker": {
             "colorbar": {
              "outlinewidth": 0,
              "ticks": ""
             }
            },
            "type": "scattermapbox"
           }
          ],
          "scatterpolar": [
           {
            "marker": {
             "colorbar": {
              "outlinewidth": 0,
              "ticks": ""
             }
            },
            "type": "scatterpolar"
           }
          ],
          "scatterpolargl": [
           {
            "marker": {
             "colorbar": {
              "outlinewidth": 0,
              "ticks": ""
             }
            },
            "type": "scatterpolargl"
           }
          ],
          "scatterternary": [
           {
            "marker": {
             "colorbar": {
              "outlinewidth": 0,
              "ticks": ""
             }
            },
            "type": "scatterternary"
           }
          ],
          "surface": [
           {
            "colorbar": {
             "outlinewidth": 0,
             "ticks": ""
            },
            "colorscale": [
             [
              0,
              "#0d0887"
             ],
             [
              0.1111111111111111,
              "#46039f"
             ],
             [
              0.2222222222222222,
              "#7201a8"
             ],
             [
              0.3333333333333333,
              "#9c179e"
             ],
             [
              0.4444444444444444,
              "#bd3786"
             ],
             [
              0.5555555555555556,
              "#d8576b"
             ],
             [
              0.6666666666666666,
              "#ed7953"
             ],
             [
              0.7777777777777778,
              "#fb9f3a"
             ],
             [
              0.8888888888888888,
              "#fdca26"
             ],
             [
              1,
              "#f0f921"
             ]
            ],
            "type": "surface"
           }
          ],
          "table": [
           {
            "cells": {
             "fill": {
              "color": "#EBF0F8"
             },
             "line": {
              "color": "white"
             }
            },
            "header": {
             "fill": {
              "color": "#C8D4E3"
             },
             "line": {
              "color": "white"
             }
            },
            "type": "table"
           }
          ]
         },
         "layout": {
          "annotationdefaults": {
           "arrowcolor": "#2a3f5f",
           "arrowhead": 0,
           "arrowwidth": 1
          },
          "autotypenumbers": "strict",
          "coloraxis": {
           "colorbar": {
            "outlinewidth": 0,
            "ticks": ""
           }
          },
          "colorscale": {
           "diverging": [
            [
             0,
             "#8e0152"
            ],
            [
             0.1,
             "#c51b7d"
            ],
            [
             0.2,
             "#de77ae"
            ],
            [
             0.3,
             "#f1b6da"
            ],
            [
             0.4,
             "#fde0ef"
            ],
            [
             0.5,
             "#f7f7f7"
            ],
            [
             0.6,
             "#e6f5d0"
            ],
            [
             0.7,
             "#b8e186"
            ],
            [
             0.8,
             "#7fbc41"
            ],
            [
             0.9,
             "#4d9221"
            ],
            [
             1,
             "#276419"
            ]
           ],
           "sequential": [
            [
             0,
             "#0d0887"
            ],
            [
             0.1111111111111111,
             "#46039f"
            ],
            [
             0.2222222222222222,
             "#7201a8"
            ],
            [
             0.3333333333333333,
             "#9c179e"
            ],
            [
             0.4444444444444444,
             "#bd3786"
            ],
            [
             0.5555555555555556,
             "#d8576b"
            ],
            [
             0.6666666666666666,
             "#ed7953"
            ],
            [
             0.7777777777777778,
             "#fb9f3a"
            ],
            [
             0.8888888888888888,
             "#fdca26"
            ],
            [
             1,
             "#f0f921"
            ]
           ],
           "sequentialminus": [
            [
             0,
             "#0d0887"
            ],
            [
             0.1111111111111111,
             "#46039f"
            ],
            [
             0.2222222222222222,
             "#7201a8"
            ],
            [
             0.3333333333333333,
             "#9c179e"
            ],
            [
             0.4444444444444444,
             "#bd3786"
            ],
            [
             0.5555555555555556,
             "#d8576b"
            ],
            [
             0.6666666666666666,
             "#ed7953"
            ],
            [
             0.7777777777777778,
             "#fb9f3a"
            ],
            [
             0.8888888888888888,
             "#fdca26"
            ],
            [
             1,
             "#f0f921"
            ]
           ]
          },
          "colorway": [
           "#636efa",
           "#EF553B",
           "#00cc96",
           "#ab63fa",
           "#FFA15A",
           "#19d3f3",
           "#FF6692",
           "#B6E880",
           "#FF97FF",
           "#FECB52"
          ],
          "font": {
           "color": "#2a3f5f"
          },
          "geo": {
           "bgcolor": "white",
           "lakecolor": "white",
           "landcolor": "#E5ECF6",
           "showlakes": true,
           "showland": true,
           "subunitcolor": "white"
          },
          "hoverlabel": {
           "align": "left"
          },
          "hovermode": "closest",
          "mapbox": {
           "style": "light"
          },
          "paper_bgcolor": "white",
          "plot_bgcolor": "#E5ECF6",
          "polar": {
           "angularaxis": {
            "gridcolor": "white",
            "linecolor": "white",
            "ticks": ""
           },
           "bgcolor": "#E5ECF6",
           "radialaxis": {
            "gridcolor": "white",
            "linecolor": "white",
            "ticks": ""
           }
          },
          "scene": {
           "xaxis": {
            "backgroundcolor": "#E5ECF6",
            "gridcolor": "white",
            "gridwidth": 2,
            "linecolor": "white",
            "showbackground": true,
            "ticks": "",
            "zerolinecolor": "white"
           },
           "yaxis": {
            "backgroundcolor": "#E5ECF6",
            "gridcolor": "white",
            "gridwidth": 2,
            "linecolor": "white",
            "showbackground": true,
            "ticks": "",
            "zerolinecolor": "white"
           },
           "zaxis": {
            "backgroundcolor": "#E5ECF6",
            "gridcolor": "white",
            "gridwidth": 2,
            "linecolor": "white",
            "showbackground": true,
            "ticks": "",
            "zerolinecolor": "white"
           }
          },
          "shapedefaults": {
           "line": {
            "color": "#2a3f5f"
           }
          },
          "ternary": {
           "aaxis": {
            "gridcolor": "white",
            "linecolor": "white",
            "ticks": ""
           },
           "baxis": {
            "gridcolor": "white",
            "linecolor": "white",
            "ticks": ""
           },
           "bgcolor": "#E5ECF6",
           "caxis": {
            "gridcolor": "white",
            "linecolor": "white",
            "ticks": ""
           }
          },
          "title": {
           "x": 0.05
          },
          "xaxis": {
           "automargin": true,
           "gridcolor": "white",
           "linecolor": "white",
           "ticks": "",
           "title": {
            "standoff": 15
           },
           "zerolinecolor": "white",
           "zerolinewidth": 2
          },
          "yaxis": {
           "automargin": true,
           "gridcolor": "white",
           "linecolor": "white",
           "ticks": "",
           "title": {
            "standoff": 15
           },
           "zerolinecolor": "white",
           "zerolinewidth": 2
          }
         }
        },
        "title": {
         "text": "Total Population in 2023"
        },
        "updatemenus": [
         {
          "buttons": [
           {
            "args": [
             null,
             {
              "frame": {
               "duration": 500,
               "redraw": true
              },
              "fromcurrent": true,
              "mode": "immediate",
              "transition": {
               "duration": 500,
               "easing": "linear"
              }
             }
            ],
            "label": "&#9654;",
            "method": "animate"
           },
           {
            "args": [
             [
              null
             ],
             {
              "frame": {
               "duration": 0,
               "redraw": true
              },
              "fromcurrent": true,
              "mode": "immediate",
              "transition": {
               "duration": 0,
               "easing": "linear"
              }
             }
            ],
            "label": "&#9724;",
            "method": "animate"
           }
          ],
          "direction": "left",
          "pad": {
           "r": 10,
           "t": 70
          },
          "showactive": false,
          "type": "buttons",
          "x": 0.1,
          "xanchor": "right",
          "y": 0,
          "yanchor": "top"
         }
        ]
       }
      }
     },
     "metadata": {},
     "output_type": "display_data"
    }
   ],
   "source": [
    "# fetch data of world bank total population and gdp per capita for the year 2023\n",
    "import wbdata\n",
    "import pandas as pd\n",
    "import plotly.express as px\n",
    "import wbdata\n",
    "import datetime\n",
    "\n",
    "# Define the indicator for population (SP.POP.TOTL)\n",
    "indicator = {\n",
    "    'SP.POP.TOTL': 'total_population',\n",
    "    'NY.GDP.PCAP.CD': 'gdp_per_capita',\n",
    "    # net migration\n",
    "    'SM.POP.NETM': 'net_migration',\n",
    "             }\n",
    "\n",
    "# Define countries (India and Pakistan)\n",
    "countries = ['IN', 'PK', 'BD', 'LK', 'AF']  # 'IN' for India, 'PK' for Pakistan\n",
    "\n",
    "# Fetch data\n",
    "data = wbdata.get_dataframe(indicator, \n",
    "                            country=countries,\n",
    "                            )\n",
    "\n",
    "# Reset index to convert it into a DataFrame\n",
    "data.reset_index(inplace=True)\n",
    "\n",
    "# Rename columns for clarity\n",
    "data.rename(columns={'country': 'Country', 'date': 'Year'}, inplace=True)\n",
    "\n",
    "# Ensure Year column is numeric\n",
    "data['Year'] = pd.to_numeric(data['Year'])\n",
    "\n",
    "# Filter data between 1960 and 2023\n",
    "df = data[(data['Year'] <= 2023) & (data['Year'] >= 1960)]\n",
    "df.sample(5, random_state=42)\n",
    "# sort the data by Year\n",
    "df.sort_values(by='Year', inplace=True)\n",
    "# make choropleth map of total population using plotly\n",
    "fig = px.choropleth(df,\n",
    "                    animation_frame=\"Year\", \n",
    "                    locations=\"Country\",\n",
    "                    locationmode='country names',\n",
    "                    color=\"gdp_per_capita\",\n",
    "                    hover_name=\"Country\",\n",
    "                    color_continuous_scale=px.colors.sequential.Viridis, # 'Viridis',\n",
    "                    title=\"Total Population in 2023\",\n",
    "                    labels={'gdp_per_capita': 'GDP Per Capita (Current US$)'}\n",
    "                    )\n",
    "# update the plot type to orthographic\n",
    "# fig.update_geos(projection_type=\"orthographic\") # 'natural earth', 'equirectangular', 'orthographic', 'mercator', 'miller', 'robinson', 'eckert4', 'azimuthal equal area', 'azimuthal equidistant', 'conic equal area', 'conic conformal', 'conic equidistant', 'gnomonic', 'stereographic', 'mollweide', 'hammer', 'transverse mercator', 'albers usa', 'winkel tripel', 'aitoff', 'sinusoidal'\n",
    "fig.show()\n",
    "\n",
    "# save the animation as a gif\n"
   ]
  },
  {
   "cell_type": "code",
   "execution_count": 12,
   "id": "ad46d1d1",
   "metadata": {},
   "outputs": [
    {
     "ename": "ModuleNotFoundError",
     "evalue": "No module named 'moviepy.editor'",
     "output_type": "error",
     "traceback": [
      "\u001b[31m---------------------------------------------------------------------------\u001b[39m",
      "\u001b[31mModuleNotFoundError\u001b[39m                       Traceback (most recent call last)",
      "\u001b[36mCell\u001b[39m\u001b[36m \u001b[39m\u001b[32mIn[12]\u001b[39m\u001b[32m, line 5\u001b[39m\n\u001b[32m      3\u001b[39m \u001b[38;5;28;01mimport\u001b[39;00m\u001b[38;5;250m \u001b[39m\u001b[34;01mplotly\u001b[39;00m\u001b[34;01m.\u001b[39;00m\u001b[34;01mexpress\u001b[39;00m\u001b[38;5;250m \u001b[39m\u001b[38;5;28;01mas\u001b[39;00m\u001b[38;5;250m \u001b[39m\u001b[34;01mpx\u001b[39;00m\n\u001b[32m      4\u001b[39m \u001b[38;5;28;01mimport\u001b[39;00m\u001b[38;5;250m \u001b[39m\u001b[34;01mos\u001b[39;00m\n\u001b[32m----> \u001b[39m\u001b[32m5\u001b[39m \u001b[38;5;28;01mfrom\u001b[39;00m\u001b[38;5;250m \u001b[39m\u001b[34;01mmoviepy\u001b[39;00m\u001b[34;01m.\u001b[39;00m\u001b[34;01meditor\u001b[39;00m\u001b[38;5;250m \u001b[39m\u001b[38;5;28;01mimport\u001b[39;00m ImageSequenceClip\n\u001b[32m      7\u001b[39m \u001b[38;5;66;03m# Define the indicator for population (SP.POP.TOTL) and GDP per capita (NY.GDP.PCAP.CD)\u001b[39;00m\n\u001b[32m      8\u001b[39m indicator = {\n\u001b[32m      9\u001b[39m     \u001b[33m'\u001b[39m\u001b[33mSP.POP.TOTL\u001b[39m\u001b[33m'\u001b[39m: \u001b[33m'\u001b[39m\u001b[33mtotal_population\u001b[39m\u001b[33m'\u001b[39m,\n\u001b[32m     10\u001b[39m     \u001b[33m'\u001b[39m\u001b[33mNY.GDP.PCAP.CD\u001b[39m\u001b[33m'\u001b[39m: \u001b[33m'\u001b[39m\u001b[33mgdp_per_capita\u001b[39m\u001b[33m'\u001b[39m,\n\u001b[32m     11\u001b[39m }\n",
      "\u001b[31mModuleNotFoundError\u001b[39m: No module named 'moviepy.editor'"
     ]
    }
   ],
   "source": [
    "import wbdata\n",
    "import pandas as pd\n",
    "import plotly.express as px\n",
    "import os\n",
    "from moviepy.editor import ImageSequenceClip\n",
    "\n",
    "# Define the indicator for population (SP.POP.TOTL) and GDP per capita (NY.GDP.PCAP.CD)\n",
    "indicator = {\n",
    "    'SP.POP.TOTL': 'total_population',\n",
    "    'NY.GDP.PCAP.CD': 'gdp_per_capita',\n",
    "}\n",
    "\n",
    "# Define countries\n",
    "# countries = ['IN', 'PK', 'BD', 'LK', 'AF']\n",
    "\n",
    "# Fetch data\n",
    "data = wbdata.get_dataframe(indicator, \n",
    "                            # country=countries,\n",
    "                            )\n",
    "data.reset_index(inplace=True)\n",
    "data.rename(columns={'country': 'Country', 'date': 'Year'}, inplace=True)\n",
    "data['Year'] = pd.to_numeric(data['Year'])\n",
    "\n",
    "# Handle missing values\n",
    "# Replace missing gdp_per_capita and total_population with 0\n",
    "data['gdp_per_capita'] = data['gdp_per_capita'].fillna(0)\n",
    "data['total_population'] = data['total_population'].fillna(0)\n",
    "\n",
    "# Filter data for valid years\n",
    "df = data[(data['Year'] <= 2023) & (data['Year'] >= 1960)]\n",
    "df.sort_values(by='Year', inplace=True)\n",
    "\n",
    "# Check for missing or invalid data after filtering\n",
    "if df.isnull().values.any():\n",
    "    print(\"Data still contains missing values. Please check.\")\n",
    "    print(df[df.isnull().any(axis=1)])  # Print rows with missing values\n",
    "\n",
    "# Directory to save frames\n",
    "frames_dir = \"frames_map\"\n",
    "os.makedirs(frames_dir, exist_ok=True)\n",
    "\n",
    "# Save each frame as an image\n",
    "unique_years = df['Year'].unique()\n",
    "for i, year in enumerate(unique_years):\n",
    "    # Filter data for the current year\n",
    "    filtered_df = df[df['Year'] == year]\n",
    "    \n",
    "    # Create the choropleth map for the current year\n",
    "    frame_fig = px.choropleth(\n",
    "        filtered_df,\n",
    "        locations=\"Country\",\n",
    "        locationmode='country names',\n",
    "        color=\"gdp_per_capita\",\n",
    "        hover_name=\"Country\",\n",
    "        color_continuous_scale=px.colors.sequential.Viridis,\n",
    "        title=f\"GDP Per Capita (Current US$) - {year}\",\n",
    "        labels={'gdp_per_capita': 'GDP Per Capita'}\n",
    "    )\n",
    "    \n",
    "    # Save the frame image using Kaleido\n",
    "    frame_filename = os.path.join(frames_dir, f\"frame_{i:03d}.png\")\n",
    "    frame_fig.write_image(frame_filename, engine=\"kaleido\")\n",
    "\n",
    "# Create a GIF or MP4 using moviepy\n",
    "image_files = [os.path.join(frames_dir, f) for f in sorted(os.listdir(frames_dir)) if f.endswith('.png')]\n",
    "clip = ImageSequenceClip(image_files, fps=2)  # Adjust FPS for animation speed\n",
    "\n",
    "# Save as GIF\n",
    "clip.write_gif(\"plot.gif\", fps=2)\n",
    "\n",
    "# # Save as MP4\n",
    "# clip.write_videofile(\"./05_maps_animation/animated_map.mp4\", fps=2)\n",
    "\n",
    "# # Save HD video\n",
    "# clip.write_videofile(\"./05_maps_animation/animated_map_HD.mp4\", fps=2, codec=\"libx264\", preset=\"ultrafast\", bitrate=\"3000k\")"
   ]
  },
  {
   "cell_type": "code",
   "execution_count": null,
   "id": "da5b075c",
   "metadata": {},
   "outputs": [
    {
     "name": "stdout",
     "output_type": "stream",
     "text": [
      "Note: you may need to restart the kernel to use updated packages.\n"
     ]
    },
    {
     "name": "stderr",
     "output_type": "stream",
     "text": [
      "ERROR: Could not find a version that satisfies the requirement moviepy.editor (from versions: none)\n",
      "ERROR: No matching distribution found for moviepy.editor\n"
     ]
    }
   ],
   "source": [
    "pip install moviepy.editor"
   ]
  },
  {
   "cell_type": "code",
   "execution_count": 13,
   "id": "7af48731",
   "metadata": {},
   "outputs": [
    {
     "name": "stdout",
     "output_type": "stream",
     "text": [
      "Requirement already satisfied: moviepy in c:\\users\\dell\\miniconda3\\envs\\data_science\\lib\\site-packages (2.1.2)\n",
      "Requirement already satisfied: decorator<6.0,>=4.0.2 in c:\\users\\dell\\miniconda3\\envs\\data_science\\lib\\site-packages (from moviepy) (5.2.1)\n",
      "Requirement already satisfied: imageio<3.0,>=2.5 in c:\\users\\dell\\miniconda3\\envs\\data_science\\lib\\site-packages (from moviepy) (2.37.0)\n",
      "Requirement already satisfied: imageio_ffmpeg>=0.2.0 in c:\\users\\dell\\miniconda3\\envs\\data_science\\lib\\site-packages (from moviepy) (0.6.0)\n",
      "Requirement already satisfied: numpy>=1.25.0 in c:\\users\\dell\\miniconda3\\envs\\data_science\\lib\\site-packages (from moviepy) (2.2.4)\n",
      "Requirement already satisfied: proglog<=1.0.0 in c:\\users\\dell\\miniconda3\\envs\\data_science\\lib\\site-packages (from moviepy) (0.1.11)\n",
      "Requirement already satisfied: python-dotenv>=0.10 in c:\\users\\dell\\miniconda3\\envs\\data_science\\lib\\site-packages (from moviepy) (1.1.0)\n",
      "Requirement already satisfied: pillow<11.0,>=9.2.0 in c:\\users\\dell\\miniconda3\\envs\\data_science\\lib\\site-packages (from moviepy) (10.4.0)\n",
      "Requirement already satisfied: tqdm in c:\\users\\dell\\miniconda3\\envs\\data_science\\lib\\site-packages (from proglog<=1.0.0->moviepy) (4.67.1)\n",
      "Requirement already satisfied: colorama in c:\\users\\dell\\miniconda3\\envs\\data_science\\lib\\site-packages (from tqdm->proglog<=1.0.0->moviepy) (0.4.6)\n",
      "Note: you may need to restart the kernel to use updated packages.\n"
     ]
    }
   ],
   "source": [
    "pip install moviepy"
   ]
  }
 ],
 "metadata": {
  "kernelspec": {
   "display_name": "Data_Science",
   "language": "python",
   "name": "python3"
  },
  "language_info": {
   "codemirror_mode": {
    "name": "ipython",
    "version": 3
   },
   "file_extension": ".py",
   "mimetype": "text/x-python",
   "name": "python",
   "nbconvert_exporter": "python",
   "pygments_lexer": "ipython3",
   "version": "3.12.9"
  }
 },
 "nbformat": 4,
 "nbformat_minor": 5
}
